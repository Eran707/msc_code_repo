{
 "cells": [
  {
   "cell_type": "markdown",
   "id": "41c37acb",
   "metadata": {},
   "source": [
    "## Imports"
   ]
  },
  {
   "cell_type": "code",
   "execution_count": 1,
   "id": "7287b0ce",
   "metadata": {},
   "outputs": [
    {
     "name": "stdout",
     "output_type": "stream",
     "text": [
      "All relevant classes imported\n"
     ]
    }
   ],
   "source": [
    "\n",
    "\n",
    "try:\n",
    "        \n",
    "    import h5py\n",
    "    \n",
    "    from ipywidgets import widgets, Layout, interact, interactive, interactive_output, Dropdown\n",
    "    from IPython.display import display\n",
    "    import matplotlib.pyplot as mplt\n",
    "    import scipy\n",
    "    from sympy import symbols, Eq, solve\n",
    "    import numpy as np\n",
    "    import random\n",
    "    import seaborn as sns \n",
    "    import pandas as pd\n",
    "    import graphing as gr\n",
    "    #!pip install viola\n",
    "    ########## Modules required for artist drawing on matplotlib\n",
    "    import matplotlib.path as mpath\n",
    "    import matplotlib.lines as mlines\n",
    "    import matplotlib.patches as mpatches\n",
    "    from matplotlib.collections import PatchCollection\n",
    "    \n",
    "      \n",
    "except ModuleNotFoundError:\n",
    "        print(\"A class you are trying to import is not present in the directory\")\n",
    "    \n",
    "except Exception:\n",
    "        print(\"Something went wrong - modules have not been imported\")\n",
    "\n",
    "else: \n",
    "    print(\"All relevant classes imported\")"
   ]
  },
  {
   "cell_type": "markdown",
   "id": "2b5f6b1e",
   "metadata": {},
   "source": [
    "## File selection"
   ]
  },
  {
   "cell_type": "code",
   "execution_count": 2,
   "id": "91d09acc",
   "metadata": {},
   "outputs": [
    {
     "data": {
      "application/vnd.jupyter.widget-view+json": {
       "model_id": "e6a7191986f143e19aea3b587075f94b",
       "version_major": 2,
       "version_minor": 0
      },
      "text/plain": [
       "Text(value=' Exp5-4', description='File1 (-0.85)')"
      ]
     },
     "metadata": {},
     "output_type": "display_data"
    },
    {
     "data": {
      "application/vnd.jupyter.widget-view+json": {
       "model_id": "8f4b96fa76484788b8d511b79fad0b67",
       "version_major": 2,
       "version_minor": 0
      },
      "text/plain": [
       "Text(value=' Exp5-5', description='File2 (-0.65)')"
      ]
     },
     "metadata": {},
     "output_type": "display_data"
    },
    {
     "data": {
      "application/vnd.jupyter.widget-view+json": {
       "model_id": "08f6cc11264e407784ec837c4e4f7998",
       "version_major": 2,
       "version_minor": 0
      },
      "text/plain": [
       "Text(value=' Exp5-6', description='File3 (-1.05)')"
      ]
     },
     "metadata": {},
     "output_type": "display_data"
    },
    {
     "data": {
      "application/vnd.jupyter.widget-view+json": {
       "model_id": "b0dff2b9b52149449558acf1e920df43",
       "version_major": 2,
       "version_minor": 0
      },
      "text/plain": [
       "Button(button_style='success', description='Select files', style=ButtonStyle())"
      ]
     },
     "metadata": {},
     "output_type": "display_data"
    },
    {
     "data": {
      "application/vnd.jupyter.widget-view+json": {
       "model_id": "54a75195779240a5bea162dfe9799e1f",
       "version_major": 2,
       "version_minor": 0
      },
      "text/plain": [
       "Output()"
      ]
     },
     "metadata": {},
     "output_type": "display_data"
    },
    {
     "name": "stdout",
     "output_type": "stream",
     "text": [
      "\\ Exp5-4 file found... loading content\n",
      "\\ Exp5-4 content loaded into memory\n",
      "\\ Exp5-9 file found... loading content\n",
      "\\ Exp5-9 content loaded into memory\n",
      "\\ Exp5-10 file found... loading content\n",
      "\\ Exp5-10 content loaded into memory\n"
     ]
    }
   ],
   "source": [
    "#######################################################\n",
    "#### GUI \n",
    "\n",
    "edt_filename_1 = widgets.Text(description = 'File1 (-0.85)', value=' Exp5-4')\n",
    "edt_filename_2 = widgets.Text(description = 'File2 (-0.65)', value=' Exp5-5')\n",
    "edt_filename_3 = widgets.Text(description = 'File3 (-1.05)', value=' Exp5-6')\n",
    "btn_select = widgets.Button(description = 'Select files',button_style='success')\n",
    "output_file = widgets.Output()\n",
    "\n",
    "display(edt_filename_1, edt_filename_2, edt_filename_3, btn_select,output_file)\n",
    "\n",
    "\n",
    "\n",
    "#######################################################\n",
    "#### FUNCTIONS\n",
    "\n",
    "\n",
    "#df_flux = pd.DataFrame({'Compartment':[],'Na_net':[], 'Na_leak':[],'Na_Atpase':[], 'K_net':[],'K_leak':[],'K_Atpase':[],'K_kcc2':[], 'Cl_net':[],'Cl_kcc2':[],'X':[],'z':[]  })\n",
    "df_ed = pd.DataFrame({'Boundary':[],'Na':[],'K':[],'Cl':[]})\n",
    "\n",
    "\n",
    "\n",
    "def btn_select_clicked(b):\n",
    "    \n",
    "    \n",
    "    global filename_1 , filename_2, filename_3\n",
    "    \n",
    "    filename_1 = \"\\\\\"\n",
    "    filename_1 = filename_1 + edt_filename_1.value \n",
    "    \n",
    "    filename_2 = \"\\\\\"\n",
    "    filename_2 = filename_2 + edt_filename_2.value \n",
    "    \n",
    "    \n",
    "    filename_3 = \"\\\\\"\n",
    "    filename_3 = filename_3 + edt_filename_3.value \n",
    "    \n",
    "    \n",
    "    ##### FILE 1 data\n",
    "    \n",
    "    try: \n",
    "        with h5py.File(filename_1, mode='r') as hdf:\n",
    "            \n",
    "            print(filename_1+\" file found... loading content\") \n",
    "            global C, comp_names_arr, intervals, interval_arr, t_arr, f1_v_arr\n",
    "            C = hdf.get('COMPARTMENTS')\n",
    "            C_group_arr =[]\n",
    "            t_arr_bool = True\n",
    "            comp_names_arr= list(C.keys())\n",
    "                        \n",
    "            C1 = C.get(comp_names_arr[0])\n",
    "            \n",
    "            T = hdf.get('TIMING')\n",
    "            total_t = T.get('TOTAL_T')[()]\n",
    "            intervals = T.get('INTERVALS')[()]\n",
    "            dt = T.get(\"DT\")[()]\n",
    "            total_steps = total_t /dt          \n",
    "            interval_step = total_steps / intervals\n",
    "            interval_arr = [round(interval_step * i) for i in range(intervals)]\n",
    "            \n",
    "\n",
    "            t_arr =[]\n",
    "            f1_v_arr = []        \n",
    "            ##### LOADING COMPARTMENT DATA\n",
    "            \n",
    "            for i in range(len(comp_names_arr)):\n",
    "                C_group = C.get(comp_names_arr[i])\n",
    "                C_group_arr.append(C_group)\n",
    "                v_arr = []\n",
    "                for j in range(len(list(C_group.keys()))):\n",
    "                    dataset = C_group.get(str(interval_arr[j]))\n",
    "                    v_arr.append(dataset[-3])\n",
    "                    if t_arr_bool == True:\n",
    "                        t_arr.append(dataset[0]*1e3)\n",
    "                f1_v_arr.append(v_arr)    \n",
    "                t_arr_bool = False\n",
    "                \n",
    "            print(filename_1+\" content loaded into memory\") \n",
    "            \n",
    "    except: \n",
    "        raise(filename_1+\" not found\")\n",
    "        raise(\"File needs to be in base directory\")\n",
    "        \n",
    "     ##### FILE 2 data\n",
    "    \n",
    "    try: \n",
    "        with h5py.File(filename_2, mode='r') as hdf:\n",
    "            \n",
    "            print(filename_2+\" file found... loading content\") \n",
    "            global f2_v_arr\n",
    "            C = hdf.get('COMPARTMENTS')\n",
    "            C_group_arr =[]\n",
    "            f2_v_arr = []        \n",
    "            ##### LOADING COMPARTMENT DATA\n",
    "            comp_names_arr= list(C.keys())\n",
    "            for i in range(len(comp_names_arr)):\n",
    "                C_group = C.get(comp_names_arr[i])\n",
    "                C_group_arr.append(C_group)\n",
    "                v_arr = []\n",
    "                for j in range(len(list(C_group.keys()))):\n",
    "                    dataset = C_group.get(str(interval_arr[j]))\n",
    "                    v_arr.append(dataset[-3])\n",
    "                f2_v_arr.append(v_arr)    \n",
    "\n",
    "            print(filename_2+\" content loaded into memory\") \n",
    "            \n",
    "    except: \n",
    "        raise(filename_2+\" not found\")\n",
    "        raise(\"File needs to be in base directory\")\n",
    "          \n",
    "                \n",
    "     ##### FILE 3 data\n",
    "    \n",
    "    try: \n",
    "        with h5py.File(filename_3, mode='r') as hdf:\n",
    "            \n",
    "            print(filename_3+\" file found... loading content\") \n",
    "            global f3_v_arr\n",
    "            C = hdf.get('COMPARTMENTS')\n",
    "            C_group_arr =[]\n",
    "            f3_v_arr = []        \n",
    "            ##### LOADING COMPARTMENT DATA\n",
    "            \n",
    "            for i in range(len(comp_names_arr)):\n",
    "                C_group = C.get(comp_names_arr[i])\n",
    "                C_group_arr.append(C_group)\n",
    "                v_arr = []\n",
    "                for j in range(len(list(C_group.keys()))):\n",
    "                    dataset = C_group.get(str(interval_arr[j]))\n",
    "                    v_arr.append(dataset[-3])\n",
    "                f3_v_arr.append(v_arr)    \n",
    "\n",
    "            print(filename_3+\" content loaded into memory\") \n",
    "            \n",
    "    except: \n",
    "        raise(filename_3+\" not found\")\n",
    "        raise(\"File needs to be in base directory\")\n",
    "          \n",
    "        \n",
    "\n",
    "btn_select.on_click(btn_select_clicked)\n",
    "\n",
    "\n",
    "btn_select.on_click(btn_select_clicked)"
   ]
  },
  {
   "cell_type": "code",
   "execution_count": 3,
   "id": "0fd90b50",
   "metadata": {
    "scrolled": false
   },
   "outputs": [
    {
     "data": {
      "text/plain": [
       "Text(0.5, 0, 'Time (ms)')"
      ]
     },
     "execution_count": 3,
     "metadata": {},
     "output_type": "execute_result"
    },
    {
     "data": {
      "image/png": "[encoded data removed]",
      "text/plain": [
       "<Figure size 648x216 with 3 Axes>"
      ]
     },
     "metadata": {
      "needs_background": "light"
     },
     "output_type": "display_data"
    },
    {
     "data": {
      "image/png": "[encoded data removed]",
      "text/plain": [
       "<Figure size 648x216 with 3 Axes>"
      ]
     },
     "metadata": {
      "needs_background": "light"
     },
     "output_type": "display_data"
    },
    {
     "data": {
      "image/png": "[encoded data removed]",
      "text/plain": [
       "<Figure size 648x216 with 3 Axes>"
      ]
     },
     "metadata": {
      "needs_background": "light"
     },
     "output_type": "display_data"
    }
   ],
   "source": [
    "\n",
    "f5a, [ax1,ax2,ax3] = mplt.subplots(1,3,figsize=(9,3), sharey=True, sharex=True) \n",
    "sns.despine()\n",
    "\n",
    "color_arr = ['#ed217c','#000000','#6c0f78']\n",
    "\n",
    "############################################### \n",
    "#TOP ROW\n",
    "###############################################\n",
    "\n",
    "\n",
    "\n",
    "v_arr = [f1_v_arr[8][j]*1e3 for j in range(len(t_arr))]\n",
    "ax2.plot(t_arr[::], v_arr[::], '-',  label=\"Comp8\",color=color_arr[1])\n",
    "\n",
    "baseline_8_x = t_arr[::]\n",
    "baseline_8_y = [v_arr[20] for i in range(len(t_arr))]\n",
    "\n",
    "ax2.plot(baseline_8_x, baseline_8_y,'-',color='gray')\n",
    "ax2.legend()\n",
    "ax2.set_title(\"z=-0.85\")\n",
    "\n",
    "v_arr = [f2_v_arr[8][j]*1e3 for j in range(len(t_arr))]\n",
    "ax1.plot(t_arr[::], v_arr[::],'-', label=\"Comp8\",color=color_arr[0])\n",
    "ax1.plot(baseline_8_x,baseline_8_y,'-',color='gray')\n",
    "ax1.legend()\n",
    "ax1.set_title(\"z=-0.65\")\n",
    "\n",
    "\n",
    "v_arr = [f3_v_arr[8][j]*1e3 for j in range(len(t_arr))]\n",
    "ax3.plot(t_arr[::], v_arr[::], '-', label=\"Comp8\",color=color_arr[2])\n",
    "ax3.plot(baseline_8_x,baseline_8_y,'-',color='gray')\n",
    "ax3.legend()\n",
    "ax3.set_title(\"z=-1.05\")\n",
    "\n",
    "#ax1.get_xaxis().set_visible(False)\n",
    "ax1.set_ylabel(\"Membrane Potential (mV)\")\n",
    "ax1.set_xlabel(\"Time (ms)\")\n",
    "#ax1.set_ylim([-75,-52.5])\n",
    "#ax1.set_yticks([-70,-65,-60,-55])\n",
    "\n",
    "f5b, [ax4,ax5,ax6] = mplt.subplots(1,3,figsize=(9,3), sharey=True, sharex=True) \n",
    "sns.despine()\n",
    "\n",
    "color_arr = ['#ed217c','#000000','#6c0f78']\n",
    "\n",
    "############################################\n",
    "# MIDDLE ROW\n",
    "############################################\n",
    "\n",
    "v_arr = [f1_v_arr[4][j]*1e3 for j in range(len(t_arr))]\n",
    "ax5.plot(t_arr[::], v_arr[::], '--',  label=\"Comp4\",color=color_arr[1])\n",
    "ax5.legend()\n",
    "baseline_4_x = t_arr[::]\n",
    "baseline_4_y = [v_arr[20] for i in range(len(t_arr))]\n",
    "\n",
    "ax5.plot(baseline_4_x,baseline_4_y,'--',color='gray')\n",
    "\n",
    "\n",
    "v_arr = [f2_v_arr[4][j]*1e3 for j in range(len(t_arr))]\n",
    "ax4.plot(t_arr[::], v_arr[::],'--', label=\"Comp4\",color=color_arr[0])\n",
    "ax4.plot(baseline_4_x,baseline_4_y,'--',color='gray')\n",
    "ax4.set_ylabel(\"Membrane Potential (mV)\")\n",
    "ax4.set_xlabel(\"Time (ms)\")\n",
    "\n",
    "ax4.legend()\n",
    "\n",
    "#ax2.set_title(\"z=-0.85\")\n",
    "\n",
    "v_arr = [f3_v_arr[4][j]*1e3 for j in range(len(t_arr))]\n",
    "ax6.plot(t_arr[::], v_arr[::], '--', label=\"Comp4\",color=color_arr[2])\n",
    "ax6.plot(baseline_4_x,baseline_4_y,'--',color='gray')\n",
    "ax6.legend()\n",
    "#ax3.set_title(\"z=-1.05\")\n",
    "\n",
    "#ax1.get_xaxis().set_visible(False)\n",
    "\n",
    "#ax1.set_ylim([-75,-52.5])\n",
    "#ax1.set_yticks([-70,-65,-60,-55])\n",
    "\n",
    "\n",
    "f5b, [ax7,ax8,ax9] = mplt.subplots(1,3,figsize=(9,3), sharey=True, sharex=True) \n",
    "sns.despine()\n",
    "\n",
    "color_arr = ['#ed217c','#000000','#6c0f78']\n",
    "\n",
    "########################################################\n",
    "#BOTTOM ROW\n",
    "#########################################################\n",
    "v_arr = [f1_v_arr[0][j]*1e3 for j in range(len(t_arr))]\n",
    "\n",
    "ax8.plot(t_arr[::], v_arr[::], '-.',  label=\"Comp0(Soma)\",color=color_arr[1])\n",
    "baseline_0_x = t_arr[::]\n",
    "baseline_0_y = [v_arr[20] for i in range(len(t_arr))]\n",
    "\n",
    "ax8.plot(baseline_0_x,baseline_0_y,'-.',color='gray')\n",
    "\n",
    "ax8.legend( loc='upper right')\n",
    "\n",
    "\n",
    "v_arr = [f2_v_arr[0][j]*1e3 for j in range(len(t_arr))]\n",
    "ax7.plot(t_arr[::], v_arr[::],'-.', label=\"Comp0(Soma)\",color=color_arr[0])\n",
    "ax7.legend( loc='upper right')\n",
    "#ax1.set_title(\"z=-0.65\")\n",
    "\n",
    "\n",
    "\n",
    "v_arr = [f3_v_arr[0][j]*1e3 for j in range(len(t_arr))]\n",
    "ax9.plot(t_arr[::], v_arr[::], '-.', label=\"Comp0(Soma)\",color=color_arr[2])\n",
    "ax9.legend( loc='upper right')\n",
    "ax9.plot(baseline_0_x,baseline_0_y,'-.',color='gray')\n",
    "#ax3.set_title(\"z=-1.05\")\n",
    "\n",
    "#ax1.get_xaxis().set_visible(False)\n",
    "ax7.plot(baseline_0_x,baseline_0_y,'-.',color='gray')\n",
    "ax7.set_ylabel(\"Membrane Potential (mV)\")\n",
    "ax7.set_xlabel(\"Time (ms)\")\n",
    "#ax1.set_ylim([-75,-52.5])\n",
    "#ax1.set_yticks([-70,-65,-60,-55])\n",
    "\n"
   ]
  },
  {
   "cell_type": "code",
   "execution_count": null,
   "id": "a1e6183f",
   "metadata": {},
   "outputs": [],
   "source": []
  }
 ],
 "metadata": {
  "kernelspec": {
   "display_name": "Python 3 (ipykernel)",
   "language": "python",
   "name": "python3"
  },
  "language_info": {
   "codemirror_mode": {
    "name": "ipython",
    "version": 3
   },
   "file_extension": ".py",
   "mimetype": "text/x-python",
   "name": "python",
   "nbconvert_exporter": "python",
   "pygments_lexer": "ipython3",
   "version": "3.9.7"
  }
 },
 "nbformat": 4,
 "nbformat_minor": 5
}
