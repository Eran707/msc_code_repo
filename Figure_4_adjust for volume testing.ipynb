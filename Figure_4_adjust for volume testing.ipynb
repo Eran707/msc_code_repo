{
 "cells": [
  {
   "cell_type": "code",
   "execution_count": 32,
   "id": "5d5350c7",
   "metadata": {},
   "outputs": [
    {
     "name": "stdout",
     "output_type": "stream",
     "text": [
      "m = 0.08095556999999994\n",
      "b = 0.22459507850000004\n",
      "n = -0.0809555699999999\n",
      "c = 0.08697060950000013\n",
      "Actual = 0.17279028 -- Prediction = 0.1719739580000001\n",
      "Actual = 0.17279028 -- Adjustment= 0.13959173000000005\n",
      "Actual = 0.1634392 -- Prediction = 0.1638784010000001\n",
      "Actual = 0.1634392 -- Adjustment= 0.14768728700000006\n",
      "Actual = 0.15498788 -- Prediction = 0.1557828440000001\n",
      "Actual = 0.15498788 -- Adjustment= 0.15578284400000003\n",
      "Actual = 0.14732953 -- Prediction = 0.1476872870000001\n",
      "Actual = 0.14732953 -- Adjustment= 0.163878401\n",
      "Actual = 0.14036733 -- Prediction = 0.1395917300000001\n",
      "Actual = 0.14036733 -- Adjustment= 0.17197395800000004\n"
     ]
    },
    {
     "data": {
      "text/plain": [
       "<matplotlib.legend.Legend at 0x2d3c260fac0>"
      ]
     },
     "execution_count": 32,
     "metadata": {},
     "output_type": "execute_result"
    },
    {
     "data": {
      "image/png": "[encoded data removed]",
      "text/plain": [
       "<Figure size 432x288 with 1 Axes>"
      ]
     },
     "metadata": {
      "needs_background": "light"
     },
     "output_type": "display_data"
    }
   ],
   "source": [
    "# predicting x based on z\n",
    "import numpy as np\n",
    "import matplotlib.pyplot as mplt\n",
    "import scipy\n",
    "\n",
    "x_conc_arr = np.array((0.17279028, 0.1634392,  0.15498788, 0.14732953, 0.14036733))\n",
    "z_arr = np.array((-0.65, -0.75, -0.85, -0.95, -1.05))\n",
    "vol_arr = np.array((1.40815998e-14, 1.48872703e-14, 1.56990562e-14, 1.65151107e-14,\n",
    " 1.73342576e-14))\n",
    "# increasing x causes volume to increase linearly\n",
    "# decreasing z causes volume to increase linearly\n",
    "\n",
    "mplt.plot(z_arr, x_conc_arr, 'bo', label = \"Actual\")\n",
    "\n",
    "m,b = np.polyfit(z_arr, x_conc_arr,1)\n",
    "\n",
    "def predict_x(z,m,b):\n",
    "    # x = m.z +b\n",
    "    \n",
    "    x = z*m +b\n",
    "    return x\n",
    "\n",
    "reverse_x_conc_arr = np.flip(x_conc_arr,0)\n",
    "\n",
    "n,c = np.polyfit(z_arr, reverse_x_conc_arr,1)\n",
    "\n",
    "def adjust_x(z,n,c):\n",
    "    #reflect about y=x\n",
    "    # x = nz+c\n",
    "    x = n*z +c\n",
    "    return x\n",
    "\n",
    "print(\"m = \" + str(m))\n",
    "print(\"b = \" + str(b))\n",
    "print(\"n = \" + str(n))\n",
    "print(\"c = \" + str(c))\n",
    "predict_arr = []\n",
    "adjust_arr = []\n",
    "for i in range(len(z_arr)):\n",
    "    prediction = predict_x(z_arr[i],m,b)\n",
    "    print(\"Actual = \"+str(x_conc_arr[i])+\" -- Prediction = \"+ str(prediction))\n",
    "    predict_arr.append(prediction)\n",
    "    adjustment = adjust_x(z_arr[i],n,c)\n",
    "    print(\"Actual = \"+str(x_conc_arr[i])+\" -- Adjustment= \"+ str(adjustment))\n",
    "    adjust_arr.append(adjustment)\n",
    "    \n",
    "mplt.plot(z_arr, predict_arr, \"r*\", label=\"Predicted\")\n",
    "mplt.plot(z_arr, adjust_arr, \"g*\", label=\"Adjusted\")\n",
    "mplt.xlabel(\"z\")\n",
    "mplt.ylabel(\"X\")\n",
    "\n",
    "mplt.legend()\n"
   ]
  },
  {
   "cell_type": "code",
   "execution_count": 50,
   "id": "ce7e6869",
   "metadata": {},
   "outputs": [
    {
     "name": "stdout",
     "output_type": "stream",
     "text": [
      "o = -10759473340793.512\n",
      "d = 0.03816464160798604\n",
      "Linear R² = 0.9954883837909994\n",
      "[0.07367487142329418, 0.07930945509633314, 0.0849868077834965, 0.09069401359779646, 0.09642284659907983]\n",
      "exponential R² = 0.9986661420710717\n"
     ]
    },
    {
     "data": {
      "text/plain": [
       "<matplotlib.legend.Legend at 0x2d3c266d7f0>"
      ]
     },
     "execution_count": 50,
     "metadata": {},
     "output_type": "execute_result"
    },
    {
     "data": {
      "image/png": "[encoded data removed]",
      "text/plain": [
       "<Figure size 432x288 with 1 Axes>"
      ]
     },
     "metadata": {
      "needs_background": "light"
     },
     "output_type": "display_data"
    }
   ],
   "source": [
    "# predicting volume with xz and not just predicting x\n",
    "import scipy.optimize\n",
    "\n",
    "x_arr = np.array((0.17279028, 0.1634392,  0.15498788, 0.14732953, 0.14036733))\n",
    "z_arr = np.array((-0.65, -0.75, -0.85, -0.95, -1.05))\n",
    "vol_arr = np.array((1.40815998e-14, 1.48872703e-14, 1.56990562e-14, 1.65151107e-14,\n",
    " 1.73342576e-14))\n",
    "xz_arr = x_arr*z_arr\n",
    "\n",
    "mplt.plot(vol_arr, xz_arr,'bo',label = \"actual\" )\n",
    "\n",
    "o,d = np.polyfit(vol_arr, xz_arr,1)\n",
    "\n",
    "print(\"o = \" + str(o))\n",
    "print(\"d = \" + str(d))\n",
    "\n",
    "def calc_xz(vol, o,d):\n",
    "    # xz = vol*o +d\n",
    "    xz= vol*o +d\n",
    "    return xz\n",
    "    \n",
    "predict_xz_arr = []\n",
    "for i in range(len(vol_arr)):\n",
    "    predict_xz_arr.append(calc_xz(vol_arr[i],o,d))\n",
    "\n",
    "predict_xz_arr = np.array(predict_xz_arr)\n",
    "# determine quality of the fit\n",
    "squaredDiffs = np.square(xz_arr - predict_xz_arr)\n",
    "squaredDiffsFromMean = np.square(xz_arr - np.mean(xz_arr))\n",
    "rSquared = 1 - np.sum(squaredDiffs) / np.sum(squaredDiffsFromMean)\n",
    "print(f\"Linear R² = {rSquared}\")\n",
    "    \n",
    "mplt.plot(vol_arr, predict_xz_arr, 'r-', label = \"linear - predicted\")\n",
    "\n",
    "\n",
    "chosen_vol = 1.56990562e-14\n",
    "chosen_z = -0.65\n",
    "\n",
    "def calc_x(z,vol,o,d):\n",
    "    xz = calc_xz(vol,o,d)\n",
    "    x = xz*z\n",
    "    return x\n",
    "\n",
    "predicted_x = calc_x(chosen_z,chosen_vol,o,d)\n",
    "\n",
    "predict_x_arr = []\n",
    "for i in range(len(vol_arr)):\n",
    "    predict_x_arr.append(calc_x(chosen_z, vol_arr[i],o,d))\n",
    "\n",
    "print(predict_x_arr)\n",
    "\n",
    "\n",
    "def monoExp(x, m, t, b):\n",
    "    return m * np.log(t * x) + b\n",
    "\n",
    "############## \n",
    "# plotting an exponential line of best fit\n",
    "p0 = (40200525428561.67, .1, 0) # start with values near those we expect\n",
    "params, cv = scipy.optimize.curve_fit(monoExp, vol_arr, xz_arr, p0)\n",
    "m, t, b = params\n",
    "sampleRate = 20_000 # Hz\n",
    "tauSec = (1 / t) / sampleRate\n",
    "\n",
    "\n",
    "# determine quality of the fit\n",
    "squaredDiffs = np.square(xz_arr - monoExp(vol_arr, m, t, b))\n",
    "squaredDiffsFromMean = np.square(xz_arr - np.mean(xz_arr))\n",
    "rSquared = 1 - np.sum(squaredDiffs) / np.sum(squaredDiffsFromMean)\n",
    "print(f\"exponential R² = {rSquared}\")\n",
    "\n",
    "# plot the results\n",
    "\n",
    "y_curve_arr = [monoExp(vol_arr[i], m, t, b) for i in range(len(vol_arr))]\n",
    "\n",
    "mplt.plot(vol_arr, y_curve_arr,\"g-\",label=\"exponential-predicted\")\n",
    "mplt.legend()"
   ]
  },
  {
   "cell_type": "code",
   "execution_count": null,
   "id": "db2909fb",
   "metadata": {},
   "outputs": [],
   "source": [
    "# New theory --> we need to keep osmolarity difference constant to ensure the volume stays the same\n",
    "\n",
    "osm_i = na + k + cl + x\n",
    "\n"
   ]
  }
 ],
 "metadata": {
  "kernelspec": {
   "display_name": "Python 3 (ipykernel)",
   "language": "python",
   "name": "python3"
  },
  "language_info": {
   "codemirror_mode": {
    "name": "ipython",
    "version": 3
   },
   "file_extension": ".py",
   "mimetype": "text/x-python",
   "name": "python",
   "nbconvert_exporter": "python",
   "pygments_lexer": "ipython3",
   "version": "3.9.7"
  }
 },
 "nbformat": 4,
 "nbformat_minor": 5
}
