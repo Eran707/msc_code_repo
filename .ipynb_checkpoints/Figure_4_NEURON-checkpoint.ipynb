{
 "cells": [
  {
   "cell_type": "markdown",
   "id": "3e1ef99d",
   "metadata": {},
   "source": [
    "# FIGURE 4 - CONVERTING RAW NEURON DATA TO PYTHON GRAPHS\n"
   ]
  },
  {
   "cell_type": "markdown",
   "id": "562da643",
   "metadata": {},
   "source": [
    "## IMPORTS\n"
   ]
  },
  {
   "cell_type": "code",
   "execution_count": 1,
   "id": "fee7fce4",
   "metadata": {},
   "outputs": [
    {
     "name": "stdout",
     "output_type": "stream",
     "text": [
      "All relevant classes imported\n"
     ]
    }
   ],
   "source": [
    "try:\n",
    "        \n",
    "    import h5py\n",
    "    \n",
    "    from ipywidgets import widgets, Layout, interact, interactive, interactive_output, Dropdown\n",
    "    from IPython.display import display\n",
    "    import matplotlib.pyplot as mplt\n",
    "    import scipy\n",
    "    from sympy import symbols, Eq, solve\n",
    "    import numpy as np\n",
    "    import random\n",
    "    import seaborn as sns \n",
    "    import pandas as pd\n",
    "    import graphing as gr\n",
    "    #!pip install viola\n",
    "    ########## Modules required for artist drawing on matplotlib\n",
    "    import matplotlib.path as mpath\n",
    "    import matplotlib.lines as mlines\n",
    "    import matplotlib.patches as mpatches\n",
    "    from matplotlib.collections import PatchCollection\n",
    "    \n",
    "      \n",
    "except ModuleNotFoundError:\n",
    "        print(\"A class you are trying to import is not present in the directory\")\n",
    "    \n",
    "except Exception:\n",
    "        print(\"Something went wrong - modules have not been imported\")\n",
    "\n",
    "else: \n",
    "    print(\"All relevant classes imported\")"
   ]
  },
  {
   "cell_type": "markdown",
   "id": "24c6ddef",
   "metadata": {},
   "source": [
    "All values below have been acquired from NEURON .dat files which have been run on the Main Sim.ses file"
   ]
  },
  {
   "cell_type": "code",
   "execution_count": 2,
   "id": "5a65951c",
   "metadata": {},
   "outputs": [
    {
     "name": "stdout",
     "output_type": "stream",
     "text": [
      "[[ 0.00000e+00 -7.26000e+01 -7.26000e+01 ... -7.26000e+01 -7.26000e+01\n",
      "  -7.26000e+01]\n",
      " [ 1.00000e-02 -7.26000e+01 -7.26000e+01 ... -7.26000e+01 -7.26000e+01\n",
      "  -7.26000e+01]\n",
      " [ 2.00000e-02 -7.26000e+01 -7.26000e+01 ... -7.26000e+01 -7.26000e+01\n",
      "  -7.26000e+01]\n",
      " ...\n",
      " [ 9.99800e+01 -7.25357e+01 -7.25357e+01 ... -7.25357e+01 -7.25357e+01\n",
      "  -7.25357e+01]\n",
      " [ 9.99900e+01 -7.25357e+01 -7.25357e+01 ... -7.25357e+01 -7.25357e+01\n",
      "  -7.25357e+01]\n",
      " [ 1.00000e+02 -7.25357e+01 -7.25357e+01 ... -7.25357e+01 -7.25357e+01\n",
      "  -7.25357e+01]]\n",
      "(10001, 10)\n"
     ]
    }
   ],
   "source": [
    "global csv_array\n",
    "with open(\"Main_sim_results_csv.csv\") as file_name:\n",
    "    csv_array = np.loadtxt(file_name, delimiter=\";\")\n",
    "\n",
    "print(csv_array)\n",
    "print(csv_array.shape)"
   ]
  },
  {
   "cell_type": "code",
   "execution_count": 3,
   "id": "989dc9db",
   "metadata": {},
   "outputs": [
    {
     "name": "stdout",
     "output_type": "stream",
     "text": [
      "9\n"
     ]
    }
   ],
   "source": [
    "global v_arr, t_arr, comp_names_arr\n",
    "v_arr =[]\n",
    "main_arr =list(csv_array)\n",
    "comp_names_arr = [\"Comp1\",\"Comp2\",\"Comp3\",\"Comp4\",\"Comp5\",\"Comp6\",\"Comp7\",\"Comp8\",\"Comp9\"]\n",
    "t_arr = [float(main_arr[i][0]) for i in range(len(main_arr))]\n",
    "v_arr.append([float(main_arr[j][1]) for j in range(len(main_arr))])\n",
    "v_arr.append([float(main_arr[j][2]) for j in range(len(main_arr))])\n",
    "v_arr.append([float(main_arr[j][3]) for j in range(len(main_arr))])\n",
    "v_arr.append([float(main_arr[j][4]) for j in range(len(main_arr))])\n",
    "v_arr.append([float(main_arr[j][5]) for j in range(len(main_arr))])\n",
    "v_arr.append([float(main_arr[j][6]) for j in range(len(main_arr))])\n",
    "v_arr.append([float(main_arr[j][7]) for j in range(len(main_arr))])\n",
    "v_arr.append([float(main_arr[j][8]) for j in range(len(main_arr))])\n",
    "v_arr.append([float(main_arr[j][9]) for j in range(len(main_arr))])\n",
    "\n",
    "\n",
    "print(len(v_arr))"
   ]
  },
  {
   "cell_type": "code",
   "execution_count": 4,
   "id": "d5bf8c04",
   "metadata": {},
   "outputs": [
    {
     "data": {
      "text/plain": [
       "<matplotlib.legend.Legend at 0x1ad296ff070>"
      ]
     },
     "execution_count": 4,
     "metadata": {},
     "output_type": "execute_result"
    },
    {
     "data": {
      "image/png": "[encoded data removed]",
      "text/plain": [
       "<Figure size 432x288 with 1 Axes>"
      ]
     },
     "metadata": {
      "needs_background": "light"
     },
     "output_type": "display_data"
    }
   ],
   "source": [
    "for i in range(len(comp_names_arr)):\n",
    "    mplt.plot(t_arr,v_arr[i], label=comp_names_arr[i])\n",
    "mplt.legend()"
   ]
  },
  {
   "cell_type": "code",
   "execution_count": 5,
   "id": "515828be",
   "metadata": {
    "scrolled": true
   },
   "outputs": [
    {
     "data": {
      "text/plain": [
       "Text(0, 0.5, 'Membrane Potential (mV)')"
      ]
     },
     "execution_count": 5,
     "metadata": {},
     "output_type": "execute_result"
    },
    {
     "data": {
      "image/png": "[encoded data removed]",
      "text/plain": [
       "<Figure size 360x216 with 1 Axes>"
      ]
     },
     "metadata": {
      "needs_background": "light"
     },
     "output_type": "display_data"
    }
   ],
   "source": [
    "f4a, (ax_2) = mplt.subplots(1,1,figsize=(5,3), sharey=True, sharex=True) \n",
    "sns.despine()\n",
    "\n",
    "#### Z = -0.85\n",
    "\n",
    "ax_2.plot(t_arr, v_arr[8],'-', label=\"Comp9\",color='#000000')\n",
    "ax_2.set_title(\"NEURON model\")\n",
    "\n",
    "\n",
    "ax_2.plot(t_arr, v_arr[7], '--',  label=\"Comp8\",color='#000000')\n",
    "\n",
    "ax_2.plot(t_arr, v_arr[0], '-.', label=\"Comp1\",color='#000000')\n",
    "ax_2.legend()\n",
    "\n",
    "ax_2.set_xlabel(\"Time (ms)\",visible=False)\n",
    "ax_2.get_xaxis().set_visible(False)\n",
    "ax_2.set_ylabel(\"Membrane Potential (mV)\")"
   ]
  },
  {
   "cell_type": "code",
   "execution_count": 6,
   "id": "dee99608",
   "metadata": {},
   "outputs": [
    {
     "data": {
      "application/vnd.jupyter.widget-view+json": {
       "model_id": "bccdb9c6f44e463795ca800793d23eba",
       "version_major": 2,
       "version_minor": 0
      },
      "text/plain": [
       "Button(button_style='success', description='Plot 4B', style=ButtonStyle())"
      ]
     },
     "metadata": {},
     "output_type": "display_data"
    },
    {
     "name": "stdout",
     "output_type": "stream",
     "text": [
      "9\n"
     ]
    },
    {
     "data": {
      "image/png": "[encoded data removed]",
      "text/plain": [
       "<Figure size 432x288 with 2 Axes>"
      ]
     },
     "metadata": {
      "needs_background": "light"
     },
     "output_type": "display_data"
    }
   ],
   "source": [
    "######\n",
    "btn_plot_4b = widgets.Button(description=\"Plot 4B\", button_style='success')\n",
    "display(btn_plot_4b)\n",
    "#####\n",
    "vm_arr2 =[]\n",
    "\n",
    "\n",
    "def btn_plot_4b_clicked(b):\n",
    "\n",
    "    for i in range(len(comp_names_arr),0,-1):\n",
    "        \n",
    "\n",
    "        temp_arr_vm = v_arr[i-1][100:700:25]\n",
    "        #temp_arr_vm = [v_arr[i-1][j][-3]*1e3 for j in range(len(master_arr[0]))] \n",
    "        vm_arr2.append(temp_arr_vm)\n",
    "\n",
    "    print(len(vm_arr2))\n",
    "\n",
    "    g_vm = sns.heatmap(vm_arr2,vmin=-72.5, vmax= -52.5,cmap=\"Greys_r\",xticklabels=False,  cbar_kws={'pad':0.05,'label':'Voltage(mV)', 'orientation':'horizontal' },linewidth=0.01 )\n",
    "    g_vm.set_ylabel(\"Compartment\",fontsize=10)\n",
    "    g_vm.set_yticklabels(comp_names_arr[::-1], fontsize=8, rotation=0)\n",
    "    #left_ax_vm.set_title(\"Vm in each compartment\",fontsize=10)    \n",
    "    \n",
    "    \n",
    "    sns.despine()\n",
    "#####\n",
    "btn_plot_4b.on_click(btn_plot_4b_clicked)"
   ]
  },
  {
   "cell_type": "markdown",
   "id": "3802dfce",
   "metadata": {},
   "source": [
    "## TIME CONSTANT"
   ]
  },
  {
   "cell_type": "code",
   "execution_count": 17,
   "id": "6c674b18",
   "metadata": {},
   "outputs": [
    {
     "name": "stdout",
     "output_type": "stream",
     "text": [
      "200\n",
      "Vmax: -52.7109mV\n",
      "Time of Vmax: 2.0s\n",
      "---------\n",
      "Vmin: -72.5357mV\n",
      "Time of Vmin: 100.0s\n",
      "---------\n",
      "512\n",
      "Vtau: -65.200524mV\n",
      "Time of Vtau: 5.12s\n",
      "---------\n",
      "---------\n",
      "Tau = 3.12ms\n",
      "---------\n",
      "---------\n"
     ]
    },
    {
     "data": {
      "image/png": "[encoded data removed]",
      "text/plain": [
       "<Figure size 432x288 with 1 Axes>"
      ]
     },
     "metadata": {
      "needs_background": "light"
     },
     "output_type": "display_data"
    }
   ],
   "source": [
    "mplt.plot(t_arr[:],v_arr[8], label= comp_names_arr[8])\n",
    "mplt.ylabel(\"Membrane potential (mV)\")\n",
    "mplt.xlabel(\"Time (s)\")\n",
    "mplt.legend()\n",
    "global vmax_index, vmax, vtau,tau\n",
    "\n",
    "vmax = v_arr[8][0]\n",
    "vmin = v_arr[8][-1]\n",
    "vmax_index = 0\n",
    "vmin_index = -1\n",
    "\n",
    "\n",
    "for i in range(5000):\n",
    "    if vmax < v_arr[8][i]:\n",
    "        vmax = v_arr[8][i]\n",
    "        vmax_index = i\n",
    "    if i>2000 and round(vmin,0)>round(v_arr[8][i],0): \n",
    "        vmin = v_arr[8][i]\n",
    "        vmin_index = i\n",
    "\n",
    "print(vmax_index)\n",
    "print(\"Vmax: \" + str(vmax) +\"mV\")\n",
    "print(\"Time of Vmax: \" + str(t_arr[vmax_index]) + \"s\")\n",
    "print(\"---------\")\n",
    "print(\"Vmin: \" + str(vmin) +\"mV\")\n",
    "print(\"Time of Vmin: \" + str(t_arr[vmin_index]) + \"s\")\n",
    "print(\"---------\")\n",
    "\n",
    "vdiff = vmax-vmin\n",
    "vtau = vmax - 0.63*(vdiff)\n",
    "vtau_index = 0\n",
    "\n",
    "\n",
    "for j in range(5000):\n",
    "    if (round(v_arr[8][j],2) == round(vtau,2)):\n",
    "        vtau_index = j\n",
    "        \n",
    "print(vtau_index)\n",
    "\n",
    "print(\"Vtau: \" + str(vtau) +\"mV\")\n",
    "print(\"Time of Vtau: \" + str(t_arr[vtau_index]) + \"s\")\n",
    "\n",
    "tau = t_arr[vtau_index] - t_arr[vmax_index]\n",
    "\n",
    "mplt.plot(t_arr[vtau_index], vtau,'go')\n",
    "\n",
    "print(\"---------\")\n",
    "print(\"---------\")\n",
    "print(\"Tau = \" + str(tau) +\"ms\")\n",
    "print(\"---------\")\n",
    "print(\"---------\")"
   ]
  },
  {
   "cell_type": "markdown",
   "id": "72bedf37",
   "metadata": {},
   "source": [
    "## LENGTH CONSTANT"
   ]
  },
  {
   "cell_type": "code",
   "execution_count": 28,
   "id": "72ed9c4d",
   "metadata": {},
   "outputs": [
    {
     "name": "stdout",
     "output_type": "stream",
     "text": [
      "[-52.7109, -57.0181, -60.3333, -62.734, -64.2549, -64.7376, -64.8692, -64.9307, -64.9571]\n",
      "12.246199999999995\n",
      "R² = 0.9934293409020556\n",
      "Y = 16.732095403486298 * e^(-0.024173893838661344 * x) + -65.59744623129289\n",
      "48.57213069662617\n"
     ]
    },
    {
     "data": {
      "image/png": "[encoded data removed]",
      "text/plain": [
       "<Figure size 720x432 with 1 Axes>"
      ]
     },
     "metadata": {
      "needs_background": "light"
     },
     "output_type": "display_data"
    }
   ],
   "source": [
    "v_max_arr = []\n",
    "len_arr = [10,30,50,70,90,110,130,150,170]\n",
    "for i in range(len(comp_names_arr)):\n",
    "    \n",
    "    max=-72.5\n",
    "    \n",
    "    for j in range(500):\n",
    "        if v_arr[i][j] > max:\n",
    "            max = v_arr[i][j]\n",
    "        \n",
    "    v_max_arr.append(max)\n",
    "# perform the fit\n",
    "\n",
    "\n",
    "\n",
    "#v_max_arr = [-52.7109, -57.0181, -60.3333, -62.734, -64.2549, -64.7376, -64.8692, -64.9307, -64.9571]\n",
    "len_arr = [10,30,50,70,90,110,130,150,170]\n",
    "v_max_arr.reverse()\n",
    "\n",
    "global x_lambda\n",
    "print(v_max_arr)\n",
    "v_max = v_max_arr[0]\n",
    "v_diff = v_max_arr[0]-v_max_arr[8]\n",
    "print(v_diff)\n",
    "v_lambda = v_max_arr[0]-0.63*v_diff\n",
    "\n",
    "\n",
    "x_data = np.array(len_arr)\n",
    "y_data = np.array(v_max_arr)\n",
    "\n",
    "def monoExp(x, m, t, b):\n",
    "    return m * np.exp(-t * x) + b\n",
    "\n",
    "p0 = (2000, .1, 50) # start with values near those we expect\n",
    "params, cv = scipy.optimize.curve_fit(monoExp, len_arr, v_max_arr, p0)\n",
    "m, t, b = params\n",
    "sampleRate = 20_000 # Hz\n",
    "tauSec = (1 / t) / sampleRate\n",
    "\n",
    "\n",
    "# determine quality of the fit\n",
    "squaredDiffs = np.square(y_data - monoExp(x_data, m, t, b))\n",
    "squaredDiffsFromMean = np.square(y_data - np.mean(y_data))\n",
    "rSquared = 1 - np.sum(squaredDiffs) / np.sum(squaredDiffsFromMean)\n",
    "print(f\"R² = {rSquared}\")\n",
    "\n",
    "# plot the results\n",
    "\n",
    "\n",
    "f_lenconstant, ax_1 = mplt.subplots(1,figsize=(10,6), sharex=False,sharey=True) \n",
    "\n",
    "y_curve_arr = [monoExp(len_arr[i], m, t, b) for i in range(len(len_arr))]\n",
    "\n",
    "\n",
    "ax_1.plot(len_arr, v_max_arr, '.', label=\"data\", color='black')\n",
    "ax_1.plot(len_arr, y_curve_arr, '--', label=\"fitted\")\n",
    "#ax_1.title(\"Fitted Exponential Curve\")\n",
    "\n",
    "\n",
    "\n",
    "# inspect the parameters\n",
    "print(f\"Y = {m} * e^(-{t} * x) + {b}\")\n",
    "#print(f\"Tau = {tauSec * 1e6} µs\")\n",
    "\n",
    "\n",
    "\n",
    "############## FIND LAMBDA\n",
    "\n",
    "\n",
    "y_lambda = v_lambda\n",
    "x_lambda = np.log((y_lambda-b)/m)/-t\n",
    "print(x_lambda)\n",
    "\n",
    "ax_1.plot(x_lambda,y_lambda,'*',color='red',label='lambda')\n",
    "\n",
    "ax_1.legend()\n",
    "sns.despine()"
   ]
  },
  {
   "cell_type": "code",
   "execution_count": null,
   "id": "5304bbac",
   "metadata": {},
   "outputs": [],
   "source": []
  }
 ],
 "metadata": {
  "kernelspec": {
   "display_name": "Python 3 (ipykernel)",
   "language": "python",
   "name": "python3"
  },
  "language_info": {
   "codemirror_mode": {
    "name": "ipython",
    "version": 3
   },
   "file_extension": ".py",
   "mimetype": "text/x-python",
   "name": "python",
   "nbconvert_exporter": "python",
   "pygments_lexer": "ipython3",
   "version": "3.9.7"
  }
 },
 "nbformat": 4,
 "nbformat_minor": 5
}
