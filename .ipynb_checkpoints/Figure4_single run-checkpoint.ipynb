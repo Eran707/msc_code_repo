{
 "cells": [
  {
   "cell_type": "code",
   "execution_count": 11,
   "id": "20a0cde1",
   "metadata": {},
   "outputs": [
    {
     "name": "stdout",
     "output_type": "stream",
     "text": [
      "All relevant classes imported\n"
     ]
    }
   ],
   "source": [
    "try:\n",
    "        \n",
    "    import h5py\n",
    "    \n",
    "    from ipywidgets import widgets, Layout, interact, interactive, interactive_output, Dropdown\n",
    "    from IPython.display import display\n",
    "    import matplotlib.pyplot as mplt\n",
    "    import scipy\n",
    "    from sympy import symbols, Eq, solve\n",
    "    import numpy as np\n",
    "    import random\n",
    "    import seaborn as sns \n",
    "    import pandas as pd\n",
    "    import graphing as gr\n",
    "    #!pip install viola\n",
    "    ########## Modules required for artist drawing on matplotlib\n",
    "    import matplotlib.path as mpath\n",
    "    import matplotlib.lines as mlines\n",
    "    import matplotlib.patches as mpatches\n",
    "    from matplotlib.collections import PatchCollection\n",
    "    \n",
    "      \n",
    "except ModuleNotFoundError:\n",
    "        print(\"A class you are trying to import is not present in the directory\")\n",
    "    \n",
    "except Exception:\n",
    "        print(\"Something went wrong - modules have not been imported\")\n",
    "\n",
    "else: \n",
    "    print(\"All relevant classes imported\")"
   ]
  },
  {
   "cell_type": "code",
   "execution_count": 12,
   "id": "5932607b",
   "metadata": {},
   "outputs": [
    {
     "data": {
      "application/vnd.jupyter.widget-view+json": {
       "model_id": "6b752501536c48a4ad6a2ff01b87c8f5",
       "version_major": 2,
       "version_minor": 0
      },
      "text/plain": [
       "Text(value=' Exp4-2', description='File1 (-0.85)')"
      ]
     },
     "metadata": {},
     "output_type": "display_data"
    },
    {
     "data": {
      "application/vnd.jupyter.widget-view+json": {
       "model_id": "057586085efb470ea51b19efaa381f6b",
       "version_major": 2,
       "version_minor": 0
      },
      "text/plain": [
       "Button(button_style='success', description='Select files', style=ButtonStyle())"
      ]
     },
     "metadata": {},
     "output_type": "display_data"
    },
    {
     "data": {
      "application/vnd.jupyter.widget-view+json": {
       "model_id": "295907a6a1a84489a240ba080f091741",
       "version_major": 2,
       "version_minor": 0
      },
      "text/plain": [
       "Output()"
      ]
     },
     "metadata": {},
     "output_type": "display_data"
    },
    {
     "name": "stdout",
     "output_type": "stream",
     "text": [
      "\\ Test file found... loading content\n",
      "\\ Test content loaded into memory\n"
     ]
    }
   ],
   "source": [
    "#######################################################\n",
    "#### GUI \n",
    "\n",
    "edt_filename_1 = widgets.Text(description = 'File1 (-0.85)', value=' Exp4-2')\n",
    "\n",
    "btn_select = widgets.Button(description = 'Select files',button_style='success')\n",
    "output_file = widgets.Output()\n",
    "\n",
    "display(edt_filename_1, btn_select,output_file)\n",
    "\n",
    "\n",
    "\n",
    "#######################################################\n",
    "#### FUNCTIONS\n",
    "\n",
    "\n",
    "#df_flux = pd.DataFrame({'Compartment':[],'Na_net':[], 'Na_leak':[],'Na_Atpase':[], 'K_net':[],'K_leak':[],'K_Atpase':[],'K_kcc2':[], 'Cl_net':[],'Cl_kcc2':[],'X':[],'z':[]  })\n",
    "df_ed = pd.DataFrame({'Boundary':[],'Na':[],'K':[],'Cl':[]})\n",
    "\n",
    "\n",
    "\n",
    "def btn_select_clicked(b):\n",
    "    \n",
    "    \n",
    "    global filename_1, t_arr, v_arr \n",
    "    \n",
    "    filename_1 = \"\\\\\"\n",
    "    filename_1 = filename_1 + edt_filename_1.value \n",
    "    \n",
    "    \n",
    "    \n",
    "    \n",
    "    ##### FILE 1 data\n",
    "    \n",
    "    try: \n",
    "        with h5py.File(filename_1, mode='r') as hdf:\n",
    "            \n",
    "            print(filename_1+\" file found... loading content\") \n",
    "            global C, comp_names_arr, intervals, interval_arr, f1_v_arr\n",
    "            C = hdf.get('COMPARTMENTS')\n",
    "            C_group_arr =[]\n",
    "            t_arr_bool = True\n",
    "            comp_names_arr= list(C.keys())\n",
    "                        \n",
    "            C1 = C.get(comp_names_arr[0])\n",
    "            \n",
    "            T = hdf.get('TIMING')\n",
    "            total_t = T.get('TOTAL_T')[()]\n",
    "            intervals = T.get('INTERVALS')[()]\n",
    "            dt = T.get(\"DT\")[()]\n",
    "            total_steps = total_t /dt          \n",
    "            interval_step = total_steps / intervals\n",
    "            interval_arr = [round(interval_step * i) for i in range(intervals)]\n",
    "            \n",
    "\n",
    "            t_arr =[]\n",
    "            f1_v_arr = []        \n",
    "            ##### LOADING COMPARTMENT DATA\n",
    "            \n",
    "            for i in range(len(comp_names_arr)):\n",
    "                C_group = C.get(comp_names_arr[i])\n",
    "                C_group_arr.append(C_group)\n",
    "                v_arr = []\n",
    "                for j in range(len(list(C_group.keys()))):\n",
    "                    dataset = C_group.get(str(interval_arr[j]))\n",
    "                    v_arr.append(dataset[-3]*1e3)\n",
    "                    if t_arr_bool == True:\n",
    "                        t_arr.append(dataset[0])\n",
    "                f1_v_arr.append(v_arr)    \n",
    "                t_arr_bool = False\n",
    "                \n",
    "            print(filename_1+\" content loaded into memory\") \n",
    "            \n",
    "    except: \n",
    "        raise(filename_1+\" not found\")\n",
    "        raise(\"File needs to be in base directory\")\n",
    "        \n",
    "        \n",
    "\n",
    "btn_select.on_click(btn_select_clicked)"
   ]
  },
  {
   "cell_type": "code",
   "execution_count": 13,
   "id": "87f75514",
   "metadata": {},
   "outputs": [
    {
     "data": {
      "text/plain": [
       "Text(0, 0.5, 'Membrane Potential (mV)')"
      ]
     },
     "execution_count": 13,
     "metadata": {},
     "output_type": "execute_result"
    },
    {
     "data": {
      "image/png": "[encoded data removed]",
      "text/plain": [
       "<Figure size 1080x720 with 2 Axes>"
      ]
     },
     "metadata": {
      "needs_background": "light"
     },
     "output_type": "display_data"
    }
   ],
   "source": [
    "\n",
    "f4a, [ax1,ax2] = mplt.subplots(2,1,figsize=(15,10), sharey=False, sharex=False) \n",
    "sns.despine()\n",
    "\n",
    "\n",
    "\n",
    "##### TOP ROW\n",
    "v_arr = [f1_v_arr[8][j]for j in range(len(t_arr))]\n",
    "ax1.plot(t_arr[::], v_arr[::],'-', label=\"Comp9\",color='#000000')\n",
    "ax1.set_title(\"Biophysical model\")\n",
    "\n",
    "v_arr = [f1_v_arr[7][j] for j in range(len(t_arr))]\n",
    "ax1.plot(t_arr[::], v_arr[::], '--',  label=\"Comp8\",color='#000000')\n",
    "\n",
    "v_arr = [f1_v_arr[0][j] for j in range(len(t_arr))]\n",
    "ax1.plot(t_arr[::], v_arr[::], '-.', label=\"Comp1\",color='#000000')\n",
    "ax1.legend()\n",
    "\n",
    "#ax1.get_xaxis().set_visible(False)\n",
    "ax1.set_ylabel(\"Membrane Potential (mV)\")\n",
    "#ax1.set_ylim([-75,-52.5])\n",
    "#ax1.set_yticks([-70,-65,-60,-55])\n",
    "\n"
   ]
  },
  {
   "cell_type": "code",
   "execution_count": 14,
   "id": "804559e0",
   "metadata": {},
   "outputs": [
    {
     "name": "stdout",
     "output_type": "stream",
     "text": [
      "BIOPHYSICAL\n",
      "2100\n",
      "Vmax: -52.17424755592021mV\n",
      "Time of Vmax: 0.020999000000000347s\n",
      "---------\n",
      "Vmin: -72.532248065953mV\n",
      "Time of Vmin: 0.09998900000007933s\n",
      "---------\n",
      "0\n",
      "Vtau: -64.99978787724086mV\n",
      "Time of Vtau: 0.0s\n",
      "---------\n",
      "---------\n",
      "Tau = -0.020999000000000347ms\n",
      "---------\n",
      "---------\n",
      "[-56.80417507191195, -52.17424755592021, -60.035210210851005, -62.88068813431543, -65.00581871617888, -66.6901134054174, -68.08089897268528, -68.81610878459075, -69.00086844907206, -69.02398767814806]\n",
      "12.19669337716011\n"
     ]
    },
    {
     "ename": "ValueError",
     "evalue": "operands could not be broadcast together with shapes (9,) (10,) ",
     "output_type": "error",
     "traceback": [
      "\u001b[1;31m---------------------------------------------------------------------------\u001b[0m",
      "\u001b[1;31mValueError\u001b[0m                                Traceback (most recent call last)",
      "\u001b[1;32m~\\AppData\\Local\\Temp/ipykernel_2976/1467352430.py\u001b[0m in \u001b[0;36m<module>\u001b[1;34m\u001b[0m\n\u001b[0;32m    102\u001b[0m \u001b[1;33m\u001b[0m\u001b[0m\n\u001b[0;32m    103\u001b[0m \u001b[0mp0\u001b[0m \u001b[1;33m=\u001b[0m \u001b[1;33m(\u001b[0m\u001b[1;36m2000\u001b[0m\u001b[1;33m,\u001b[0m \u001b[1;36m.1\u001b[0m\u001b[1;33m,\u001b[0m \u001b[1;36m50\u001b[0m\u001b[1;33m)\u001b[0m \u001b[1;31m# start with values near those we expect\u001b[0m\u001b[1;33m\u001b[0m\u001b[1;33m\u001b[0m\u001b[0m\n\u001b[1;32m--> 104\u001b[1;33m \u001b[0mparams\u001b[0m\u001b[1;33m,\u001b[0m \u001b[0mcv\u001b[0m \u001b[1;33m=\u001b[0m \u001b[0mscipy\u001b[0m\u001b[1;33m.\u001b[0m\u001b[0moptimize\u001b[0m\u001b[1;33m.\u001b[0m\u001b[0mcurve_fit\u001b[0m\u001b[1;33m(\u001b[0m\u001b[0mmonoExp\u001b[0m\u001b[1;33m,\u001b[0m \u001b[0mlen_arr\u001b[0m\u001b[1;33m,\u001b[0m \u001b[0mv_max_arr\u001b[0m\u001b[1;33m,\u001b[0m \u001b[0mp0\u001b[0m\u001b[1;33m)\u001b[0m\u001b[1;33m\u001b[0m\u001b[1;33m\u001b[0m\u001b[0m\n\u001b[0m\u001b[0;32m    105\u001b[0m \u001b[0mm\u001b[0m\u001b[1;33m,\u001b[0m \u001b[0mt\u001b[0m\u001b[1;33m,\u001b[0m \u001b[0mb\u001b[0m \u001b[1;33m=\u001b[0m \u001b[0mparams\u001b[0m\u001b[1;33m\u001b[0m\u001b[1;33m\u001b[0m\u001b[0m\n\u001b[0;32m    106\u001b[0m \u001b[0msampleRate\u001b[0m \u001b[1;33m=\u001b[0m \u001b[1;36m20_000\u001b[0m \u001b[1;31m# Hz\u001b[0m\u001b[1;33m\u001b[0m\u001b[1;33m\u001b[0m\u001b[0m\n",
      "\u001b[1;32mC:\\00_ERAN\\Programs\\Anaconda3\\lib\\site-packages\\scipy\\optimize\\minpack.py\u001b[0m in \u001b[0;36mcurve_fit\u001b[1;34m(f, xdata, ydata, p0, sigma, absolute_sigma, check_finite, bounds, method, jac, **kwargs)\u001b[0m\n\u001b[0;32m    787\u001b[0m         \u001b[1;31m# Remove full_output from kwargs, otherwise we're passing it in twice.\u001b[0m\u001b[1;33m\u001b[0m\u001b[1;33m\u001b[0m\u001b[0m\n\u001b[0;32m    788\u001b[0m         \u001b[0mreturn_full\u001b[0m \u001b[1;33m=\u001b[0m \u001b[0mkwargs\u001b[0m\u001b[1;33m.\u001b[0m\u001b[0mpop\u001b[0m\u001b[1;33m(\u001b[0m\u001b[1;34m'full_output'\u001b[0m\u001b[1;33m,\u001b[0m \u001b[1;32mFalse\u001b[0m\u001b[1;33m)\u001b[0m\u001b[1;33m\u001b[0m\u001b[1;33m\u001b[0m\u001b[0m\n\u001b[1;32m--> 789\u001b[1;33m         \u001b[0mres\u001b[0m \u001b[1;33m=\u001b[0m \u001b[0mleastsq\u001b[0m\u001b[1;33m(\u001b[0m\u001b[0mfunc\u001b[0m\u001b[1;33m,\u001b[0m \u001b[0mp0\u001b[0m\u001b[1;33m,\u001b[0m \u001b[0mDfun\u001b[0m\u001b[1;33m=\u001b[0m\u001b[0mjac\u001b[0m\u001b[1;33m,\u001b[0m \u001b[0mfull_output\u001b[0m\u001b[1;33m=\u001b[0m\u001b[1;36m1\u001b[0m\u001b[1;33m,\u001b[0m \u001b[1;33m**\u001b[0m\u001b[0mkwargs\u001b[0m\u001b[1;33m)\u001b[0m\u001b[1;33m\u001b[0m\u001b[1;33m\u001b[0m\u001b[0m\n\u001b[0m\u001b[0;32m    790\u001b[0m         \u001b[0mpopt\u001b[0m\u001b[1;33m,\u001b[0m \u001b[0mpcov\u001b[0m\u001b[1;33m,\u001b[0m \u001b[0minfodict\u001b[0m\u001b[1;33m,\u001b[0m \u001b[0merrmsg\u001b[0m\u001b[1;33m,\u001b[0m \u001b[0mier\u001b[0m \u001b[1;33m=\u001b[0m \u001b[0mres\u001b[0m\u001b[1;33m\u001b[0m\u001b[1;33m\u001b[0m\u001b[0m\n\u001b[0;32m    791\u001b[0m         \u001b[0mysize\u001b[0m \u001b[1;33m=\u001b[0m \u001b[0mlen\u001b[0m\u001b[1;33m(\u001b[0m\u001b[0minfodict\u001b[0m\u001b[1;33m[\u001b[0m\u001b[1;34m'fvec'\u001b[0m\u001b[1;33m]\u001b[0m\u001b[1;33m)\u001b[0m\u001b[1;33m\u001b[0m\u001b[1;33m\u001b[0m\u001b[0m\n",
      "\u001b[1;32mC:\\00_ERAN\\Programs\\Anaconda3\\lib\\site-packages\\scipy\\optimize\\minpack.py\u001b[0m in \u001b[0;36mleastsq\u001b[1;34m(func, x0, args, Dfun, full_output, col_deriv, ftol, xtol, gtol, maxfev, epsfcn, factor, diag)\u001b[0m\n\u001b[0;32m    408\u001b[0m     \u001b[1;32mif\u001b[0m \u001b[1;32mnot\u001b[0m \u001b[0misinstance\u001b[0m\u001b[1;33m(\u001b[0m\u001b[0margs\u001b[0m\u001b[1;33m,\u001b[0m \u001b[0mtuple\u001b[0m\u001b[1;33m)\u001b[0m\u001b[1;33m:\u001b[0m\u001b[1;33m\u001b[0m\u001b[1;33m\u001b[0m\u001b[0m\n\u001b[0;32m    409\u001b[0m         \u001b[0margs\u001b[0m \u001b[1;33m=\u001b[0m \u001b[1;33m(\u001b[0m\u001b[0margs\u001b[0m\u001b[1;33m,\u001b[0m\u001b[1;33m)\u001b[0m\u001b[1;33m\u001b[0m\u001b[1;33m\u001b[0m\u001b[0m\n\u001b[1;32m--> 410\u001b[1;33m     \u001b[0mshape\u001b[0m\u001b[1;33m,\u001b[0m \u001b[0mdtype\u001b[0m \u001b[1;33m=\u001b[0m \u001b[0m_check_func\u001b[0m\u001b[1;33m(\u001b[0m\u001b[1;34m'leastsq'\u001b[0m\u001b[1;33m,\u001b[0m \u001b[1;34m'func'\u001b[0m\u001b[1;33m,\u001b[0m \u001b[0mfunc\u001b[0m\u001b[1;33m,\u001b[0m \u001b[0mx0\u001b[0m\u001b[1;33m,\u001b[0m \u001b[0margs\u001b[0m\u001b[1;33m,\u001b[0m \u001b[0mn\u001b[0m\u001b[1;33m)\u001b[0m\u001b[1;33m\u001b[0m\u001b[1;33m\u001b[0m\u001b[0m\n\u001b[0m\u001b[0;32m    411\u001b[0m     \u001b[0mm\u001b[0m \u001b[1;33m=\u001b[0m \u001b[0mshape\u001b[0m\u001b[1;33m[\u001b[0m\u001b[1;36m0\u001b[0m\u001b[1;33m]\u001b[0m\u001b[1;33m\u001b[0m\u001b[1;33m\u001b[0m\u001b[0m\n\u001b[0;32m    412\u001b[0m \u001b[1;33m\u001b[0m\u001b[0m\n",
      "\u001b[1;32mC:\\00_ERAN\\Programs\\Anaconda3\\lib\\site-packages\\scipy\\optimize\\minpack.py\u001b[0m in \u001b[0;36m_check_func\u001b[1;34m(checker, argname, thefunc, x0, args, numinputs, output_shape)\u001b[0m\n\u001b[0;32m     22\u001b[0m def _check_func(checker, argname, thefunc, x0, args, numinputs,\n\u001b[0;32m     23\u001b[0m                 output_shape=None):\n\u001b[1;32m---> 24\u001b[1;33m     \u001b[0mres\u001b[0m \u001b[1;33m=\u001b[0m \u001b[0matleast_1d\u001b[0m\u001b[1;33m(\u001b[0m\u001b[0mthefunc\u001b[0m\u001b[1;33m(\u001b[0m\u001b[1;33m*\u001b[0m\u001b[1;33m(\u001b[0m\u001b[1;33m(\u001b[0m\u001b[0mx0\u001b[0m\u001b[1;33m[\u001b[0m\u001b[1;33m:\u001b[0m\u001b[0mnuminputs\u001b[0m\u001b[1;33m]\u001b[0m\u001b[1;33m,\u001b[0m\u001b[1;33m)\u001b[0m \u001b[1;33m+\u001b[0m \u001b[0margs\u001b[0m\u001b[1;33m)\u001b[0m\u001b[1;33m)\u001b[0m\u001b[1;33m)\u001b[0m\u001b[1;33m\u001b[0m\u001b[1;33m\u001b[0m\u001b[0m\n\u001b[0m\u001b[0;32m     25\u001b[0m     \u001b[1;32mif\u001b[0m \u001b[1;33m(\u001b[0m\u001b[0moutput_shape\u001b[0m \u001b[1;32mis\u001b[0m \u001b[1;32mnot\u001b[0m \u001b[1;32mNone\u001b[0m\u001b[1;33m)\u001b[0m \u001b[1;32mand\u001b[0m \u001b[1;33m(\u001b[0m\u001b[0mshape\u001b[0m\u001b[1;33m(\u001b[0m\u001b[0mres\u001b[0m\u001b[1;33m)\u001b[0m \u001b[1;33m!=\u001b[0m \u001b[0moutput_shape\u001b[0m\u001b[1;33m)\u001b[0m\u001b[1;33m:\u001b[0m\u001b[1;33m\u001b[0m\u001b[1;33m\u001b[0m\u001b[0m\n\u001b[0;32m     26\u001b[0m         \u001b[1;32mif\u001b[0m \u001b[1;33m(\u001b[0m\u001b[0moutput_shape\u001b[0m\u001b[1;33m[\u001b[0m\u001b[1;36m0\u001b[0m\u001b[1;33m]\u001b[0m \u001b[1;33m!=\u001b[0m \u001b[1;36m1\u001b[0m\u001b[1;33m)\u001b[0m\u001b[1;33m:\u001b[0m\u001b[1;33m\u001b[0m\u001b[1;33m\u001b[0m\u001b[0m\n",
      "\u001b[1;32mC:\\00_ERAN\\Programs\\Anaconda3\\lib\\site-packages\\scipy\\optimize\\minpack.py\u001b[0m in \u001b[0;36mfunc_wrapped\u001b[1;34m(params)\u001b[0m\n\u001b[0;32m    483\u001b[0m     \u001b[1;32mif\u001b[0m \u001b[0mtransform\u001b[0m \u001b[1;32mis\u001b[0m \u001b[1;32mNone\u001b[0m\u001b[1;33m:\u001b[0m\u001b[1;33m\u001b[0m\u001b[1;33m\u001b[0m\u001b[0m\n\u001b[0;32m    484\u001b[0m         \u001b[1;32mdef\u001b[0m \u001b[0mfunc_wrapped\u001b[0m\u001b[1;33m(\u001b[0m\u001b[0mparams\u001b[0m\u001b[1;33m)\u001b[0m\u001b[1;33m:\u001b[0m\u001b[1;33m\u001b[0m\u001b[1;33m\u001b[0m\u001b[0m\n\u001b[1;32m--> 485\u001b[1;33m             \u001b[1;32mreturn\u001b[0m \u001b[0mfunc\u001b[0m\u001b[1;33m(\u001b[0m\u001b[0mxdata\u001b[0m\u001b[1;33m,\u001b[0m \u001b[1;33m*\u001b[0m\u001b[0mparams\u001b[0m\u001b[1;33m)\u001b[0m \u001b[1;33m-\u001b[0m \u001b[0mydata\u001b[0m\u001b[1;33m\u001b[0m\u001b[1;33m\u001b[0m\u001b[0m\n\u001b[0m\u001b[0;32m    486\u001b[0m     \u001b[1;32melif\u001b[0m \u001b[0mtransform\u001b[0m\u001b[1;33m.\u001b[0m\u001b[0mndim\u001b[0m \u001b[1;33m==\u001b[0m \u001b[1;36m1\u001b[0m\u001b[1;33m:\u001b[0m\u001b[1;33m\u001b[0m\u001b[1;33m\u001b[0m\u001b[0m\n\u001b[0;32m    487\u001b[0m         \u001b[1;32mdef\u001b[0m \u001b[0mfunc_wrapped\u001b[0m\u001b[1;33m(\u001b[0m\u001b[0mparams\u001b[0m\u001b[1;33m)\u001b[0m\u001b[1;33m:\u001b[0m\u001b[1;33m\u001b[0m\u001b[1;33m\u001b[0m\u001b[0m\n",
      "\u001b[1;31mValueError\u001b[0m: operands could not be broadcast together with shapes (9,) (10,) "
     ]
    },
    {
     "data": {
      "image/png": "[encoded data removed]",
      "text/plain": [
       "<Figure size 1080x720 with 2 Axes>"
      ]
     },
     "metadata": {
      "needs_background": "light"
     },
     "output_type": "display_data"
    }
   ],
   "source": [
    "f4b, [ax1,ax2]= mplt.subplots(2,1,figsize=(15,10), sharey=False, sharex=False) \n",
    "sns.despine()\n",
    "\n",
    "#t_arr = [t_arr[i]*1e3 for i in range(len(t_arr))]\n",
    "\n",
    "############################################\n",
    "##### TOP ROW: Time constants - BIOPHYSICAL\n",
    "###########################################\n",
    "ax1.plot(t_arr[:],f1_v_arr[8][:], label= comp_names_arr[8], color='black')\n",
    "ax1.set_ylabel(\"Membrane potential (mV)\")\n",
    "ax1.set_xlabel(\"Time (ms)\")\n",
    "ax1.set_title(\"Biophysical model\")\n",
    "ax1.legend()\n",
    "\n",
    "vmax = v_arr[0]\n",
    "vmin = v_arr[-1]\n",
    "vmax_index = 0\n",
    "vmin_index = -1\n",
    "\n",
    "for i in range(len(f1_v_arr[8])):\n",
    "    if vmax<f1_v_arr[8][i]:\n",
    "        vmax = f1_v_arr[8][i]\n",
    "        vmax_index = i\n",
    "    if i>2000 and round(vmin,3)>round(f1_v_arr[8][i],3): \n",
    "        vmin = f1_v_arr[8][i]\n",
    "        vmin_index = i\n",
    "\n",
    "print(\"BIOPHYSICAL\")\n",
    "print(vmax_index)\n",
    "print(\"Vmax: \" + str(vmax) +\"mV\")\n",
    "print(\"Time of Vmax: \" + str(t_arr[vmax_index]) + \"s\")\n",
    "print(\"---------\")\n",
    "print(\"Vmin: \" + str(vmin) +\"mV\")\n",
    "print(\"Time of Vmin: \" + str(t_arr[vmin_index]) + \"s\")\n",
    "print(\"---------\")\n",
    "\n",
    "vdiff = vmax-vmin\n",
    "vtau = vmax - 0.63*(vdiff)\n",
    "vtau_index = 0\n",
    "\n",
    "\n",
    "for j in range(len(f1_v_arr[8])):\n",
    "    if (j>1000) and (round(f1_v_arr[8][j],3) == round(vtau,3)):\n",
    "        vtau_index = j\n",
    "\n",
    "print(vtau_index)\n",
    "\n",
    "print(\"Vtau: \" + str(vtau) +\"mV\")\n",
    "print(\"Time of Vtau: \" + str(t_arr[vtau_index]) + \"s\")\n",
    "\n",
    "tau = t_arr[vtau_index] - t_arr[vmax_index]\n",
    "\n",
    "ax1.plot(t_arr[vtau_index], vtau,'r*',label=\"Tau\")\n",
    "ax1.legend()\n",
    "tau_string = \"Tau = \"+str(round(tau,2))+' ms'\n",
    "#ax1.text(50, -60, tau_string, fontsize = 12)\n",
    "\n",
    "print(\"---------\")\n",
    "print(\"---------\")\n",
    "print(\"Tau = \" + str(tau) +\"ms\")\n",
    "print(\"---------\")\n",
    "print(\"---------\")\n",
    "\n",
    "\n",
    "\n",
    "\n",
    "\n",
    "\n",
    "\n",
    "v_max_arr = []\n",
    "len_arr = [10,30,50,70,90,110,130,150,170]\n",
    "for i in range(len(comp_names_arr)):\n",
    "    \n",
    "    max=-72.5\n",
    "    \n",
    "    for j in range(5000):\n",
    "        if f1_v_arr[i][j] > max:\n",
    "            max = f1_v_arr[i][j]\n",
    "        \n",
    "    v_max_arr.append(max)\n",
    "# perform the fit\n",
    "\n",
    "\n",
    "\n",
    "#v_max_arr = [-52.7109, -57.0181, -60.3333, -62.734, -64.2549, -64.7376, -64.8692, -64.9307, -64.9571]\n",
    "len_arr = [10,30,50,70,90,110,130,150,170]\n",
    "v_max_arr.reverse()\n",
    "\n",
    "global x_lambda\n",
    "print(v_max_arr)\n",
    "v_max = v_max_arr[0]\n",
    "v_diff = v_max_arr[0]-v_max_arr[8]\n",
    "print(v_diff)\n",
    "v_lambda = v_max_arr[0]-0.63*v_diff\n",
    "\n",
    "\n",
    "x_data = np.array(len_arr)\n",
    "y_data = np.array(v_max_arr)\n",
    "\n",
    "def monoExp(x, m, t, b):\n",
    "    return m * np.exp(-t * x) + b\n",
    "\n",
    "p0 = (2000, .1, 50) # start with values near those we expect\n",
    "params, cv = scipy.optimize.curve_fit(monoExp, len_arr, v_max_arr, p0)\n",
    "m, t, b = params\n",
    "sampleRate = 20_000 # Hz\n",
    "tauSec = (1 / t) / sampleRate\n",
    "\n",
    "\n",
    "# determine quality of the fit\n",
    "squaredDiffs = np.square(y_data - monoExp(x_data, m, t, b))\n",
    "squaredDiffsFromMean = np.square(y_data - np.mean(y_data))\n",
    "rSquared = 1 - np.sum(squaredDiffs) / np.sum(squaredDiffsFromMean)\n",
    "print(f\"R² = {rSquared}\")\n",
    "\n",
    "# plot the results\n",
    "\n",
    "y_curve_arr = [monoExp(len_arr[i], m, t, b) for i in range(len(len_arr))]\n",
    "\n",
    "\n",
    "ax2.plot(len_arr, v_max_arr, '.', label=\"data\", color='black')\n",
    "ax2.plot(len_arr, y_curve_arr, '-', label=\"fitted\", color='black')\n",
    "ax2.set_ylabel(\"Membrane potential (mV)\")\n",
    "ax2.set_xlabel(\"Length (um)\")\n",
    "#ax_1.title(\"Fitted Exponential Curve\")\n",
    "\n",
    "\n",
    "\n",
    "# inspect the parameters\n",
    "print(f\"Y = {m} * e^(-{t} * x) + {b}\")\n",
    "#print(f\"Tau = {tauSec * 1e6} µs\")\n",
    "\n",
    "\n",
    "\n",
    "############## FIND LAMBDA\n",
    "\n",
    "\n",
    "y_lambda = v_lambda\n",
    "x_lambda = np.log((y_lambda-b)/m)/-t\n",
    "print(x_lambda)\n",
    "\n",
    "ax2.plot(x_lambda,y_lambda,'*',color='red',label='lambda')\n",
    "ax2.legend()\n",
    "lambda_string = \"Lambda = \"+str(round(x_lambda,2))+' um'\n",
    "#ax2.text(90, -58 , lambda_string, fontsize = 12)\n",
    "\n"
   ]
  },
  {
   "cell_type": "code",
   "execution_count": null,
   "id": "9b91c98f",
   "metadata": {},
   "outputs": [],
   "source": []
  }
 ],
 "metadata": {
  "kernelspec": {
   "display_name": "Python 3 (ipykernel)",
   "language": "python",
   "name": "python3"
  },
  "language_info": {
   "codemirror_mode": {
    "name": "ipython",
    "version": 3
   },
   "file_extension": ".py",
   "mimetype": "text/x-python",
   "name": "python",
   "nbconvert_exporter": "python",
   "pygments_lexer": "ipython3",
   "version": "3.9.7"
  }
 },
 "nbformat": 4,
 "nbformat_minor": 5
}
