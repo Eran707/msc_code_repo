{
 "cells": [
  {
   "cell_type": "markdown",
   "id": "ccc9bccf",
   "metadata": {},
   "source": [
    "# Figure 5 - Synaptic integration"
   ]
  },
  {
   "cell_type": "markdown",
   "id": "86d1d9d8",
   "metadata": {},
   "source": [
    "## IMPORTS"
   ]
  },
  {
   "cell_type": "code",
   "execution_count": 1,
   "id": "44c3999d",
   "metadata": {},
   "outputs": [
    {
     "name": "stdout",
     "output_type": "stream",
     "text": [
      "All relevant classes imported\n"
     ]
    }
   ],
   "source": [
    "try:\n",
    "        \n",
    "    import h5py\n",
    "    \n",
    "    from ipywidgets import widgets, Layout, interact, interactive, interactive_output, Dropdown\n",
    "    from IPython.display import display\n",
    "    import matplotlib.pyplot as mplt\n",
    "    import scipy\n",
    "    from sympy import symbols, Eq, solve\n",
    "    import numpy as np\n",
    "    import random\n",
    "    import seaborn as sns \n",
    "    import pandas as pd\n",
    "    import graphing as gr\n",
    "    #!pip install viola\n",
    "    ########## Modules required for artist drawing on matplotlib\n",
    "    import matplotlib.path as mpath\n",
    "    import matplotlib.lines as mlines\n",
    "    import matplotlib.patches as mpatches\n",
    "    from matplotlib.collections import PatchCollection\n",
    "    \n",
    "      \n",
    "except ModuleNotFoundError:\n",
    "        print(\"A class you are trying to import is not present in the directory\")\n",
    "    \n",
    "except Exception:\n",
    "        print(\"Something went wrong - modules have not been imported\")\n",
    "\n",
    "else: \n",
    "    print(\"All relevant classes imported\")"
   ]
  },
  {
   "cell_type": "markdown",
   "id": "15bde1dc",
   "metadata": {},
   "source": [
    "## FILE SELECTION"
   ]
  },
  {
   "cell_type": "code",
   "execution_count": 18,
   "id": "92cce497",
   "metadata": {},
   "outputs": [
    {
     "data": {
      "application/vnd.jupyter.widget-view+json": {
       "model_id": "7e8791f51a3d44e4af322b13f78dcea2",
       "version_major": 2,
       "version_minor": 0
      },
      "text/plain": [
       "Text(value='Experiment-S1', description='File name')"
      ]
     },
     "metadata": {},
     "output_type": "display_data"
    },
    {
     "data": {
      "application/vnd.jupyter.widget-view+json": {
       "model_id": "e67f540a246949e6b178d4bd95e5dd31",
       "version_major": 2,
       "version_minor": 0
      },
      "text/plain": [
       "Button(button_style='success', description='Select file', style=ButtonStyle())"
      ]
     },
     "metadata": {},
     "output_type": "display_data"
    },
    {
     "data": {
      "application/vnd.jupyter.widget-view+json": {
       "model_id": "fb62cbba97f041cb9cc26395c691edbb",
       "version_major": 2,
       "version_minor": 0
      },
      "text/plain": [
       "Output()"
      ]
     },
     "metadata": {},
     "output_type": "display_data"
    },
    {
     "name": "stdout",
     "output_type": "stream",
     "text": [
      "File found and content loaded into memory\n"
     ]
    }
   ],
   "source": [
    "#######################################################\n",
    "#### GUI \n",
    "\n",
    "edt_filename = widgets.Text(description = 'File name', value='Experiment-S1')\n",
    "btn_select = widgets.Button(description = 'Select file',button_style='success')\n",
    "output_file = widgets.Output()\n",
    "\n",
    "display(edt_filename, btn_select,output_file)\n",
    "\n",
    "\n",
    "\n",
    "#######################################################\n",
    "#### FUNCTIONS\n",
    "\n",
    "\n",
    "#df_flux = pd.DataFrame({'Compartment':[],'Na_net':[], 'Na_leak':[],'Na_Atpase':[], 'K_net':[],'K_leak':[],'K_Atpase':[],'K_kcc2':[], 'Cl_net':[],'Cl_kcc2':[],'X':[],'z':[]  })\n",
    "df_ed = pd.DataFrame({'Boundary':[],'Na':[],'K':[],'Cl':[]})\n",
    "\n",
    "\n",
    "\n",
    "def btn_select_clicked(b):\n",
    "    global file_name, df_end, df_start, df_end_flux, df_end_ed, df_end_net_flux\n",
    "    file_name = \"\\\\\"\n",
    "    file_name = file_name + edt_filename.value \n",
    "    \n",
    "    try: \n",
    "        with h5py.File(file_name, mode='r') as hdf:\n",
    "            \n",
    "            print(\"File found and content loaded into memory\")\n",
    "            global C, comp_names_arr, intervals, interval_arr, master_arr, t_arr, ED_master_arr,E_group_arr\n",
    "            C = hdf.get('COMPARTMENTS')\n",
    "            C_group_arr =[]\n",
    "            t_arr_bool = True\n",
    "            comp_names_arr= list(C.keys())\n",
    "                        \n",
    "            C1 = C.get(comp_names_arr[0])\n",
    "            \n",
    "            T = hdf.get('TIMING')\n",
    "            total_t = T.get('TOTAL_T')[()]\n",
    "            intervals = T.get('INTERVALS')[()]\n",
    "            dt = T.get(\"DT\")[()]\n",
    "            total_steps = total_t /dt          \n",
    "            interval_step = total_steps / intervals\n",
    "            interval_arr = [round(interval_step * i) for i in range(intervals)]\n",
    "            \n",
    "            master_arr = []\n",
    "            t_arr =[]\n",
    "            \n",
    "            \n",
    "            \n",
    "            \n",
    "            ##### LOADING COMPARTMENT DATA\n",
    "            for e in range(len(comp_names_arr)):\n",
    "                C_group = C.get(comp_names_arr[e])\n",
    "                C_group_arr.append(C_group)\n",
    "               \n",
    "                data_arr_2 =[]\n",
    "                for j in range(len(list(C_group.keys()))):\n",
    "                    dataset = C_group.get(str(interval_arr[j]))\n",
    "                    \n",
    "                    data_arr = []\n",
    "                    for d in range(len(list(dataset))):\n",
    "                        data_arr.append(dataset[d])\n",
    "                    \n",
    "                    data_arr_2.append(data_arr)\n",
    "            \n",
    "                    if t_arr_bool == True:\n",
    "                        t_arr.append(data_arr[0]*1e3)         \n",
    "                \n",
    "                master_arr.append(data_arr_2)\n",
    "                t_arr_bool = False\n",
    "                \n",
    "            \n",
    "            #df_start['radius'] = \n",
    "            \n",
    "            E = hdf.get('ELECTRODIFFUSION')\n",
    "            E_group_arr = list(E.keys())\n",
    "            ED_master_arr = []            \n",
    "            \n",
    "            ##### LOADING ELECTRODIFFUSION DATA\n",
    "            for x in range(len(E_group_arr)): # Looping through the electrodiffusion groups on the file\n",
    "                \n",
    "                E_group = E.get(E_group_arr[x])\n",
    "                \n",
    "                ED_data_arr =[] #stores the electrodiffusion data for a group\n",
    "                \n",
    "                for y in range(len(list(E_group.keys()))-1): # Looping through all the datasets of the group\n",
    "                    \n",
    "                    dataset = E_group.get(str(interval_arr[y+1]))\n",
    "                   \n",
    "                    ED_data_arr_2 = [] #stores the dataset values for one dataset\n",
    "                    for z in range(len(list(dataset))): # Looping through the individual datasets to extract data\n",
    "                        ED_data_arr_2.append(dataset[z])\n",
    "                    \n",
    "                    \n",
    "                    ED_data_arr.append(ED_data_arr_2) \n",
    "                    \n",
    "            \n",
    "                ED_master_arr.append(ED_data_arr) #contains all the electrodiffusion data for all the groups (1st index is the group, 2nd index is the interval)\n",
    "            \n",
    "      \n",
    "            \n",
    "    except: \n",
    "        raise(\"File not found\")\n",
    "        raise(\"File needs to be in base directory\")\n",
    "\n",
    "\n",
    "btn_select.on_click(btn_select_clicked)"
   ]
  },
  {
   "cell_type": "markdown",
   "id": "db2053ee",
   "metadata": {},
   "source": [
    "## 5A - PULSE TRACING"
   ]
  },
  {
   "cell_type": "code",
   "execution_count": 23,
   "id": "0604e676",
   "metadata": {},
   "outputs": [
    {
     "name": "stdout",
     "output_type": "stream",
     "text": [
      "['Comp0(Soma)', 'Comp1', 'Comp2', 'Comp3', 'Comp4', 'Comp5', 'Comp6', 'Comp7', 'Comp8', 'Comp9']\n"
     ]
    },
    {
     "data": {
      "image/png": "[encoded data removed]",
      "text/plain": [
       "<Figure size 432x288 with 1 Axes>"
      ]
     },
     "metadata": {
      "needs_background": "light"
     },
     "output_type": "display_data"
    }
   ],
   "source": [
    "for j in range(len(master_arr)):\n",
    "    v_arr = [master_arr[j][i][-3]*1e3 for i in range(len(t_arr))]\n",
    "    #print(str(j) +' of '+str(len(master_arr)+' loaded'))\n",
    "    mplt.plot(t_arr[:],v_arr[:], label= comp_names_arr[j])\n",
    "\n",
    "mplt.legend()\n",
    "print(comp_names_arr)\n"
   ]
  },
  {
   "cell_type": "code",
   "execution_count": 30,
   "id": "8540c042",
   "metadata": {},
   "outputs": [
    {
     "data": {
      "text/plain": [
       "Text(0, 0.5, 'Membrane Potential (mV)')"
      ]
     },
     "execution_count": 30,
     "metadata": {},
     "output_type": "execute_result"
    },
    {
     "data": {
      "image/png": "[encoded data removed]",
      "text/plain": [
       "<Figure size 360x216 with 1 Axes>"
      ]
     },
     "metadata": {
      "needs_background": "light"
     },
     "output_type": "display_data"
    }
   ],
   "source": [
    "f5a, (ax_2) = mplt.subplots(1,1,figsize=(5,3), sharey=True, sharex=False) \n",
    "sns.despine()\n",
    "\n",
    "\n",
    "\n",
    "\n",
    "#### Z = -0.85\n",
    "v_arr = [master_arr[8][j][-3]*1e3 for j in range(len(t_arr))]\n",
    "ax_2.plot(t_arr[::], v_arr[::],'-', label=\"Comp8\",color='#000000')\n",
    "ax_2.set_title(\"z = -0.85: Excitatory synapse\")\n",
    "\n",
    "v_arr = [master_arr[4][j][-3]*1e3 for j in range(len(t_arr))]\n",
    "ax_2.plot(t_arr[:], v_arr[::], '--',  label=\"Comp4\",color='#000000')\n",
    "\n",
    "v_arr = [master_arr[0][j][-3]*1e3 for j in range(len(t_arr))]\n",
    "ax_2.plot(t_arr[::], v_arr[::], '-.', label=\"Soma\",color='#000000')\n",
    "ax_2.legend()\n",
    "\n",
    "#ax_2.get_xaxis().set_visible(False)\n",
    "ax_2.set_ylabel(\"Membrane Potential (mV)\")\n",
    "ax_2.set_xlabel(\"Time (ms)\")\n",
    "#ax_2.set_ylim([-75,-52.5])\n",
    "#ax_2.set_yticks([-70,-65,-60,-55])"
   ]
  },
  {
   "cell_type": "code",
   "execution_count": null,
   "id": "976f608f",
   "metadata": {},
   "outputs": [],
   "source": []
  }
 ],
 "metadata": {
  "kernelspec": {
   "display_name": "Python 3 (ipykernel)",
   "language": "python",
   "name": "python3"
  },
  "language_info": {
   "codemirror_mode": {
    "name": "ipython",
    "version": 3
   },
   "file_extension": ".py",
   "mimetype": "text/x-python",
   "name": "python",
   "nbconvert_exporter": "python",
   "pygments_lexer": "ipython3",
   "version": "3.9.7"
  }
 },
 "nbformat": 4,
 "nbformat_minor": 5
}
