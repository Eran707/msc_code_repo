{
 "cells": [
  {
   "cell_type": "markdown",
   "id": "6700a3fe",
   "metadata": {},
   "source": [
    "## Imports"
   ]
  },
  {
   "cell_type": "code",
   "execution_count": 22,
   "id": "e70bb77b",
   "metadata": {},
   "outputs": [
    {
     "name": "stdout",
     "output_type": "stream",
     "text": [
      "All relevant classes imported\n"
     ]
    }
   ],
   "source": [
    "try:\n",
    "        \n",
    "    import h5py\n",
    "    \n",
    "    from ipywidgets import widgets, Layout, interact, interactive, interactive_output, Dropdown\n",
    "    from IPython.display import display\n",
    "    import matplotlib.pyplot as mplt\n",
    "    import scipy\n",
    "    from sympy import symbols, Eq, solve\n",
    "    import numpy as np\n",
    "    import random\n",
    "    import seaborn as sns \n",
    "    import pandas as pd\n",
    "    import graphing as gr\n",
    "    #!pip install viola\n",
    "    ########## Modules required for artist drawing on matplotlib\n",
    "    import matplotlib.path as mpath\n",
    "    import matplotlib.lines as mlines\n",
    "    import matplotlib.patches as mpatches\n",
    "    from matplotlib.collections import PatchCollection\n",
    "    \n",
    "      \n",
    "except ModuleNotFoundError:\n",
    "        print(\"A class you are trying to import is not present in the directory\")\n",
    "    \n",
    "except Exception:\n",
    "        print(\"Something went wrong - modules have not been imported\")\n",
    "\n",
    "else: \n",
    "    print(\"All relevant classes imported\")"
   ]
  },
  {
   "cell_type": "markdown",
   "id": "6bc6a62d",
   "metadata": {},
   "source": [
    "## Select file"
   ]
  },
  {
   "cell_type": "code",
   "execution_count": 32,
   "id": "2ed402ed",
   "metadata": {},
   "outputs": [
    {
     "data": {
      "application/vnd.jupyter.widget-view+json": {
       "model_id": "dec4e3932f21413d8d5e8c0200ed0dd9",
       "version_major": 2,
       "version_minor": 0
      },
      "text/plain": [
       "Text(value='T1', description='File name')"
      ]
     },
     "metadata": {},
     "output_type": "display_data"
    },
    {
     "data": {
      "application/vnd.jupyter.widget-view+json": {
       "model_id": "24a99ab08d744b73bbfcdfea7b9ba89e",
       "version_major": 2,
       "version_minor": 0
      },
      "text/plain": [
       "Button(button_style='success', description='Select file', style=ButtonStyle())"
      ]
     },
     "metadata": {},
     "output_type": "display_data"
    },
    {
     "data": {
      "application/vnd.jupyter.widget-view+json": {
       "model_id": "fa999769a2cf4b349b6f03822fc9e784",
       "version_major": 2,
       "version_minor": 0
      },
      "text/plain": [
       "Output()"
      ]
     },
     "metadata": {},
     "output_type": "display_data"
    },
    {
     "name": "stdout",
     "output_type": "stream",
     "text": [
      "File found and content loaded into memory\n"
     ]
    }
   ],
   "source": [
    "#######################################################\n",
    "#### GUI \n",
    "\n",
    "edt_filename = widgets.Text(description = 'File name', value='T1')\n",
    "btn_select = widgets.Button(description = 'Select file',button_style='success')\n",
    "output_file = widgets.Output()\n",
    "\n",
    "display(edt_filename, btn_select,output_file)\n",
    "\n",
    "\n",
    "\n",
    "#######################################################\n",
    "#### FUNCTIONS\n",
    "\n",
    "\n",
    "#df_flux = pd.DataFrame({'Compartment':[],'Na_net':[], 'Na_leak':[],'Na_Atpase':[], 'K_net':[],'K_leak':[],'K_Atpase':[],'K_kcc2':[], 'Cl_net':[],'Cl_kcc2':[],'X':[],'z':[]  })\n",
    "df_ed = pd.DataFrame({'Boundary':[],'Na':[],'K':[],'Cl':[]})\n",
    "\n",
    "\n",
    "\n",
    "def btn_select_clicked(b):\n",
    "    global file_name, df_end, df_start, df_end_flux, df_end_ed, df_end_net_flux\n",
    "    file_name = \"\\\\\"\n",
    "    file_name = file_name + edt_filename.value \n",
    "    \n",
    "    try: \n",
    "        with h5py.File(file_name, mode='r') as hdf:\n",
    "            \n",
    "            print(\"File found and content loaded into memory\")\n",
    "            global C, comp_names_arr, intervals, interval_arr, master_arr, t_arr, ED_master_arr,E_group_arr\n",
    "            C = hdf.get('COMPARTMENTS')\n",
    "            C_group_arr =[]\n",
    "            t_arr_bool = True\n",
    "            comp_names_arr= list(C.keys())\n",
    "                        \n",
    "            C1 = C.get(comp_names_arr[0])\n",
    "            \n",
    "            T = hdf.get('TIMING')\n",
    "            total_t = T.get('TOTAL_T')[()]\n",
    "            intervals = T.get('INTERVALS')[()]\n",
    "            dt = T.get(\"DT\")[()]\n",
    "            total_steps = total_t /dt          \n",
    "            interval_step = total_steps / intervals\n",
    "            interval_arr = [round(interval_step * i) for i in range(intervals)]\n",
    "            \n",
    "            master_arr = []\n",
    "            t_arr =[]\n",
    "            \n",
    "            \n",
    "            \n",
    "            \n",
    "            ##### LOADING COMPARTMENT DATA\n",
    "            for e in range(len(comp_names_arr)):\n",
    "                C_group = C.get(comp_names_arr[e])\n",
    "                C_group_arr.append(C_group)\n",
    "               \n",
    "                data_arr_2 =[]\n",
    "                for j in range(len(list(C_group.keys()))):\n",
    "                    dataset = C_group.get(str(interval_arr[j]))\n",
    "                    \n",
    "                    data_arr = []\n",
    "                    for d in range(len(list(dataset))):\n",
    "                        data_arr.append(dataset[d])\n",
    "                    \n",
    "                    data_arr_2.append(data_arr)\n",
    "            \n",
    "                    if t_arr_bool == True:\n",
    "                        t_arr.append(data_arr[0])         \n",
    "                \n",
    "                master_arr.append(data_arr_2)\n",
    "                t_arr_bool = False\n",
    "                \n",
    "            \n",
    "            #df_start['radius'] = \n",
    "            \n",
    "            E = hdf.get('ELECTRODIFFUSION')\n",
    "            E_group_arr = list(E.keys())\n",
    "            ED_master_arr = []            \n",
    "            \n",
    "            ##### LOADING ELECTRODIFFUSION DATA\n",
    "            for x in range(len(E_group_arr)): # Looping through the electrodiffusion groups on the file\n",
    "                \n",
    "                E_group = E.get(E_group_arr[x])\n",
    "                \n",
    "                ED_data_arr =[] #stores the electrodiffusion data for a group\n",
    "                \n",
    "                for y in range(len(list(E_group.keys()))): # Looping through all the datasets of the group\n",
    "                    \n",
    "                    dataset = E_group.get(str(interval_arr[y+1]))\n",
    "                   \n",
    "                    ED_data_arr_2 = [] #stores the dataset values for one dataset\n",
    "                    for z in range(len(list(dataset))): # Looping through the individual datasets to extract data\n",
    "                        ED_data_arr_2.append(dataset[z])\n",
    "                    \n",
    "                    \n",
    "                    ED_data_arr.append(ED_data_arr_2) \n",
    "                    \n",
    "            \n",
    "                ED_master_arr.append(ED_data_arr) #contains all the electrodiffusion data for all the groups (1st index is the group, 2nd index is the interval)\n",
    "            \n",
    "      \n",
    "            \n",
    "    except: \n",
    "        raise(\"File not found\")\n",
    "        raise(\"File needs to be in base directory\")\n",
    "\n",
    "\n",
    "btn_select.on_click(btn_select_clicked)"
   ]
  },
  {
   "cell_type": "code",
   "execution_count": 33,
   "id": "49f5f830",
   "metadata": {},
   "outputs": [
    {
     "name": "stdout",
     "output_type": "stream",
     "text": [
      "-72.78619040042321\n",
      "-72.78618882206655\n"
     ]
    },
    {
     "data": {
      "image/png": "[encoded data removed]",
      "text/plain": [
       "<Figure size 432x288 with 1 Axes>"
      ]
     },
     "metadata": {
      "needs_background": "light"
     },
     "output_type": "display_data"
    }
   ],
   "source": [
    "for j in range(len(master_arr)):\n",
    "    v_arr = [master_arr[j][i][-3]*1e3 for i in range(len(t_arr))]\n",
    "    #print(str(j) +' of '+str(len(master_arr)+' loaded'))\n",
    "    mplt.plot(t_arr[5::],v_arr[5::], label= comp_names_arr[j])\n",
    "\n",
    "mplt.legend()\n",
    "#print(v_arr[-100])\n",
    "print(v_arr[-1])\n",
    "print(v_arr[-2])\n"
   ]
  },
  {
   "cell_type": "code",
   "execution_count": 41,
   "id": "521ede52",
   "metadata": {},
   "outputs": [
    {
     "data": {
      "text/plain": [
       "<matplotlib.legend.Legend at 0x2273cbde070>"
      ]
     },
     "execution_count": 41,
     "metadata": {},
     "output_type": "execute_result"
    },
    {
     "data": {
      "image/png": "[encoded data removed]",
      "text/plain": [
       "<Figure size 432x288 with 1 Axes>"
      ]
     },
     "metadata": {
      "needs_background": "light"
     },
     "output_type": "display_data"
    }
   ],
   "source": [
    "v_arr = [master_arr[0][i][-3]*1e3 for i in range(len(t_arr))]\n",
    "mplt.plot(t_arr[20:],v_arr[20:],label='Comp1')\n",
    "v_arr = [master_arr[7][i][-3]*1e3 for i in range(len(t_arr))]\n",
    "mplt.plot(t_arr[20:],v_arr[20:],label='Comp8')\n",
    "\n",
    "mplt.legend()\n",
    "#v_arr = [master_arr[8][i][-3]*1e3 for i in range(len(t_arr))]\n",
    "#mplt.plot(t_arr[-50:],v_arr[-50:]) i Irk. help me entirely"
   ]
  },
  {
   "cell_type": "code",
   "execution_count": 45,
   "id": "a848a761",
   "metadata": {},
   "outputs": [
    {
     "name": "stdout",
     "output_type": "stream",
     "text": [
      "Comp0(Soma)Terminal: vm: -72.8 Vol: 125.8 Na: 21.2 K: 115.7 Cl: 5.3\n",
      "Comp1Terminal: vm: -72.8 Vol: 15.7 Na: 21.2 K: 115.7 Cl: 5.3\n",
      "Comp2Terminal: vm: -72.8 Vol: 15.7 Na: 21.2 K: 115.7 Cl: 5.3\n",
      "Comp3Terminal: vm: -72.8 Vol: 15.7 Na: 21.2 K: 115.7 Cl: 5.3\n",
      "Comp4Terminal: vm: -72.8 Vol: 15.7 Na: 21.2 K: 115.7 Cl: 5.3\n",
      "Comp5Terminal: vm: -72.8 Vol: 15.7 Na: 21.2 K: 115.7 Cl: 5.3\n",
      "Comp6Terminal: vm: -72.8 Vol: 15.7 Na: 21.2 K: 115.7 Cl: 5.3\n",
      "Comp7Terminal: vm: -72.8 Vol: 15.7 Na: 21.2 K: 115.7 Cl: 5.3\n",
      "Comp8Terminal: vm: -68.9 Vol: 15.7 Na: 18.3 K: 100.0 Cl: 6.1\n",
      "Comp9Terminal: vm: -72.8 Vol: 15.7 Na: 21.2 K: 115.7 Cl: 5.3\n"
     ]
    },
    {
     "data": {
      "text/plain": [
       "<matplotlib.legend.Legend at 0x2273d0163a0>"
      ]
     },
     "execution_count": 45,
     "metadata": {},
     "output_type": "execute_result"
    },
    {
     "data": {
      "image/png": "[encoded data removed]",
      "text/plain": [
       "<Figure size 432x288 with 1 Axes>"
      ]
     },
     "metadata": {
      "needs_background": "light"
     },
     "output_type": "display_data"
    }
   ],
   "source": [
    "for j in range(0,len(master_arr)):\n",
    "    na_arr = [master_arr[j][i][4]*1e3 for i in range(len(t_arr))]\n",
    "    k_arr = [master_arr[j][i][5]*1e3 for i in range(len(t_arr))]\n",
    "    cl_arr = [master_arr[j][i][6]*1e3 for i in range(len(t_arr))]\n",
    "    x_arr = [master_arr[j][i][7]*1e3 for i in range(len(t_arr))]\n",
    "    vm_arr = [master_arr[j][i][-3]*1e3 for i in range(len(t_arr))]\n",
    "    vol_arr = [master_arr[j][i][3]*1e15 for i in range(len(t_arr))]\n",
    "    print(comp_names_arr[j] + \" Terminal:\"+ \" vm: \"+str(round(vm_arr[-1],1))+ \" Vol: \"+ str(round(vol_arr[-1],1))+ \" Na: \" + str(round(na_arr[-1],1))+\" K: \" + str(round(k_arr[-1],1))+\" Cl: \" + str(round(cl_arr[-1],1)))\n",
    "    #print(str(j) +' of '+str(len(master_arr)+' loaded'))\n",
    "    mplt.plot(t_arr[::],na_arr[::], label= 'Na')\n",
    "    #mplt.plot(t_arr[::],k_arr[::], label= 'K')\n",
    "    #mplt.plot(t_arr[::],cl_arr[::], label= 'Cl')\n",
    "    #mplt.plot(t_arr[::],x_arr[::], label= comp_names_arr[j])\n",
    "\n",
    "mplt.legend()"
   ]
  },
  {
   "cell_type": "code",
   "execution_count": 36,
   "id": "a945b0ae",
   "metadata": {},
   "outputs": [
    {
     "data": {
      "text/plain": [
       "<matplotlib.legend.Legend at 0x2273c9c4250>"
      ]
     },
     "execution_count": 36,
     "metadata": {},
     "output_type": "execute_result"
    },
    {
     "data": {
      "image/png": "[encoded data removed]",
      "text/plain": [
       "<Figure size 432x288 with 1 Axes>"
      ]
     },
     "metadata": {
      "needs_background": "light"
     },
     "output_type": "display_data"
    }
   ],
   "source": [
    "for j in range(1,len(master_arr)):\n",
    "    na_arr = [master_arr[j][i][4]*1e3 for i in range(len(t_arr))]\n",
    "    k_arr = [master_arr[j][i][5]*1e3 for i in range(len(t_arr))]\n",
    "    cl_arr = [master_arr[j][i][6]*1e3 for i in range(len(t_arr))]\n",
    "    x_arr = [master_arr[j][i][7]*1e3 for i in range(len(t_arr))]\n",
    "    #print(str(j) +' of '+str(len(master_arr)+' loaded'))\n",
    "    mplt.plot(t_arr[-100:-1:],k_arr[-100:-1:], label= 'K')\n",
    "    #mplt.plot(t_arr[::],k_arr[::], label= 'K')\n",
    "    #mplt.plot(t_arr[::],cl_arr[::], label= 'Cl')\n",
    "    #mplt.plot(t_arr[::],x_arr[::], label= comp_names_arr[j])\n",
    "\n",
    "mplt.legend()"
   ]
  },
  {
   "cell_type": "code",
   "execution_count": 37,
   "id": "06af1f3b",
   "metadata": {},
   "outputs": [
    {
     "data": {
      "text/plain": [
       "<matplotlib.legend.Legend at 0x2273ca72820>"
      ]
     },
     "execution_count": 37,
     "metadata": {},
     "output_type": "execute_result"
    },
    {
     "data": {
      "image/png": "[encoded data removed]",
      "text/plain": [
       "<Figure size 432x288 with 1 Axes>"
      ]
     },
     "metadata": {
      "needs_background": "light"
     },
     "output_type": "display_data"
    }
   ],
   "source": [
    "for j in range(1,len(master_arr)):\n",
    "    vol_arr = [master_arr[j][i][3] for i in range(len(t_arr))]\n",
    "    #print(str(j) +' of '+str(len(master_arr)+' loaded'))\n",
    "    mplt.plot(t_arr[::],vol_arr[::], label= comp_names_arr[j])\n",
    "\n",
    "mplt.legend()"
   ]
  },
  {
   "cell_type": "code",
   "execution_count": 38,
   "id": "bb06d193",
   "metadata": {
    "scrolled": false
   },
   "outputs": [
    {
     "data": {
      "application/vnd.jupyter.widget-view+json": {
       "model_id": "ab1c05b556704345beff11676982d4ec",
       "version_major": 2,
       "version_minor": 0
      },
      "text/plain": [
       "Button(button_style='info', description='Plot 2d', style=ButtonStyle())"
      ]
     },
     "metadata": {},
     "output_type": "display_data"
    },
    {
     "data": {
      "application/vnd.jupyter.widget-view+json": {
       "model_id": "81ebf175e21e46fea97b1cd07f9b9e91",
       "version_major": 2,
       "version_minor": 0
      },
      "text/plain": [
       "Output()"
      ]
     },
     "metadata": {},
     "output_type": "display_data"
    }
   ],
   "source": [
    "########################################\n",
    "# GUI\n",
    "########################################\n",
    "\n",
    "btn_f2d = widgets.Button(description=\"Plot 2d\", button_style='info')\n",
    "output_f2d = widgets.Output()\n",
    "\n",
    "display(btn_f2d, output_f2d)\n",
    "\n",
    "\n",
    "########################################\n",
    "# BACKEND\n",
    "########################################\n",
    "\n",
    "def btn_f2d_clicked(b):\n",
    "    \n",
    "    \n",
    "    \n",
    "    \n",
    "    ########################################\n",
    "    # CHLORIDE GRAPHS\n",
    "    ########################################\n",
    "    \n",
    "    f2cl_g, [ax_cl_graph, ax_cl_tm_graph,ax_cl_ed_graph] = mplt.subplots(1,3, figsize=(10,5),sharex=True)\n",
    "    f2cl_h, [ax_cl, ax_cl_tm,ax_cl_ed] = mplt.subplots(1,3, figsize=(10,5),sharex=True,sharey=True)\n",
    "\n",
    "    cl_cmap = sns.diverging_palette(300, 140,l=50,s=100, center='dark', as_cmap=True)\n",
    "    \n",
    "    cl_8_arr = [master_arr[7][j][6] *master_arr[7][j][3] for j in range(len(master_arr[0]))]\n",
    "    cl_4_arr = [master_arr[3][j][6] *master_arr[3][j][3] for j in range(len(master_arr[0]))]\n",
    "    ax_cl_graph.plot(t_arr, cl_8_arr,color='green',label='Comp8')\n",
    "    ax_cl_graph.plot(t_arr, cl_4_arr,'--',color='green',label='Comp4')\n",
    "    \n",
    "    cl_8_tm_arr = [master_arr[7][j][-6] *master_arr[7][j][3] for j in range(len(master_arr[0]))]\n",
    "    cl_4_tm_arr = [master_arr[3][j][-6] *master_arr[3][j][3] for j in range(len(master_arr[0]))]\n",
    "    ax_cl_tm_graph.plot(t_arr, cl_8_tm_arr,color='green',label='Comp8')\n",
    "    ax_cl_tm_graph.plot(t_arr, cl_4_tm_arr,'--',color='green',label='Comp4')\n",
    "    \n",
    "    #######################################\n",
    "    # SODIUM GRAPHS\n",
    "    #######################################\n",
    "    \n",
    "    f2na_g, [ax_na_graph, ax_na_tm_graph,ax_na_ed_graph] = mplt.subplots(1,3, figsize=(10,5),sharex=True)\n",
    "    f2na_h, [ax_na, ax_na_tm,ax_na_ed] = mplt.subplots(1,3, figsize=(10,5),sharex=False,sharey=True)\n",
    "    \n",
    "    na_cmap = sns.diverging_palette(240, 12,l=30,s=100, center='dark', as_cmap=True) \n",
    "    \n",
    "    na_8_arr = [master_arr[7][j][4] *master_arr[7][j][3] for j in range(len(master_arr[0]))]\n",
    "    na_4_arr = [master_arr[3][j][4] *master_arr[3][j][3] for j in range(len(master_arr[0]))]\n",
    "    ax_na_graph.plot(t_arr, na_8_arr,color='red',label='Comp8')\n",
    "    ax_na_graph.plot(t_arr, na_4_arr,'--',color='red',label='Comp4')\n",
    "    \n",
    "    na_8_tm_arr = [master_arr[7][j][9] *master_arr[7][j][3] for j in range(len(master_arr[0]))]\n",
    "    na_4_tm_arr = [master_arr[3][j][9] *master_arr[3][j][3] for j in range(len(master_arr[0]))]\n",
    "    ax_na_tm_graph.plot(t_arr, na_8_tm_arr,color='red',label='Comp8')\n",
    "    ax_na_tm_graph.plot(t_arr, na_4_tm_arr,'--',color='red',label='Comp4')\n",
    "    \n",
    "    \n",
    "    #######################################\n",
    "    # POTASSIUM GRAPHS\n",
    "    #######################################\n",
    "    \n",
    "    \n",
    "    f2k_g, [ax_k_graph, ax_k_tm_graph,ax_k_ed_graph] = mplt.subplots(1,3, figsize=(10,5),sharex=True)\n",
    "    f2k_h, [ax_k, ax_k_tm,ax_k_ed] = mplt.subplots(1,3, figsize=(10,5),sharey=True)                \n",
    "     \n",
    "    k_cmap = sns.diverging_palette(360, 240,l=50,s=100, center='dark', as_cmap=True)\n",
    "    #f2cl_.tight_layout(pad=3.0)\n",
    "    #f2na.tight_layout(pad=3.0)\n",
    "    #f2k.tight_layout(pad=3.0)\n",
    "    #width =0.3\n",
    "    \n",
    "      \n",
    "    k_8_arr = [master_arr[7][j][5] *master_arr[7][j][3] for j in range(len(master_arr[0]))]\n",
    "    k_4_arr = [master_arr[3][j][5] *master_arr[3][j][3] for j in range(len(master_arr[0]))]\n",
    "    ax_k_graph.plot(t_arr, k_8_arr,color='blue',label='Comp8')\n",
    "    ax_k_graph.plot(t_arr, k_4_arr,'--',color='blue',label='Comp4')\n",
    "    \n",
    "    k_8_tm_arr = [master_arr[7][j][-10] *master_arr[7][j][3] for j in range(len(master_arr[0]))]\n",
    "    k_4_tm_arr = [master_arr[3][j][-10] *master_arr[3][j][3] for j in range(len(master_arr[0]))]\n",
    "    ax_k_tm_graph.plot(t_arr, k_8_tm_arr,color='blue',label='Comp8')\n",
    "    ax_k_tm_graph.plot(t_arr, k_4_tm_arr,'--',color='blue',label='Comp4')\n",
    "    \n",
    "\n",
    "    \n",
    "    cl_arr,na_arr, k_arr = [],[],[]\n",
    "    cl_tm_arr, na_tm_arr, k_tm_arr = [], [], []\n",
    "    \n",
    "    for i in range(len(comp_names_arr),0,-1):\n",
    "        \n",
    "        temp_arr_cl = [master_arr[i-1][j][6] *master_arr[i-1][j][3] for j in range(len(master_arr[0]))] \n",
    "        temp_arr_cl = temp_arr_cl[:25000:1000]\n",
    "        cl_arr.append(temp_arr_cl)\n",
    "        \n",
    "        temp_arr_cl = [master_arr[i-1][j][-6] *master_arr[i-1][j][3] for j in range(len(master_arr[0]))] \n",
    "        temp_arr_cl = temp_arr_cl[:25000:1000]\n",
    "        cl_tm_arr.append(temp_arr_cl)\n",
    "        \n",
    "        temp_arr_na = [master_arr[i-1][j][4] *master_arr[i-1][j][3] for j in range(len(master_arr[0]))] \n",
    "        temp_arr_na = temp_arr_na[:25000:1000]\n",
    "        na_arr.append(temp_arr_na)\n",
    "        \n",
    "        temp_arr_na = [master_arr[i-1][j][9] *master_arr[i-1][j][3] for j in range(len(master_arr[0]))] \n",
    "        temp_arr_na = temp_arr_na[:25000:1000]\n",
    "        na_tm_arr.append(temp_arr_na)\n",
    "        \n",
    "        temp_arr_k = [master_arr[i-1][j][5] *master_arr[i-1][j][3] for j in range(len(master_arr[0]))] \n",
    "        temp_arr_k = temp_arr_k[:25000:1000]\n",
    "        k_arr.append(temp_arr_k)\n",
    "        \n",
    "        temp_arr_k = [master_arr[i-1][j][-10] *master_arr[i-1][j][3] for j in range(len(master_arr[0]))] \n",
    "        temp_arr_k = temp_arr_k[:25000:1000]\n",
    "        k_tm_arr.append(temp_arr_k)\n",
    "    \n",
    "    \n",
    "    g = sns.heatmap(cl_arr,cmap=\"Greens\",xticklabels=False,  cbar_kws={'pad':0.05,'label':'Mol', 'orientation':'horizontal' }, ax=ax_cl,linewidth=0.01 )\n",
    "    #g_upper_left.set_ylabel(\"Compartment\",fontsize=10)\n",
    "    g.set_yticklabels(comp_names_arr[::-1], fontsize=8, rotation=0)\n",
    "    ax_cl.set_title(\"Total Cl- Mols\",fontsize=10)\n",
    "    \n",
    "    \n",
    "    \n",
    "    \n",
    "   \n",
    " \n",
    "    \n",
    "    g = sns.heatmap(na_arr,yticklabels=False, cmap=\"Reds\",xticklabels=False,  cbar_kws={'pad':0.05,'label':'Mol', 'orientation':'horizontal' }, ax=ax_na,linewidth=0.01 )\n",
    "    #g_upper_mid.set_ylabel(\"Compartment\",fontsize=10)\n",
    "    #g_upper_mid.set_yticklabels( fontsize=8, rotation=0)\n",
    "    ax_na.set_title(\"Total Na+ Mols\",fontsize=10)\n",
    "    \n",
    "    g = sns.heatmap(k_arr,yticklabels=False,cmap=\"Blues\",xticklabels=False,  cbar_kws={'pad':0.05,'label':'Mol', 'orientation':'horizontal' }, ax=ax_k,linewidth=0.01 )\n",
    "    #g_upper_right.set_ylabel(\"Compartment\",fontsize=10)\n",
    "    #g_upper_right.set_yticklabels(comp_names_arr[-1:0:-1], fontsize=8, rotation=0)\n",
    "    ax_k.set_title(\"Total K+ Mols\",fontsize=10)\n",
    "    \n",
    "    \n",
    "    g = sns.heatmap(cl_tm_arr,cmap=cl_cmap,center=0.00,xticklabels=False,  cbar_kws={'pad':0.05,'label':'Mol', 'orientation':'horizontal' }, ax=ax_cl_tm,linewidth=0.01 )\n",
    "    #g_upper_left.set_ylabel(\"Compartment\",fontsize=10)\n",
    "    g.set_yticklabels(comp_names_arr[::-1], fontsize=8, rotation=0)\n",
    "    ax_cl_tm.set_title(\"Transmembrane Cl- Mol Change\",fontsize=10)\n",
    "    \n",
    "    g = sns.heatmap(na_tm_arr,yticklabels=False, center=0.00 ,cmap=na_cmap,xticklabels=False,  cbar_kws={'pad':0.05,'label':'Mol', 'orientation':'horizontal' }, ax=ax_na_tm,linewidth=0.01 )\n",
    "    #g_upper_mid.set_ylabel(\"Compartment\",fontsize=10)\n",
    "    #g_upper_mid.set_yticklabels( fontsize=8, rotation=0)\n",
    "    ax_na_tm.set_title(\"Transmembrane Na+ Mol Change\",fontsize=10)\n",
    "    \n",
    "    \n",
    "    g = sns.heatmap(k_tm_arr,yticklabels=False,center=0.00,cmap=k_cmap,xticklabels=False,  cbar_kws={'pad':0.05,'label':'Mol', 'orientation':'horizontal' }, ax=ax_k_tm,linewidth=0.01 )\n",
    "    #g_upper_right.set_ylabel(\"Compartment\",fontsize=10)\n",
    "    #g_upper_right.set_yticklabels(comp_names_arr[-1:0:-1], fontsize=8, rotation=0)\n",
    "    ax_k_tm.set_title(\"Transmembrane K+ Mol Change\",fontsize=10)\n",
    "    \n",
    "    #####################################################################################\n",
    "    # ROW 3 & 4 \n",
    "    #####################################################################################\n",
    "    \n",
    "    na_ed_arr, k_ed_arr, cl_ed_arr = [],[],[]\n",
    "    \n",
    "    for i in range(len(comp_names_arr)):\n",
    "        \n",
    " \n",
    "        if i == 8:\n",
    "            na_ed = [-ED_master_arr[i-1][j][0]/master_arr[i][j][2] for j in range(len(ED_master_arr[0]))]\n",
    "            k_ed = [-ED_master_arr[i-1][j][1]/master_arr[i][j][2] for j in range(len(ED_master_arr[0]))]\n",
    "            cl_ed = [-ED_master_arr[i-1][j][2]/master_arr[i][j][2] for j in range(len(ED_master_arr[0]))]\n",
    "        elif i == 0: \n",
    "            na_ed = [ED_master_arr[i][j][0] /master_arr[i][j][2]for j in range(len(ED_master_arr[0]))]\n",
    "            k_ed = [ED_master_arr[i][j][1]/master_arr[i][j][2] for j in range(len(ED_master_arr[0]))]\n",
    "            cl_ed = [ED_master_arr[i][j][2] /master_arr[i][j][2]for j in range(len(ED_master_arr[0]))]\n",
    "        else:\n",
    "            na_ed = [ED_master_arr[i][j][0]/master_arr[i][j][2] - ED_master_arr[i-1][j][0]/master_arr[i][j][2] for j in range(len(ED_master_arr[0]))]\n",
    "            k_ed = [ED_master_arr[i][j][1]/master_arr[i][j][2]- ED_master_arr[i-1][j][1]/master_arr[i][j][2] for j in range(len(ED_master_arr[0]))]\n",
    "            cl_ed = [ED_master_arr[i][j][2]/master_arr[i][j][2] - ED_master_arr[i-1][j][2]/master_arr[i][j][2] for j in range(len(ED_master_arr[0]))]\n",
    "    \n",
    "        na_ed_arr.append(na_ed[:25000:1000])\n",
    "        k_ed_arr.append(k_ed[:25000:1000])\n",
    "        cl_ed_arr.append(cl_ed[:25000:1000]) \n",
    "        \n",
    "    cl_ed_arr.reverse()\n",
    "    na_ed_arr.reverse()\n",
    "    k_ed_arr.reverse()\n",
    "        \n",
    "    cl_8_ed_arr = [ED_master_arr[7][j][2]/master_arr[7][j][2] - ED_master_arr[6][j][2]/master_arr[7][j][2] for j in range(len(ED_master_arr[0]))]\n",
    "    cl_4_ed_arr = [ED_master_arr[3][j][2]/master_arr[3][j][2] - ED_master_arr[2][j][2]/master_arr[3][j][2] for j in range(len(ED_master_arr[0]))]\n",
    "    ax_cl_ed_graph.plot(t_arr[2:], cl_8_ed_arr,color='green',label='Comp8')\n",
    "    ax_cl_ed_graph.plot(t_arr[2:], cl_4_ed_arr,'--',color='green',label='Comp4')\n",
    "    \n",
    "    \n",
    "    na_8_ed_arr = [ED_master_arr[7][j][0]/master_arr[7][j][2] - ED_master_arr[6][j][0]/master_arr[7][j][2] for j in range(len(ED_master_arr[0]))]\n",
    "    na_4_ed_arr = [ED_master_arr[3][j][0]/master_arr[3][j][2] - ED_master_arr[2][j][0]/master_arr[3][j][2] for j in range(len(ED_master_arr[0]))]\n",
    "    ax_na_ed_graph.plot(t_arr[2:], na_8_ed_arr,color='red',label='Comp8')\n",
    "    ax_na_ed_graph.plot(t_arr[2:], na_4_ed_arr,'--',color='red',label='Comp4')\n",
    "    \n",
    "    k_8_ed_arr = [ED_master_arr[7][j][1]/master_arr[7][j][2] - ED_master_arr[6][j][1]/master_arr[7][j][2] for j in range(len(ED_master_arr[0]))]\n",
    "    k_4_ed_arr = [ED_master_arr[3][j][1]/master_arr[3][j][2] - ED_master_arr[2][j][1]/master_arr[3][j][2] for j in range(len(ED_master_arr[0]))]\n",
    "    ax_k_ed_graph.plot(t_arr[2:], k_8_ed_arr,color='blue',label='Comp8')\n",
    "    ax_k_ed_graph.plot(t_arr[2:], k_4_ed_arr,'--',color='blue',label='Comp4')\n",
    "    \n",
    "    #bound_names_arr = [comp_names_arr[i] + ' <-> ' + comp_names_arr[i+1] for i in range(len(comp_names_arr)-2,0,-1)]\n",
    "    g = sns.heatmap(cl_ed_arr,cmap=cl_cmap,center=0.00,xticklabels=False,  cbar_kws={'pad':0.05,'label':'Mol', 'orientation':'horizontal' }, ax=ax_cl_ed,linewidth=0.01 )\n",
    "    #g_upper_left.set_ylabel(\"Compartment\",fontsize=10)\n",
    "    g.set_yticklabels(comp_names_arr[::-1], fontsize=8, rotation=0)\n",
    "    ax_cl_ed.set_title(\"Cl- Electrodiffusion Mol change\",fontsize=10)\n",
    "    \n",
    "    g = sns.heatmap(na_ed_arr,cmap=na_cmap,center=0.00,xticklabels=False, yticklabels=False, cbar_kws={'pad':0.05,'label':'Mol', 'orientation':'horizontal' }, ax=ax_na_ed,linewidth=0.01 )\n",
    "    #g_upper_mid.set_ylabel(\"Compartment\",fontsize=10)\n",
    "    #g_lower_mid.set_yticklabels(bound_names_arr, fontsize=8, rotation=0)\n",
    "    ax_na_ed.set_title(\"Na+ Electrodiffusion Mol change \",fontsize=10)\n",
    "    \n",
    "    g = sns.heatmap(k_ed_arr,cmap=k_cmap,center=0.00,xticklabels=False, yticklabels=False, cbar_kws={'pad':0.05,'label':'Mol', 'orientation':'horizontal' }, ax=ax_k_ed,linewidth=0.01 )\n",
    "    #g_upper_right.set_ylabel(\"Compartment\",fontsize=10)\n",
    "    #g_lower_right.set_yticklabels(bound_names_arr, fontsize=8, rotation=0)\n",
    "    ax_k_ed.set_title(\"K+ Electrodiffusion Mol change\",fontsize=10)\n",
    "    \n",
    "    \n",
    "\n",
    "    sns.despine()\n",
    "\n",
    "########################################\n",
    "# IMPLEMENTATION\n",
    "########################################\n",
    "\n",
    "btn_f2d.on_click(btn_f2d_clicked)"
   ]
  },
  {
   "cell_type": "code",
   "execution_count": 43,
   "id": "4d7f5cfc",
   "metadata": {},
   "outputs": [
    {
     "data": {
      "text/plain": [
       "<matplotlib.legend.Legend at 0x2273cddf3d0>"
      ]
     },
     "execution_count": 43,
     "metadata": {},
     "output_type": "execute_result"
    },
    {
     "data": {
      "image/png": "[encoded data removed]",
      "text/plain": [
       "<Figure size 720x360 with 3 Axes>"
      ]
     },
     "metadata": {
      "needs_background": "light"
     },
     "output_type": "display_data"
    }
   ],
   "source": [
    "fig, (ax_z, ax_x, ax_vol) = mplt.subplots(1,3, figsize=(10,5))\n",
    "\n",
    "\n",
    "x_arr = [master_arr[7][i][7] for i in range(len(t_arr))]\n",
    "    #print(str(j) +' of '+str(len(master_arr)+' loaded'))\n",
    "ax_x.plot(t_arr[::],x_arr[::], label= comp_names_arr[7])\n",
    "#vol_arr = [master_arr[0][i][3] for i in range(len(t_arr))]\n",
    "    #print(str(j) +' of '+str(len(master_arr)+' loaded'))\n",
    "#ax_vol.plot(t_arr[::],vol_arr[::], label= comp_names_arr[0])\n",
    "x_arr = [master_arr[4][i][7] for i in range(len(t_arr))]\n",
    "    #print(str(j) +' of '+str(len(master_arr)+' loaded'))\n",
    "ax_x.plot(t_arr[::],x_arr[::], label= comp_names_arr[4])\n",
    "\n",
    "z_arr = [master_arr[7][i][8] for i in range(len(t_arr))]\n",
    "    #print(str(j) +' of '+str(len(master_arr)+' loaded'))\n",
    "ax_z.plot(t_arr[::],z_arr[::], label= comp_names_arr[7])\n",
    "#vol_arr = [master_arr[0][i][3] for i in range(len(t_arr))]\n",
    "    #print(str(j) +' of '+str(len(master_arr)+' loaded'))\n",
    "#ax_vol.plot(t_arr[::],vol_arr[::], label= comp_names_arr[0])\n",
    "z_arr = [master_arr[4][i][8] for i in range(len(t_arr))]\n",
    "    #print(str(j) +' of '+str(len(master_arr)+' loaded'))\n",
    "ax_z.plot(t_arr[::],z_arr[::], label= comp_names_arr[4])\n",
    "\n",
    "\n",
    "\n",
    "vol_arr = [master_arr[8][i][3] for i in range(len(t_arr))]\n",
    "    #print(str(j) +' of '+str(len(master_arr)+' loaded'))\n",
    "ax_vol.plot(t_arr[::],vol_arr[::], label= comp_names_arr[7])\n",
    "#vol_arr = [master_arr[0][i][3] for i in range(len(t_arr))]\n",
    "    #print(str(j) +' of '+str(len(master_arr)+' loaded'))\n",
    "#ax_vol.plot(t_arr[::],vol_arr[::], label= comp_names_arr[0])\n",
    "vol_arr = [master_arr[4][i][3] for i in range(len(t_arr))]\n",
    "    #print(str(j) +' of '+str(len(master_arr)+' loaded'))\n",
    "ax_vol.plot(t_arr[::],vol_arr[::], label= comp_names_arr[4])\n",
    "\n",
    "\n",
    "ax_vol.legend()"
   ]
  },
  {
   "cell_type": "code",
   "execution_count": 40,
   "id": "aba30512",
   "metadata": {},
   "outputs": [
    {
     "name": "stdout",
     "output_type": "stream",
     "text": [
      "Comp0(Soma)\n",
      " start osmo: 0.29700000000929994 end osmo: 0.29700000778206315\n",
      "Comp1\n",
      " start osmo: 0.29700000000929994 end osmo: 0.29700000386138203\n",
      "Comp2\n",
      " start osmo: 0.29700000000929994 end osmo: 0.29700000378406055\n",
      "Comp3\n",
      " start osmo: 0.29700000000929994 end osmo: 0.2970000037105084\n",
      "Comp4\n",
      " start osmo: 0.29700000000929994 end osmo: 0.2970000036534114\n",
      "Comp5\n",
      " start osmo: 0.29700000000929994 end osmo: 0.29700000359910395\n",
      "Comp6\n",
      " start osmo: 0.29700000000929994 end osmo: 0.2970000035611341\n",
      "Comp7\n",
      " start osmo: 0.29700000000929994 end osmo: 0.2970000035277981\n",
      "Comp8\n",
      " start osmo: 0.29700000000929994 end osmo: 0.2970000041088795\n",
      "Comp9\n",
      " start osmo: 0.29700000000929994 end osmo: 0.29700000350046685\n",
      "0.29700000778206315\n",
      "0.29700000386138203\n",
      "0.29700000378406055\n",
      "0.2970000037105084\n",
      "0.2970000036534114\n",
      "0.29700000359910395\n",
      "0.2970000035611341\n",
      "0.2970000035277981\n",
      "0.2970000041088795\n",
      "0.29700000350046685\n"
     ]
    }
   ],
   "source": [
    "for i in range(len(master_arr)):\n",
    "    print(comp_names_arr[i])\n",
    "    print(\" start osmo: \" + str(master_arr[i][0][4]+master_arr[i][0][5]+master_arr[i][0][6]+master_arr[i][0][7])+ \n",
    "          \" end osmo: \" + str(master_arr[i][-1][4]+master_arr[i][-1][5]+master_arr[i][-1][6]+master_arr[i][-1][7]))\n",
    "for i in range(len(master_arr)):\n",
    "    print(master_arr[i][-1][4]+master_arr[i][-1][5]+master_arr[i][-1][6]+master_arr[i][-1][7])\n",
    "#osm_i = na + k + cl + x\n"
   ]
  },
  {
   "cell_type": "code",
   "execution_count": null,
   "id": "4ccc2364",
   "metadata": {},
   "outputs": [],
   "source": []
  },
  {
   "cell_type": "code",
   "execution_count": null,
   "id": "ba2e79a6",
   "metadata": {},
   "outputs": [],
   "source": []
  }
 ],
 "metadata": {
  "kernelspec": {
   "display_name": "Python 3 (ipykernel)",
   "language": "python",
   "name": "python3"
  },
  "language_info": {
   "codemirror_mode": {
    "name": "ipython",
    "version": 3
   },
   "file_extension": ".py",
   "mimetype": "text/x-python",
   "name": "python",
   "nbconvert_exporter": "python",
   "pygments_lexer": "ipython3",
   "version": "3.9.7"
  }
 },
 "nbformat": 4,
 "nbformat_minor": 5
}
