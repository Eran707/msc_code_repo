{
 "cells": [
  {
   "cell_type": "markdown",
   "id": "e6e7511d",
   "metadata": {},
   "source": [
    "## IMPORTS"
   ]
  },
  {
   "cell_type": "code",
   "execution_count": 1,
   "id": "ca2d0c09",
   "metadata": {},
   "outputs": [
    {
     "name": "stdout",
     "output_type": "stream",
     "text": [
      "All relevant classes imported\n"
     ]
    }
   ],
   "source": [
    "try:\n",
    "        \n",
    "    import h5py\n",
    "    \n",
    "    from ipywidgets import widgets, Layout, interact, interactive, interactive_output, Dropdown\n",
    "    from IPython.display import display\n",
    "    import matplotlib.pyplot as mplt\n",
    "    import scipy\n",
    "    from sympy import symbols, Eq, solve\n",
    "    import numpy as np\n",
    "    import random\n",
    "    import seaborn as sns \n",
    "    import pandas as pd\n",
    "    import graphing as gr\n",
    "    #!pip install viola\n",
    "    ########## Modules required for artist drawing on matplotlib\n",
    "    import matplotlib.path as mpath\n",
    "    import matplotlib.lines as mlines\n",
    "    import matplotlib.patches as mpatches\n",
    "    from matplotlib.collections import PatchCollection\n",
    "    \n",
    "      \n",
    "except ModuleNotFoundError:\n",
    "        print(\"A class you are trying to import is not present in the directory\")\n",
    "    \n",
    "except Exception:\n",
    "        print(\"Something went wrong - modules have not been imported\")\n",
    "\n",
    "else: \n",
    "    print(\"All relevant classes imported\")"
   ]
  },
  {
   "cell_type": "code",
   "execution_count": 89,
   "id": "47da3f69",
   "metadata": {},
   "outputs": [
    {
     "data": {
      "application/vnd.jupyter.widget-view+json": {
       "model_id": "74e3557ae6eb4179bc93a96bc047bf8a",
       "version_major": 2,
       "version_minor": 0
      },
      "text/plain": [
       "Text(value=' T1', description='File1 No soma(-0.85)')"
      ]
     },
     "metadata": {},
     "output_type": "display_data"
    },
    {
     "data": {
      "application/vnd.jupyter.widget-view+json": {
       "model_id": "3386b77e9f0b473f823389dce77c1940",
       "version_major": 2,
       "version_minor": 0
      },
      "text/plain": [
       "Text(value=' T6_noHH', description='File2 Soma')"
      ]
     },
     "metadata": {},
     "output_type": "display_data"
    },
    {
     "data": {
      "application/vnd.jupyter.widget-view+json": {
       "model_id": "8f4a12f9aeb8405093dfac3d144ea062",
       "version_major": 2,
       "version_minor": 0
      },
      "text/plain": [
       "Text(value=' T6_HH3', description='File3 soma+HH')"
      ]
     },
     "metadata": {},
     "output_type": "display_data"
    },
    {
     "data": {
      "application/vnd.jupyter.widget-view+json": {
       "model_id": "d9946318dc40485199091001c977d1c0",
       "version_major": 2,
       "version_minor": 0
      },
      "text/plain": [
       "Button(button_style='success', description='Select files', style=ButtonStyle())"
      ]
     },
     "metadata": {},
     "output_type": "display_data"
    },
    {
     "data": {
      "application/vnd.jupyter.widget-view+json": {
       "model_id": "b5cc42cd366243d087516b4f7763b321",
       "version_major": 2,
       "version_minor": 0
      },
      "text/plain": [
       "Output()"
      ]
     },
     "metadata": {},
     "output_type": "display_data"
    },
    {
     "name": "stdout",
     "output_type": "stream",
     "text": [
      "\\ TestT file found... loading content\n",
      "\\ TestT content loaded into memory\n",
      "\\ TestT_noHH file found... loading content\n",
      "\\ TestT_noHH content loaded into memory\n",
      "\\ TestT_HH file found... loading content\n",
      "\\ TestT_HH content loaded into memory\n"
     ]
    }
   ],
   "source": [
    "#######################################################\n",
    "#### GUI \n",
    "\n",
    "edt_filename_1 = widgets.Text(description = 'File1 No soma(-0.85)', value=' T1')\n",
    "edt_filename_2 = widgets.Text(description = 'File2 Soma', value=' T6_noHH')\n",
    "edt_filename_3 = widgets.Text(description = 'File3 soma+HH', value=' T6_HH3')\n",
    "\n",
    "btn_select = widgets.Button(description = 'Select files',button_style='success')\n",
    "output_file = widgets.Output()\n",
    "\n",
    "display(edt_filename_1, edt_filename_2,edt_filename_3,  btn_select,output_file)\n",
    "\n",
    "\n",
    "\n",
    "#######################################################\n",
    "#### FUNCTIONS\n",
    "\n",
    "\n",
    "#df_flux = pd.DataFrame({'Compartment':[],'Na_net':[], 'Na_leak':[],'Na_Atpase':[], 'K_net':[],'K_leak':[],'K_Atpase':[],'K_kcc2':[], 'Cl_net':[],'Cl_kcc2':[],'X':[],'z':[]  })\n",
    "df_ed = pd.DataFrame({'Boundary':[],'Na':[],'K':[],'Cl':[]})\n",
    "\n",
    "\n",
    "\n",
    "def btn_select_clicked(b):\n",
    "    \n",
    "    \n",
    "    global filename_1 , filename_2, filename_3\n",
    "    \n",
    "    filename_1 = \"\\\\\"\n",
    "    filename_1 = filename_1 + edt_filename_1.value \n",
    "    \n",
    "    filename_2 = \"\\\\\"\n",
    "    filename_2 = filename_2 + edt_filename_2.value \n",
    "    \n",
    "    filename_3 = \"\\\\\"\n",
    "    filename_3 = filename_3 + edt_filename_3.value \n",
    "\n",
    "    try: \n",
    "        with h5py.File(filename_1, mode='r') as hdf:\n",
    "            \n",
    "            print(filename_1+\" file found... loading content\") \n",
    "            global C, comp_names_arr, intervals, interval_arr, t1_arr, f1_v_arr\n",
    "            C = hdf.get('COMPARTMENTS')\n",
    "            C_group_arr =[]\n",
    "            t1_arr_bool = True\n",
    "            comp_names_arr= list(C.keys())\n",
    "                        \n",
    "            C1 = C.get(comp_names_arr[0])\n",
    "            \n",
    "            T = hdf.get('TIMING')\n",
    "            total_t = T.get('TOTAL_T')[()]\n",
    "            intervals = T.get('INTERVALS')[()]\n",
    "            dt = T.get(\"DT\")[()]\n",
    "            total_steps = total_t /dt          \n",
    "            interval_step = total_steps / intervals\n",
    "            interval_arr = [round(interval_step * i) for i in range(intervals)]\n",
    "            \n",
    "\n",
    "            t1_arr =[]\n",
    "            f1_v_arr = []        \n",
    "            ##### LOADING COMPARTMENT DATA\n",
    "            \n",
    "            for i in range(len(comp_names_arr)):\n",
    "                C_group = C.get(comp_names_arr[i])\n",
    "                C_group_arr.append(C_group)\n",
    "                v_arr = []\n",
    "                for j in range(len(list(C_group.keys()))):\n",
    "                    dataset = C_group.get(str(interval_arr[j]))\n",
    "                    v_arr.append(dataset[-3])\n",
    "                    if t1_arr_bool == True:\n",
    "                        t1_arr.append(dataset[0])\n",
    "                f1_v_arr.append(v_arr)    \n",
    "                t1_arr_bool = False\n",
    "                \n",
    "            print(filename_1+\" content loaded into memory\") \n",
    "            \n",
    "    except: \n",
    "        raise(filename_1+\" not found\")\n",
    "        raise(\"File needs to be in base directory\")\n",
    "        \n",
    "     ##### FILE 2 data\n",
    "   \n",
    "    try: \n",
    "        with h5py.File(filename_2, mode='r') as hdf:\n",
    "            \n",
    "            print(filename_2+\" file found... loading content\") \n",
    "            global C2, comp_names_arr2, intervals2, interval_arr2, t2_arr, f2_v_arr\n",
    "            C2 = hdf.get('COMPARTMENTS')\n",
    "            C_group_arr =[]\n",
    "            t2_arr_bool = True\n",
    "            comp_names_arr2= list(C2.keys())\n",
    "                        \n",
    "            C1 = C2.get(comp_names_arr2[0])\n",
    "            \n",
    "            T = hdf.get('TIMING')\n",
    "            total_t = T.get('TOTAL_T')[()]\n",
    "            intervals2 = T.get('INTERVALS')[()]\n",
    "            dt = T.get(\"DT\")[()]\n",
    "            total_steps = total_t /dt          \n",
    "            interval_step = total_steps / intervals2\n",
    "            interval_arr2 = [round(interval_step * i) for i in range(intervals2)]\n",
    "            \n",
    "\n",
    "            t2_arr =[]\n",
    "            f2_v_arr = []        \n",
    "            ##### LOADING COMPARTMENT DATA\n",
    "            \n",
    "            for i in range(len(comp_names_arr2)):\n",
    "                C_group = C2.get(comp_names_arr2[i])\n",
    "                C_group_arr.append(C_group)\n",
    "                v_arr = []\n",
    "                for j in range(len(list(C_group.keys()))):\n",
    "                    dataset = C_group.get(str(interval_arr2[j]))\n",
    "                    v_arr.append(dataset[-3])\n",
    "                    if t2_arr_bool == True:\n",
    "                        t2_arr.append(dataset[0])\n",
    "                f2_v_arr.append(v_arr)    \n",
    "                t2_arr_bool = False\n",
    "                \n",
    "            print(filename_2+\" content loaded into memory\") \n",
    "            \n",
    "    except: \n",
    "        raise(filename_2+\" not found\")\n",
    "        raise(\"File needs to be in base directory\")\n",
    "          \n",
    "        \n",
    "      ##### FILE 2 data\n",
    "   \n",
    "    try: \n",
    "        with h5py.File(filename_3, mode='r') as hdf:\n",
    "            \n",
    "            print(filename_3+\" file found... loading content\") \n",
    "            global C3, comp_names_arr3, intervals3, interval_arr3, t3_arr, f3_v_arr\n",
    "            C3 = hdf.get('COMPARTMENTS')\n",
    "            C_group_arr =[]\n",
    "            t3_arr_bool = True\n",
    "            comp_names_arr3= list(C3.keys())\n",
    "                        \n",
    "            C1 = C3.get(comp_names_arr3[0])\n",
    "            \n",
    "            T = hdf.get('TIMING')\n",
    "            total_t = T.get('TOTAL_T')[()]\n",
    "            intervals3 = T.get('INTERVALS')[()]\n",
    "            dt = T.get(\"DT\")[()]\n",
    "            total_steps = total_t /dt          \n",
    "            interval_step = total_steps / intervals3\n",
    "            interval_arr3 = [round(interval_step * i) for i in range(intervals3)]\n",
    "            \n",
    "\n",
    "            t3_arr =[]\n",
    "            f3_v_arr = []        \n",
    "            ##### LOADING COMPARTMENT DATA\n",
    "            \n",
    "            for i in range(len(comp_names_arr3)):\n",
    "                C_group = C3.get(comp_names_arr3[i])\n",
    "                C_group_arr.append(C_group)\n",
    "                v_arr = []\n",
    "                for j in range(len(list(C_group.keys()))):\n",
    "                    dataset = C_group.get(str(interval_arr3[j]))\n",
    "                    v_arr.append(dataset[-3])\n",
    "                    if t3_arr_bool == True:\n",
    "                        t3_arr.append(dataset[0])\n",
    "                f3_v_arr.append(v_arr)    \n",
    "                t3_arr_bool = False\n",
    "                \n",
    "            print(filename_3+\" content loaded into memory\") \n",
    "            \n",
    "    except: \n",
    "        raise(filename_3+\" not found\")\n",
    "        raise(\"File needs to be in base directory\")\n",
    "          \n",
    "btn_select.on_click(btn_select_clicked)\n",
    "\n",
    "\n",
    "btn_select.on_click(btn_select_clicked)"
   ]
  },
  {
   "cell_type": "code",
   "execution_count": 90,
   "id": "bb0297d6",
   "metadata": {},
   "outputs": [
    {
     "data": {
      "text/plain": [
       "[Text(0, 0.5, 'Comp9'),\n",
       " Text(0, 1.5, 'Comp8'),\n",
       " Text(0, 2.5, 'Comp7'),\n",
       " Text(0, 3.5, 'Comp6'),\n",
       " Text(0, 4.5, 'Comp5'),\n",
       " Text(0, 5.5, 'Comp4'),\n",
       " Text(0, 6.5, 'Comp3'),\n",
       " Text(0, 7.5, 'Comp2'),\n",
       " Text(0, 8.5, 'Comp1'),\n",
       " Text(0, 9.5, 'Comp0(Soma)')]"
      ]
     },
     "execution_count": 90,
     "metadata": {},
     "output_type": "execute_result"
    },
    {
     "data": {
      "image/png": "[encoded data removed]",
      "text/plain": [
       "<Figure size 360x864 with 6 Axes>"
      ]
     },
     "metadata": {
      "needs_background": "light"
     },
     "output_type": "display_data"
    }
   ],
   "source": [
    "fig6, (ax1,ax2,ax3) = mplt.subplots(3,1,figsize=(5,12))\n",
    "v_arr_nosoma = []\n",
    "v_arr_soma = []\n",
    "v_arr_somahh = []\n",
    "\n",
    "\n",
    "for i in range(len(comp_names_arr)):\n",
    "    temp_arr = []\n",
    "    temp_arr.append(f1_v_arr[i][-1]*1e3)\n",
    "    v_arr_nosoma.append(temp_arr)\n",
    "    \n",
    "for i in range(len(comp_names_arr2)):\n",
    "    temp_arr = []\n",
    "    temp_arr.append(f2_v_arr[i][-1]*1e3)\n",
    "    v_arr_soma.append(temp_arr)\n",
    "    \n",
    "for i in range(len(comp_names_arr3)):\n",
    "    temp_arr = []\n",
    "    temp_arr.append(f3_v_arr[i][-1]*1e3)\n",
    "    v_arr_somahh.append(temp_arr)\n",
    "\n",
    "v_arr_soma.reverse()\n",
    "v_arr_nosoma.reverse()\n",
    "v_arr_somahh.reverse()\n",
    "\n",
    "g_vm_nosoma = sns.heatmap(data=v_arr_nosoma, cmap='Greys',xticklabels=False,\n",
    "                          cbar_kws={'format':'%.4f'},ax=ax1)\n",
    "#g_vm_nosoma = sns.heatmap(data=v_arr_nosoma, cmap='Greys',xticklabels=False,cbar_kws={'format':'%.4f'},ax=ax1,vmin= -72.59, vmax=-72.585)\n",
    "g_vm_nosoma.set_title(\"No Soma\",fontsize=12)\n",
    "g_vm_nosoma.set_ylabel(\"Compartment\",fontsize=10)\n",
    "g_vm_nosoma.set_yticklabels(comp_names_arr[::-1], fontsize=8, rotation=0)\n",
    "\n",
    "\n",
    "g_vm_soma = sns.heatmap(data=v_arr_soma, cmap='Greys',cbar_kws={'format':'%.4f'},xticklabels=False,ax=ax2)\n",
    "g_vm_soma.set_title(\"Soma without HH channels\",fontsize=12)\n",
    "#g_vm_soma = sns.heatmap(data=v_arr_soma, cmap='Greys',ax=ax2,vmin= -72.588, vmax=-72.58)\n",
    "g_vm_soma.set_ylabel(\"Compartment\",fontsize=10)\n",
    "g_vm_soma.set_yticklabels(comp_names_arr2[::-1], fontsize=8, rotation=0)\n",
    "\n",
    "g_vm_somahh = sns.heatmap(data=v_arr_somahh, cmap='Greys',cbar_kws={'format':'%.4f'},xticklabels=False,ax=ax3)\n",
    "g_vm_somahh.set_title(\"Soma with HH channels\",fontsize=12)\n",
    "g_vm_somahh.set_ylabel(\"Compartment\",fontsize=10)\n",
    "g_vm_somahh.set_yticklabels(comp_names_arr3[::-1], fontsize=8, rotation=0)"
   ]
  },
  {
   "cell_type": "code",
   "execution_count": null,
   "id": "aec5dbbc",
   "metadata": {},
   "outputs": [],
   "source": []
  }
 ],
 "metadata": {
  "kernelspec": {
   "display_name": "Python 3 (ipykernel)",
   "language": "python",
   "name": "python3"
  },
  "language_info": {
   "codemirror_mode": {
    "name": "ipython",
    "version": 3
   },
   "file_extension": ".py",
   "mimetype": "text/x-python",
   "name": "python",
   "nbconvert_exporter": "python",
   "pygments_lexer": "ipython3",
   "version": "3.9.7"
  }
 },
 "nbformat": 4,
 "nbformat_minor": 5
}
