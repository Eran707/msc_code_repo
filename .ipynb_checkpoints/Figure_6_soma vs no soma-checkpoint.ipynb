{
 "cells": [
  {
   "cell_type": "markdown",
   "id": "3051291b",
   "metadata": {},
   "source": [
    "## IMPORTS"
   ]
  },
  {
   "cell_type": "code",
   "execution_count": 1,
   "id": "739acffc",
   "metadata": {},
   "outputs": [
    {
     "name": "stdout",
     "output_type": "stream",
     "text": [
      "All relevant classes imported\n"
     ]
    }
   ],
   "source": [
    "try:\n",
    "        \n",
    "    import h5py\n",
    "    \n",
    "    from ipywidgets import widgets, Layout, interact, interactive, interactive_output, Dropdown\n",
    "    from IPython.display import display\n",
    "    import matplotlib.pyplot as mplt\n",
    "    import scipy\n",
    "    from sympy import symbols, Eq, solve\n",
    "    import numpy as np\n",
    "    import random\n",
    "    import seaborn as sns \n",
    "    import pandas as pd\n",
    "    import graphing as gr\n",
    "    #!pip install viola\n",
    "    ########## Modules required for artist drawing on matplotlib\n",
    "    import matplotlib.path as mpath\n",
    "    import matplotlib.lines as mlines\n",
    "    import matplotlib.patches as mpatches\n",
    "    from matplotlib.collections import PatchCollection\n",
    "    \n",
    "      \n",
    "except ModuleNotFoundError:\n",
    "        print(\"A class you are trying to import is not present in the directory\")\n",
    "    \n",
    "except Exception:\n",
    "        print(\"Something went wrong - modules have not been imported\")\n",
    "\n",
    "else: \n",
    "    print(\"All relevant classes imported\")"
   ]
  },
  {
   "cell_type": "code",
   "execution_count": 10,
   "id": "25a9e5b7",
   "metadata": {},
   "outputs": [
    {
     "data": {
      "application/vnd.jupyter.widget-view+json": {
       "model_id": "8a13f8482d1d46b991308007ec43d9f5",
       "version_major": 2,
       "version_minor": 0
      },
      "text/plain": [
       "Text(value=' T1', description='File1 No soma(-0.85)')"
      ]
     },
     "metadata": {},
     "output_type": "display_data"
    },
    {
     "data": {
      "application/vnd.jupyter.widget-view+json": {
       "model_id": "253a90fdbd564e2ebbe927a83860807d",
       "version_major": 2,
       "version_minor": 0
      },
      "text/plain": [
       "Text(value=' T6_noHH', description='File2 with soma (-0.85)')"
      ]
     },
     "metadata": {},
     "output_type": "display_data"
    },
    {
     "data": {
      "application/vnd.jupyter.widget-view+json": {
       "model_id": "e09aac596b7b41c9ac597234866d5e99",
       "version_major": 2,
       "version_minor": 0
      },
      "text/plain": [
       "Button(button_style='success', description='Select files', style=ButtonStyle())"
      ]
     },
     "metadata": {},
     "output_type": "display_data"
    },
    {
     "data": {
      "application/vnd.jupyter.widget-view+json": {
       "model_id": "c346bb38c8264c5fbd5c325394b8564a",
       "version_major": 2,
       "version_minor": 0
      },
      "text/plain": [
       "Output()"
      ]
     },
     "metadata": {},
     "output_type": "display_data"
    },
    {
     "name": "stdout",
     "output_type": "stream",
     "text": [
      "\\ T1 file found... loading content\n",
      "\\ T1 content loaded into memory\n",
      "\\ T6_noHH file found... loading content\n",
      "\\ T6_noHH content loaded into memory\n"
     ]
    }
   ],
   "source": [
    "#######################################################\n",
    "#### GUI \n",
    "\n",
    "edt_filename_1 = widgets.Text(description = 'File1 No soma(-0.85)', value=' T1')\n",
    "edt_filename_2 = widgets.Text(description = 'File2 with soma (-0.85)', value=' T6_noHH')\n",
    "\n",
    "btn_select = widgets.Button(description = 'Select files',button_style='success')\n",
    "output_file = widgets.Output()\n",
    "\n",
    "display(edt_filename_1, edt_filename_2,  btn_select,output_file)\n",
    "\n",
    "\n",
    "\n",
    "#######################################################\n",
    "#### FUNCTIONS\n",
    "\n",
    "\n",
    "#df_flux = pd.DataFrame({'Compartment':[],'Na_net':[], 'Na_leak':[],'Na_Atpase':[], 'K_net':[],'K_leak':[],'K_Atpase':[],'K_kcc2':[], 'Cl_net':[],'Cl_kcc2':[],'X':[],'z':[]  })\n",
    "df_ed = pd.DataFrame({'Boundary':[],'Na':[],'K':[],'Cl':[]})\n",
    "\n",
    "\n",
    "\n",
    "def btn_select_clicked(b):\n",
    "    \n",
    "    \n",
    "    global filename_1 , filename_2, filename_3\n",
    "    \n",
    "    filename_1 = \"\\\\\"\n",
    "    filename_1 = filename_1 + edt_filename_1.value \n",
    "    \n",
    "    filename_2 = \"\\\\\"\n",
    "    filename_2 = filename_2 + edt_filename_2.value \n",
    "    \n",
    "    \n",
    "\n",
    "    try: \n",
    "        with h5py.File(filename_1, mode='r') as hdf:\n",
    "            \n",
    "            print(filename_1+\" file found... loading content\") \n",
    "            global C, comp_names_arr, intervals, interval_arr, t1_arr, f1_v_arr\n",
    "            C = hdf.get('COMPARTMENTS')\n",
    "            C_group_arr =[]\n",
    "            t1_arr_bool = True\n",
    "            comp_names_arr= list(C.keys())\n",
    "                        \n",
    "            C1 = C.get(comp_names_arr[0])\n",
    "            \n",
    "            T = hdf.get('TIMING')\n",
    "            total_t = T.get('TOTAL_T')[()]\n",
    "            intervals = T.get('INTERVALS')[()]\n",
    "            dt = T.get(\"DT\")[()]\n",
    "            total_steps = total_t /dt          \n",
    "            interval_step = total_steps / intervals\n",
    "            interval_arr = [round(interval_step * i) for i in range(intervals)]\n",
    "            \n",
    "\n",
    "            t1_arr =[]\n",
    "            f1_v_arr = []        \n",
    "            ##### LOADING COMPARTMENT DATA\n",
    "            \n",
    "            for i in range(len(comp_names_arr)):\n",
    "                C_group = C.get(comp_names_arr[i])\n",
    "                C_group_arr.append(C_group)\n",
    "                v_arr = []\n",
    "                for j in range(len(list(C_group.keys()))):\n",
    "                    dataset = C_group.get(str(interval_arr[j]))\n",
    "                    v_arr.append(dataset[-3])\n",
    "                    if t1_arr_bool == True:\n",
    "                        t1_arr.append(dataset[0])\n",
    "                f1_v_arr.append(v_arr)    \n",
    "                t1_arr_bool = False\n",
    "                \n",
    "            print(filename_1+\" content loaded into memory\") \n",
    "            \n",
    "    except: \n",
    "        raise(filename_1+\" not found\")\n",
    "        raise(\"File needs to be in base directory\")\n",
    "        \n",
    "     ##### FILE 2 data\n",
    "   \n",
    "    try: \n",
    "        with h5py.File(filename_2, mode='r') as hdf:\n",
    "            \n",
    "            print(filename_2+\" file found... loading content\") \n",
    "            global C2, comp_names_arr2, intervals2, interval_arr2, t2_arr, f2_v_arr\n",
    "            C2 = hdf.get('COMPARTMENTS')\n",
    "            C_group_arr =[]\n",
    "            t2_arr_bool = True\n",
    "            comp_names_arr2= list(C2.keys())\n",
    "                        \n",
    "            C1 = C2.get(comp_names_arr[0])\n",
    "            \n",
    "            T = hdf.get('TIMING')\n",
    "            total_t = T.get('TOTAL_T')[()]\n",
    "            intervals2 = T.get('INTERVALS')[()]\n",
    "            dt = T.get(\"DT\")[()]\n",
    "            total_steps = total_t /dt          \n",
    "            interval_step = total_steps / intervals\n",
    "            interval_arr2 = [round(interval_step * i) for i in range(intervals)]\n",
    "            \n",
    "\n",
    "            t2_arr =[]\n",
    "            f2_v_arr = []        \n",
    "            ##### LOADING COMPARTMENT DATA\n",
    "            \n",
    "            for i in range(len(comp_names_arr2)):\n",
    "                C_group = C2.get(comp_names_arr2[i])\n",
    "                C_group_arr.append(C_group)\n",
    "                v_arr = []\n",
    "                for j in range(len(list(C_group.keys()))):\n",
    "                    dataset = C_group.get(str(interval_arr2[j]))\n",
    "                    v_arr.append(dataset[-3])\n",
    "                    if t2_arr_bool == True:\n",
    "                        t2_arr.append(dataset[0])\n",
    "                f2_v_arr.append(v_arr)    \n",
    "                t2_arr_bool = False\n",
    "                \n",
    "            print(filename_2+\" content loaded into memory\") \n",
    "            \n",
    "    except: \n",
    "        raise(filename_2+\" not found\")\n",
    "        raise(\"File needs to be in base directory\")\n",
    "          \n",
    "        \n",
    "\n",
    "btn_select.on_click(btn_select_clicked)\n",
    "\n",
    "\n",
    "btn_select.on_click(btn_select_clicked)"
   ]
  },
  {
   "cell_type": "code",
   "execution_count": 61,
   "id": "e0063653",
   "metadata": {},
   "outputs": [
    {
     "name": "stdout",
     "output_type": "stream",
     "text": [
      "[[-72.58325544882459], [-72.58323390242737], [-72.58319052079936], [-72.58312472228495], [-72.58303562885538], [-72.58292205409649], [-72.58278248779254], [-72.58261508426615], [-72.58241763800082], [-72.58554110119026]]\n"
     ]
    },
    {
     "data": {
      "image/png": "[encoded data removed]",
      "text/plain": [
       "<Figure size 720x360 with 4 Axes>"
      ]
     },
     "metadata": {
      "needs_background": "light"
     },
     "output_type": "display_data"
    }
   ],
   "source": [
    "fig6, (ax1,ax2) = mplt.subplots(1,2,figsize=(10,5))\n",
    "v_arr_nosoma = []\n",
    "v_arr_soma = []\n",
    "\n",
    "\n",
    "for i in range(len(comp_names_arr)):\n",
    "    temp_arr = []\n",
    "    temp_arr.append(f1_v_arr[i][-1]*1e3)\n",
    "    v_arr_nosoma.append(temp_arr)\n",
    "    \n",
    "for i in range(len(comp_names_arr2)):\n",
    "    temp_arr = []\n",
    "    temp_arr.append(f2_v_arr[i][-1]*1e3)\n",
    "    v_arr_soma.append(temp_arr)\n",
    "\n",
    "v_arr_soma.reverse()\n",
    "v_arr_nosoma.reverse()\n",
    "print(v_arr_soma)\n",
    "g_vm_nosoma = sns.heatmap(data=v_arr_nosoma, cmap='Greys',ax=ax1,vmin= -72.59, vmax=-72.585)\n",
    "g_vm_soma = sns.heatmap(data=v_arr_soma, cmap='Greys',ax=ax2,vmin= -72.588, vmax=-72.58)"
   ]
  },
  {
   "cell_type": "code",
   "execution_count": null,
   "id": "5ffb5242",
   "metadata": {},
   "outputs": [],
   "source": []
  }
 ],
 "metadata": {
  "kernelspec": {
   "display_name": "Python 3 (ipykernel)",
   "language": "python",
   "name": "python3"
  },
  "language_info": {
   "codemirror_mode": {
    "name": "ipython",
    "version": 3
   },
   "file_extension": ".py",
   "mimetype": "text/x-python",
   "name": "python",
   "nbconvert_exporter": "python",
   "pygments_lexer": "ipython3",
   "version": "3.9.7"
  }
 },
 "nbformat": 4,
 "nbformat_minor": 5
}
