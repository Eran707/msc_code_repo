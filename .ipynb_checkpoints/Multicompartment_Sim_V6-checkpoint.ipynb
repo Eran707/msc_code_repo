{
 "cells": [
  {
   "cell_type": "markdown",
   "metadata": {},
   "source": [
    "## Imports"
   ]
  },
  {
   "cell_type": "code",
   "execution_count": 1,
   "metadata": {},
   "outputs": [
    {
     "name": "stdout",
     "output_type": "stream",
     "text": [
      "All relevant classes imported\n"
     ]
    }
   ],
   "source": [
    "try:\n",
    "    \n",
    "    import simulator2\n",
    "    import compartment\n",
    "    import h5py\n",
    "    \n",
    "    from ipywidgets import widgets, Layout, interact, interactive, interactive_output, Dropdown\n",
    "    from IPython.display import display\n",
    "    import bqplot as bqp\n",
    "    from bqplot import pyplot as plt # bqplot is a plotting for jupyter\n",
    "    import matplotlib.pyplot as mplt\n",
    "    import time  \n",
    "    import numpy as np\n",
    "    import random\n",
    "    import seaborn as sns \n",
    "    import pandas as pd\n",
    "    import graphing as gr\n",
    "    #!pip install viola\n",
    "    ########## Modules required for artist drawing on matplotlib\n",
    "    import matplotlib.path as mpath\n",
    "    import matplotlib.lines as mlines\n",
    "    import matplotlib.patches as mpatches\n",
    "    from matplotlib.collections import PatchCollection\n",
    "    \n",
    "    \n",
    "except ModuleNotFoundError:\n",
    "        print(\"A class you are trying to import is not present in the directory\")\n",
    "    \n",
    "except Exception:\n",
    "        print(\"Something went wrong - modules have not been imported\")\n",
    "\n",
    "else: \n",
    "    print(\"All relevant classes imported\")"
   ]
  },
  {
   "cell_type": "markdown",
   "metadata": {},
   "source": [
    "## Create HDF5 File"
   ]
  },
  {
   "cell_type": "code",
   "execution_count": 27,
   "metadata": {},
   "outputs": [
    {
     "data": {
      "application/vnd.jupyter.widget-view+json": {
       "model_id": "f8bd9cc0928f4f19a56281a17273df02",
       "version_major": 2,
       "version_minor": 0
      },
      "text/plain": [
       "Text(value='', description='File name')"
      ]
     },
     "metadata": {},
     "output_type": "display_data"
    },
    {
     "data": {
      "application/vnd.jupyter.widget-view+json": {
       "model_id": "c278c464c90d40169202b6e892ece5df",
       "version_major": 2,
       "version_minor": 0
      },
      "text/plain": [
       "Button(button_style='success', description='Create File', style=ButtonStyle())"
      ]
     },
     "metadata": {},
     "output_type": "display_data"
    },
    {
     "name": "stdout",
     "output_type": "stream",
     "text": [
      "simulation file ('Experiment-F1') created in base directory\n",
      "New simulator created\n"
     ]
    }
   ],
   "source": [
    "#  GUI  #################################################################################################\n",
    "\n",
    "edt_filename = widgets.Text(description=\"File name\")\n",
    "btn_filename = widgets.Button(description = \"Create File\",button_style='success')\n",
    "display(edt_filename,btn_filename)\n",
    "\n",
    "#### IMPLEMENTATION ########################################################################################\n",
    "\n",
    "def btn_filename_clicked(b):\n",
    "    global filename,sim\n",
    "    filename = edt_filename.value\n",
    "    sim = simulator2.simulator(filename) \n",
    "    print(\"New simulator created\")\n",
    "\n",
    "\n",
    "btn_filename.on_click(btn_filename_clicked)"
   ]
  },
  {
   "cell_type": "markdown",
   "metadata": {},
   "source": [
    "## Set compartment parameters"
   ]
  },
  {
   "cell_type": "code",
   "execution_count": 28,
   "metadata": {},
   "outputs": [
    {
     "data": {
      "application/vnd.jupyter.widget-view+json": {
       "model_id": "e33ca5d147a147cea905f7ce0e7bd1e5",
       "version_major": 2,
       "version_minor": 0
      },
      "text/plain": [
       "Button(button_style='success', description='Create individual compartments', layout=Layout(width='30%'), style…"
      ]
     },
     "metadata": {},
     "output_type": "display_data"
    },
    {
     "data": {
      "application/vnd.jupyter.widget-view+json": {
       "model_id": "e1d66a2e25cd4e17b8639a2952f122be",
       "version_major": 2,
       "version_minor": 0
      },
      "text/plain": [
       "Button(button_style='success', description='Create default multicompartment model', layout=Layout(width='30%')…"
      ]
     },
     "metadata": {},
     "output_type": "display_data"
    },
    {
     "data": {
      "application/vnd.jupyter.widget-view+json": {
       "model_id": "5062b87f2dd54ef386be5af928941dfc",
       "version_major": 2,
       "version_minor": 0
      },
      "text/plain": [
       "Label(value='Default multicompartment consists of a soma with 9 compartments in a single branch (dendrite)')"
      ]
     },
     "metadata": {},
     "output_type": "display_data"
    },
    {
     "name": "stdout",
     "output_type": "stream",
     "text": [
      "Default multicompartment model created\n"
     ]
    }
   ],
   "source": [
    "### WIDGET INITIALIZATION ################################################################################\n",
    "\n",
    "btn_create_comps = widgets.Button(description=\"Create individual compartments\", button_style='success',layout=Layout(width='30%'))\n",
    "btn_default_comps = widgets.Button(description=\"Create default multicompartment model\", button_style='success',layout=Layout(width='30%'))\n",
    "lbl_default_comps = widgets.Label(value=\"Default multicompartment consists of a soma with 9 compartments in a single branch (dendrite)\")\n",
    "\n",
    "\n",
    "\n",
    "display(btn_create_comps,btn_default_comps,lbl_default_comps)\n",
    "\n",
    "\n",
    "### INDIVIDUAL COMPARTMENTS ##############################################################################\n",
    "\n",
    "def btn_create_comps_clicked(b):\n",
    "\n",
    "    btn_default_comps.disabled = True\n",
    "    btn_create_comps.disabled = True\n",
    "    \n",
    "    txt_name = widgets.Text(value=\"Comp1\")\n",
    "    lbl_name = widgets.Label(value =\"Compartment Name: \")\n",
    "    name_box = widgets.HBox(children = [lbl_name,txt_name])\n",
    "\n",
    "\n",
    "    lbl_rad = widgets.Label(value = \"Compartment Radius (um): \")\n",
    "    sldr_rad = widgets.FloatSlider(value=1, min=1, max=10.0, step=0.5, disabled=False, continuous_update=False,\n",
    "        orientation='horizontal', readout=True, readout_format='.1f')\n",
    "    rad_box = widgets.HBox(children = [lbl_rad,sldr_rad])\n",
    "\n",
    "    lbl_len = widgets.Label(value = \"Compartment Length (um): \")\n",
    "    sldr_len = widgets.FloatSlider(value=10, min=0, max=50, step=5, disabled=False, continuous_update=False,\n",
    "        orientation='horizontal', readout=True, readout_format='.1f')\n",
    "    len_box = widgets.HBox(children = [lbl_len,sldr_len])\n",
    "\n",
    "    lbl_nai = widgets.Label(value = \"Na+ concentration (mM): \")\n",
    "    sldr_nai = widgets.FloatSlider(value=14, min=0, max=100, step=10, disabled=False, continuous_update=False,\n",
    "        orientation='horizontal', readout=True, readout_format='.1f')\n",
    "    hbox_nai = widgets.HBox(children = [lbl_nai,sldr_nai])\n",
    "\n",
    "    lbl_ki = widgets.Label(value = \"K+ concentration (mM): \")\n",
    "    sldr_ki = widgets.FloatSlider(value=122, min=0, max=250, step=5, disabled=False, continuous_update=False,\n",
    "        orientation='horizontal', readout=True, readout_format='.1f')\n",
    "    hbox_ki = widgets.HBox(children = [lbl_ki,sldr_ki])\n",
    "\n",
    "    lbl_cli = widgets.Label(value = \"Cl- concentration (mM): \")\n",
    "    sldr_cli = widgets.FloatSlider(value=5, min=0, max=50, step=5, disabled=False, continuous_update=False,\n",
    "        orientation='horizontal', readout=True, readout_format='.1f')\n",
    "    hbox_cli = widgets.HBox(children = [lbl_cli,sldr_cli])\n",
    "\n",
    "    lbl_xi = widgets.Label(value = \"Impermeant anion concentration (mM): \")\n",
    "    sldr_xi = widgets.FloatSlider(value=154.9, min=0, max=600, step=10, disabled=False, continuous_update=False,\n",
    "        orientation='horizontal', readout=True, readout_format='.2f')\n",
    "    hbox_xi = widgets.HBox(children = [lbl_xi,sldr_xi])\n",
    "\n",
    "    lbl_zi = widgets.Label(value = \"Impermeant anion average charge: \")\n",
    "    sldr_zi = widgets.FloatSlider(value=-0.85, min=-3, max=0, step=0.05, disabled=False, continuous_update=False,\n",
    "        orientation='horizontal', readout=True, readout_format='.2f')\n",
    "    hbox_zi = widgets.HBox(children = [lbl_zi,sldr_zi])\n",
    "\n",
    "    lbl_neutral_start = widgets.Label(value = \"Adjust starting concentrations for electroneutrality\")\n",
    "    chk_neutral_start = widgets.Checkbox(value = True)\n",
    "    hbox_neutral_start = widgets.HBox(children = [lbl_neutral_start,chk_neutral_start])\n",
    "    \n",
    "\n",
    "\n",
    "    comp_arr =[]\n",
    "\n",
    "\n",
    "    output_comps = widgets.Output()\n",
    "    btn_new_comp = widgets.Button(description = \"Create Compartment\",button_style =\"success\")\n",
    "    btn_defaults = widgets.Button(description = \"Reset to defaults\")\n",
    "    hbox_btns = widgets.HBox(children = [btn_new_comp, btn_defaults])\n",
    "    vbox_grand = widgets.VBox(children = [name_box,rad_box,len_box, hbox_nai,hbox_ki,hbox_cli,hbox_xi,hbox_zi, hbox_neutral_start, hbox_btns], layout=Layout(border =\"solid\"))\n",
    "    \n",
    "    display(vbox_grand, output_comps)\n",
    "    \n",
    "    \n",
    "    def new_comp_clicked(b):\n",
    "    \n",
    "        name = txt_name.value\n",
    "        for j in range (len(comp_arr)):\n",
    "            if name == comp_arr[j].name:\n",
    "                txt_name.color = 'red'\n",
    "                raise Exception(\"Two compartments cannot have the same name\")\n",
    "        new_comp = compartment.Compartment(name, radius = sldr_rad.value*1e-5, length= sldr_len.value*1e-5)\n",
    "\n",
    "        if chk_neutral_start.value == True:\n",
    "            osmol_neutral_start = True\n",
    "        else: osmol_neutral_start = False\n",
    "\n",
    "        \"\"\"new_comp.set_ion_properties(na_i=sldr_nai.value*1e-3, \n",
    "                                    k_i = sldr_ki.value*1e-3, \n",
    "                                    cl_i=sldr_cli.value*1e-3,\n",
    "                                    x_i=sldr_xi.value*1e-3, \n",
    "                                    z_i=sldr_zi.value, \n",
    "                                    osmol_neutral_start = osmol_neutral_start)\"\"\"\n",
    "        new_comp.set_ion_properties()\n",
    "        #Starting with the default steady state concentrations\n",
    "\n",
    "        sim.add_compartment(new_comp)\n",
    "    \n",
    "    \n",
    "       \n",
    "        with output_comps:\n",
    "            print(\"Compartment: (\"+ new_comp.name +\") created\" )\n",
    "        \n",
    "\n",
    "          \n",
    "    btn_new_comp.on_click(new_comp_clicked)\n",
    "        \n",
    "        \n",
    "        \n",
    "    def btn_defaults_clicked(b):\n",
    "    \n",
    "        sldr_rad.value=1\n",
    "        sldr_len.value = 10\n",
    "        sldr_nai.value= 14\n",
    "        sldr_ki.value = 122\n",
    "        sldr_cli.value = 5\n",
    "        sldr_xi.value = 150\n",
    "        sldr_zi.value = -0.85\n",
    "    \n",
    "    btn_defaults.on_click(btn_defaults_clicked)\n",
    "\n",
    "\n",
    "btn_create_comps.on_click(btn_create_comps_clicked) \n",
    "\n",
    "### DEFAULT MULTICOMPARTMENT MODEL #####################################################################\n",
    "\n",
    "def btn_default_comps_clicked(b):\n",
    "    \n",
    "    btn_default_comps.disabled = True\n",
    "    btn_create_comps.disabled = True\n",
    "    sim.add_default_multicompartment(9)\n",
    "    print(\"Default multicompartment model created\")\n",
    "    \n",
    "    \n",
    "\n",
    "btn_default_comps.on_click(btn_default_comps_clicked)"
   ]
  },
  {
   "cell_type": "markdown",
   "metadata": {},
   "source": [
    "## Review compartments"
   ]
  },
  {
   "cell_type": "code",
   "execution_count": 31,
   "metadata": {},
   "outputs": [
    {
     "data": {
      "application/vnd.jupyter.widget-view+json": {
       "model_id": "95b5e27bfbbc4bd0832d4cc0cb307cfb",
       "version_major": 2,
       "version_minor": 0
      },
      "text/plain": [
       "Button(button_style='success', description='Review compartments', layout=Layout(width='30%'), style=ButtonStyl…"
      ]
     },
     "metadata": {},
     "output_type": "display_data"
    },
    {
     "data": {
      "application/vnd.jupyter.widget-view+json": {
       "model_id": "268cbc9b459b49a5b8c28c1da0817442",
       "version_major": 2,
       "version_minor": 0
      },
      "text/plain": [
       "Output()"
      ]
     },
     "metadata": {},
     "output_type": "display_data"
    }
   ],
   "source": [
    "################################################################################\n",
    "#  WIDGET INITIALIZATION\n",
    "\n",
    "btn_review = widgets.Button(description = \"Review compartments\", button_style =\"success\",layout=Layout(width='30%'))\n",
    "output_review = widgets.Output()\n",
    "display(btn_review,output_review)\n",
    "\n",
    "\n",
    "def btn_review_clicked(b):\n",
    "    output_review.clear_output()\n",
    "    print(sim.get_starting_df())\n",
    "    \n",
    "\n",
    "btn_review.on_click(btn_review_clicked)"
   ]
  },
  {
   "cell_type": "markdown",
   "metadata": {},
   "source": [
    "## Simulation settings"
   ]
  },
  {
   "cell_type": "code",
   "execution_count": 32,
   "metadata": {},
   "outputs": [
    {
     "data": {
      "application/vnd.jupyter.widget-view+json": {
       "model_id": "213c1c2fa808481a91c5b409b462b1eb",
       "version_major": 2,
       "version_minor": 0
      },
      "text/plain": [
       "VBox(children=(HBox(children=(Label(value='Set the simulation run time (minutes):'), FloatSlider(value=10.0, c…"
      ]
     },
     "metadata": {},
     "output_type": "display_data"
    },
    {
     "data": {
      "application/vnd.jupyter.widget-view+json": {
       "model_id": "29d619ae178e4b8c8a871974a50885b1",
       "version_major": 2,
       "version_minor": 0
      },
      "text/plain": [
       "HBox(children=(Label(value='ATPase model type:'), RadioButtons(options=('Constant', 'J_ATP = p * (Na_in/Na_out…"
      ]
     },
     "metadata": {},
     "output_type": "display_data"
    },
    {
     "data": {
      "application/vnd.jupyter.widget-view+json": {
       "model_id": "4a06cbe012704009b76b7db606567a38",
       "version_major": 2,
       "version_minor": 0
      },
      "text/plain": [
       "HBox(children=(Label(value='Area scale type:'), RadioButtons(options=('Am = Surface Area / volume', 'Constant'…"
      ]
     },
     "metadata": {},
     "output_type": "display_data"
    },
    {
     "data": {
      "application/vnd.jupyter.widget-view+json": {
       "model_id": "94e6a9a4b9b94fb59149915aecc471e6",
       "version_major": 2,
       "version_minor": 0
      },
      "text/plain": [
       "VBox(children=(Label(value='External Ion Parameters:'), HBox(children=(Label(value='Na+ concentration (mM): ')…"
      ]
     },
     "metadata": {},
     "output_type": "display_data"
    }
   ],
   "source": [
    "global total_t,dt,t_arr, constant_j_atp, constant_ar\n",
    "\n",
    "\n",
    "############################################################################\n",
    "#TIMING\n",
    "\n",
    "lbl_total_t = widgets.Label(value=\"Set the simulation run time (minutes):\")\n",
    "\n",
    "sldr_total_t = widgets.FloatSlider(value=10, min=0.5, max=40, step=0.5, disabled=False, continuous_update=False, orientation='horizontal',\n",
    "    readout=True, readout_format='.1f')\n",
    "HBox_total_t = widgets.HBox(children = [lbl_total_t,sldr_total_t])\n",
    "\n",
    "\n",
    "lbl_dt = widgets.Label(value=\"Set the simulation time step (milliseconds):\")\n",
    "sldr_dt = widgets.FloatSlider(value=0.001, min=0.001, max=0.1, step=0.005, disabled=False, continuous_update=False, orientation='horizontal',\n",
    "    readout=True, readout_format='.4')\n",
    "HBox_dt = widgets.HBox(children = [lbl_dt,sldr_dt])\n",
    "\n",
    "############################################################################\n",
    "# ATPase PROPERTIES\n",
    "\n",
    "lbl_atpase = widgets.Label(value = \"ATPase model type:\")\n",
    "rdb_atpase = widgets.RadioButtons(options=['Constant', 'J_ATP = p * (Na_in/Na_out)^3'])\n",
    "\n",
    "hbox_atpase = widgets.HBox(children = [lbl_atpase,rdb_atpase], layout =Layout(border='solid'))\n",
    "\n",
    "############################################################################\n",
    "# ATPase PROPERTIES\n",
    "\n",
    "lbl_ar = widgets.Label(value = \"Area scale type:\")\n",
    "rdb_ar = widgets.RadioButtons(options=['Am = Surface Area / volume','Constant'])\n",
    "\n",
    "hbox_ar = widgets.HBox(children = [lbl_ar,rdb_ar], layout =Layout(border='solid'))\n",
    "\n",
    "\n",
    "############################################################################\n",
    "# EXTERNAL ION PROPERTIES\n",
    "\n",
    "lbl_ext_ions = widgets.Label(value = \"External Ion Parameters:\")\n",
    "\n",
    "lbl_nao = widgets.Label(value = \"Na+ concentration (mM): \")\n",
    "sldr_nao = widgets.FloatSlider(value=145, min=0, max=200, step=5, disabled=False, continuous_update=False,\n",
    "    orientation='horizontal', readout=True, readout_format='.2f')\n",
    "hbox_nao = widgets.HBox(children = [lbl_nao,sldr_nao])\n",
    "\n",
    "lbl_ko = widgets.Label(value = \"K+ concentration (mM): \")\n",
    "sldr_ko = widgets.FloatSlider(value=3.5, min=0, max=10, step=0.5, disabled=False, continuous_update=False,\n",
    "    orientation='horizontal', readout=True, readout_format='.1f')\n",
    "hbox_ko = widgets.HBox(children = [lbl_ko,sldr_ko])\n",
    "\n",
    "lbl_clo = widgets.Label(value = \"Cl- concentration (mM): \")\n",
    "sldr_clo = widgets.FloatSlider(value=119, min=100, max=200, step=1, disabled=False, continuous_update=False,\n",
    "    orientation='horizontal', readout=True, readout_format='.2f')\n",
    "hbox_clo = widgets.HBox(children = [lbl_clo,sldr_clo])\n",
    "\n",
    "lbl_xo = widgets.Label(value = \"Impermeant anion concentration (mM): \")\n",
    "sldr_xo = widgets.FloatSlider(value=29.5, min=0, max=50, step=0.5, disabled=False, continuous_update=False,\n",
    "    orientation='horizontal', readout=True, readout_format='.2f')\n",
    "hbox_xo = widgets.HBox(children = [lbl_xo,sldr_xo])\n",
    "\n",
    "lbl_zo = widgets.Label(value = \"Impermeant anion average charge: \")\n",
    "sldr_zo = widgets.FloatSlider(value=-0.85, min=-3, max=0, step=0.05, disabled=False, continuous_update=False,\n",
    "    orientation='horizontal', readout=True, readout_format='.2f')\n",
    "hbox_zo = widgets.HBox(children = [lbl_zo,sldr_zo])\n",
    "\n",
    "vbox_ext_ions = widgets.VBox(children = [lbl_ext_ions,hbox_nao,hbox_ko,hbox_clo,hbox_xo,hbox_zo],layout =Layout(border='solid'))\n",
    "\n",
    "t_arr = [0]\n",
    "\n",
    "\n",
    "vbox_t = widgets.VBox([HBox_total_t,HBox_dt], layout=Layout(border='solid'))\n",
    "\n",
    "\n",
    "\n",
    "display(vbox_t,hbox_atpase, hbox_ar, vbox_ext_ions)"
   ]
  },
  {
   "cell_type": "markdown",
   "metadata": {},
   "source": [
    "## Intracellular impermeant anion fluxes"
   ]
  },
  {
   "cell_type": "code",
   "execution_count": 33,
   "metadata": {},
   "outputs": [
    {
     "data": {
      "application/vnd.jupyter.widget-view+json": {
       "model_id": "d087761fedae4ce4969859299e682fc7",
       "version_major": 2,
       "version_minor": 0
      },
      "text/plain": [
       "Output()"
      ]
     },
     "metadata": {},
     "output_type": "display_data"
    },
    {
     "data": {
      "application/vnd.jupyter.widget-view+json": {
       "model_id": "862c6feac4894daab9bdb0cef337438a",
       "version_major": 2,
       "version_minor": 0
      },
      "text/plain": [
       "Output()"
      ]
     },
     "metadata": {},
     "output_type": "display_data"
    },
    {
     "data": {
      "application/vnd.jupyter.widget-view+json": {
       "model_id": "142edfd821f74fada8ffb14777a151ff",
       "version_major": 2,
       "version_minor": 0
      },
      "text/plain": [
       "Output()"
      ]
     },
     "metadata": {},
     "output_type": "display_data"
    }
   ],
   "source": [
    "global xflux_start_t, xflux_end_t, xflux_on\n",
    "###############################################################################\n",
    "# Widget Initialization\n",
    "# Simulating protein synthesis\n",
    "\n",
    "output_xflux = widgets.Output()\n",
    "output_xflux2 = widgets.Output()\n",
    "output_xflux3 = widgets.Output()\n",
    "\n",
    "lbl_xflux = widgets.Label(value=\"Add intracellular impermeant anions mid simulation:\")\n",
    "\n",
    "chk_xflux = widgets.Checkbox(value = False)\n",
    "hbox_xflux = widgets.HBox(children = [lbl_xflux, chk_xflux])\n",
    "vbox_xflux_1 = widgets.VBox(children = [hbox_xflux])\n",
    "vbox_xflux_static = widgets.VBox()\n",
    "vbox_xflux_dynamic = widgets.VBox()\n",
    "\n",
    "xflux_on = False\n",
    "\n",
    "with output_xflux:\n",
    "    display(vbox_xflux_1)\n",
    "\n",
    "    \n",
    "lbl_xflux_comp = widgets.Label (value = \"Select compartment\")\n",
    "drp_xflux_comp = widgets.Dropdown()\n",
    "comp_options = []\n",
    "comp_options.append(\"All compartments\")\n",
    "for i in range(len(sim.comp_arr)):\n",
    "    comp_options.append(sim.comp_arr[i].name)\n",
    "drp_xflux_comp.options = comp_options\n",
    "hbox_xflux_comp = widgets.HBox(children = [lbl_xflux_comp, drp_xflux_comp])\n",
    "\n",
    "rdb_xflux_type = widgets.RadioButtons(options=[\"Static/Constant rate of addition\",'Dynamic rate of addition'])\n",
    "\n",
    "lbl_xflux_static_rate = widgets.Label(value=\"Rate of ion flux mM/min\")\n",
    "sldr_xflux_static_rate = widgets.FloatSlider(value = 5, min=0.1, max=10.0, step=0.1)\n",
    "hbox_xflux_static_rate = widgets.HBox(children = [lbl_xflux_static_rate, sldr_xflux_static_rate])\n",
    "\n",
    "\n",
    "lbl_xflux_conc = widgets.Label(value=\"Concentration of anions to add (mM)\")\n",
    "sldr_xflux_conc = widgets.FloatSlider(value=2, min=0, max=10, step=0.5, disabled=False, continuous_update=False, orientation='horizontal',readout=True, readout_format='.2f')\n",
    "hbox_xflux_conc = widgets.HBox(children = [lbl_xflux_conc,sldr_xflux_conc])\n",
    "\n",
    "lbl_xflux_charge = widgets.Label(value=\"Charge of added anions\")\n",
    "sldr_xflux_charge = widgets.FloatSlider(value=-2, min=-2, max=-0.1, step=0.05, disabled=False, continuous_update=False, orientation='horizontal',readout=True, readout_format='.2f')\n",
    "hbox_xflux_charge = widgets.HBox(children = [lbl_xflux_charge,sldr_xflux_charge])\n",
    "\n",
    "lbl_xflux_start_t = widgets.Label(value=\"Time to start anion flux (s)\")\n",
    "sldr_xflux_start_t = widgets.FloatSlider(value=1, min=0.5, max=10000, step=0.5, disabled=False, continuous_update=False, orientation='horizontal',readout=True, readout_format='.1f')\n",
    "hbox_xflux_start_t = widgets.HBox(children = [lbl_xflux_start_t,sldr_xflux_start_t])\n",
    "\n",
    "lbl_xflux_end_t = widgets.Label(value=\"Time to end anion flux (s)\")\n",
    "sldr_xflux_end_t = widgets.FloatSlider(value=1, min=0.5, max=10000, step=0.5, disabled=False, continuous_update=False, orientation='horizontal',       readout=True, readout_format='.1f')\n",
    "hbox_xflux_end_t = widgets.HBox(children = [lbl_xflux_end_t,sldr_xflux_end_t])\n",
    "\n",
    "vbox_xflux_2 = widgets.VBox(children =[hbox_xflux_comp, rdb_xflux_type])\n",
    "                                       \n",
    "vbox_xflux_dynamic = widgets.VBox(children =[hbox_xflux_conc,  hbox_xflux_charge, hbox_xflux_start_t, hbox_xflux_end_t ], layout=Layout(border =\"solid\"))\n",
    "vbox_xflux_static = widgets.VBox(children = [hbox_xflux_static_rate, hbox_xflux_charge, hbox_xflux_start_t, hbox_xflux_end_t], layout=Layout(border =\"solid\"))\n",
    "\n",
    "btn_save_xflux = widgets.Button(description='Save anion flux setting for this compartment', layout=Layout(width='60%'),button_style='success')\n",
    "\n",
    "\n",
    "#############################################################################\n",
    "display(output_xflux)\n",
    "display(output_xflux2)\n",
    "display(output_xflux3)\n",
    "\n",
    "global xflux_settings_arr\n",
    "xflux_settings_arr =[]\n",
    "\n",
    "\n",
    "def btn_save_xflux_clicked(b):\n",
    "    xflux_dict = {}\n",
    "    xflux_dict = {\"Compartment\":drp_xflux_comp.value, \n",
    "                  \"Start time\": sldr_xflux_start_t.value,\n",
    "                  \"End time\": sldr_xflux_end_t.value,  \n",
    "                  \"Charge\": sldr_xflux_charge.value}\n",
    "    \n",
    "    if rdb_xflux_type.value == \"Static/Constant rate of addition\":\n",
    "        xflux_dict[\"Flux type\"] = 'static'\n",
    "        xflux_dict[\"Flux rate\"] = sldr_xflux_static_rate.value\n",
    "        xflux_dict[\"Concentration\"] = 0\n",
    "        \n",
    "    else: \n",
    "        xflux_dict[\"Flux type\"] = 'dynamic'\n",
    "        xflux_dict[\"Concentration\"] = sldr_xflux_conc.value\n",
    "        xflux_dict[\"Flux rate\"] = 0\n",
    "        \n",
    "    xflux_settings_arr.append(xflux_dict)    \n",
    "    with output_xflux3:\n",
    "        output_xflux3.clear_output()\n",
    "        global df_xflux\n",
    "        df_xflux= pd.DataFrame(xflux_settings_arr)\n",
    "        print(\"Saved Anion Flux Settings:\")\n",
    "        print(\"\")\n",
    "        print(df_xflux)\n",
    "        \n",
    "\n",
    "\n",
    "\n",
    "\n",
    "def set_x_flux(b):\n",
    "    \n",
    "    if chk_xflux.value == True:\n",
    "        xflux_settings_arr =[]\n",
    "        xflux_on = True\n",
    "        \n",
    "        \n",
    "        sldr_xflux_start_t.value = (sldr_total_t.value *60) *0.2\n",
    "        sldr_xflux_start_t.max = sldr_total_t.value *60\n",
    "        sldr_xflux_end_t.value = (sldr_total_t.value *60) *0.6\n",
    "        sldr_xflux_end_t.max = sldr_total_t.value *60\n",
    "        \n",
    "          \n",
    "        output_xflux.clear_output()    \n",
    "        with output_xflux:\n",
    "            display(vbox_xflux_1, vbox_xflux_2)\n",
    "        output_xflux2.clear_output()\n",
    "        with output_xflux2:\n",
    "            display(vbox_xflux_static,btn_save_xflux)\n",
    "        \n",
    "        \n",
    "    elif chk_xflux.value == False:\n",
    "        xflux_on = False\n",
    "        output_xflux.clear_output()\n",
    "        output_xflux2.clear_output()\n",
    "        output_xflux3.clear_output()\n",
    "        xflux_settings_arr =[]\n",
    "        display(vbox_xflux_1)\n",
    "        \n",
    "        \n",
    "\n",
    "def set_xflux_type(b):\n",
    "    \n",
    "    if rdb_xflux_type.value == \"Static/Constant rate of addition\":\n",
    "        \n",
    "        xflux_type = 'static'\n",
    "        output_xflux2.clear_output()\n",
    "        with output_xflux2:\n",
    "            display(vbox_xflux_static,btn_save_xflux)\n",
    "    else:\n",
    "        \n",
    "        xflux_type = 'dynamic'\n",
    "        output_xflux2.clear_output()\n",
    "        with output_xflux2:\n",
    "            display(vbox_xflux_dynamic,btn_save_xflux)\n",
    "        \n",
    "chk_xflux.observe(set_x_flux)\n",
    "rdb_xflux_type.observe(set_xflux_type)\n",
    "\n",
    "btn_save_xflux.on_click(btn_save_xflux_clicked)"
   ]
  },
  {
   "cell_type": "markdown",
   "metadata": {},
   "source": [
    "## Intracellular impermeant charge changes"
   ]
  },
  {
   "cell_type": "code",
   "execution_count": 34,
   "metadata": {},
   "outputs": [
    {
     "data": {
      "application/vnd.jupyter.widget-view+json": {
       "model_id": "2b704fb293444e5a8eb5209501471a09",
       "version_major": 2,
       "version_minor": 0
      },
      "text/plain": [
       "Output()"
      ]
     },
     "metadata": {},
     "output_type": "display_data"
    }
   ],
   "source": [
    "lbl_zflux = widgets.Label(value=\"Change intracellular impermeant anions charge during simulation:\")\n",
    "lbl_zflux_2 = widgets.Label(value=\"______Modelling change to average charge of impermeants ______\")\n",
    "chk_zflux = widgets.Checkbox(value = False)\n",
    "hbox_zflux = widgets.HBox(children = [lbl_zflux, chk_zflux])\n",
    "vbox_zflux_1 = widgets.VBox(children = [lbl_zflux_2,hbox_zflux])\n",
    "\n",
    "\n",
    "output_zflux = widgets.Output()\n",
    "with output_zflux:\n",
    "    display(vbox_zflux_1)\n",
    "\n",
    "\n",
    "    \n",
    "zflux_on = False\n",
    "\n",
    "lbl_zflux_comp = widgets.Label (value = \"Select compartment\")\n",
    "drp_zflux_comp = widgets.Dropdown()\n",
    "comp_options = []\n",
    "comp_options.append(\"All compartments\")\n",
    "for i in range(len(sim.comp_arr)):\n",
    "    comp_options.append(sim.comp_arr[i].name)\n",
    "drp_zflux_comp.options = comp_options\n",
    "hbox_zflux_comp = widgets.HBox(children = [lbl_zflux_comp, drp_zflux_comp])\n",
    "    \n",
    "lbl_zflux_charge = widgets.Label(value=\"Desired average charge of impermeant anions\")\n",
    "sldr_zflux_charge = widgets.FloatSlider(value=-0.85, min=-3, max= 1, step=0.05, disabled=False, continuous_update=False, orientation='horizontal',readout=True, readout_format='.2f')\n",
    "hbox_zflux_charge = widgets.HBox(children = [lbl_zflux_charge,sldr_zflux_charge])\n",
    "\n",
    "lbl_zflux_start_t = widgets.Label(value=\"Time to start anion flux (s)\")\n",
    "sldr_zflux_start_t = widgets.FloatSlider(value=1, min=0.5, max=10000, step=0.5, disabled=False, continuous_update=False, orientation='horizontal',readout=True, readout_format='.1f')\n",
    "hbox_zflux_start_t = widgets.HBox(children = [lbl_zflux_start_t,sldr_zflux_start_t])\n",
    "\n",
    "lbl_zflux_end_t = widgets.Label(value=\"Time to end anion flux (s)\")\n",
    "sldr_zflux_end_t = widgets.FloatSlider(value=1, min=0.5, max=10000, step=0.5, disabled=False, continuous_update=False, orientation='horizontal',       readout=True, readout_format='.1f')\n",
    "hbox_zflux_end_t = widgets.HBox(children = [lbl_zflux_end_t,sldr_zflux_end_t])\n",
    "\n",
    "vbox_zflux_2 = widgets.VBox(children =[hbox_zflux_comp,hbox_zflux_charge, hbox_zflux_start_t, hbox_zflux_end_t ], layout=Layout(border =\"solid\"))\n",
    "\n",
    "\n",
    "\n",
    "display(output_zflux)\n",
    "\n",
    "def set_z_flux(b):\n",
    "    \n",
    "    if chk_zflux.value == True:\n",
    "        \n",
    "        zflux_on = True\n",
    "        \n",
    "        \n",
    "        sldr_zflux_start_t.value = sldr_total_t.value *60 /5\n",
    "        sldr_zflux_start_t.max = sldr_total_t.value *60\n",
    "        sldr_zflux_end_t.value = sldr_total_t.value *60\n",
    "        sldr_zflux_end_t.max = sldr_total_t.value *60\n",
    "        \n",
    "          \n",
    "        output_zflux.clear_output()    \n",
    "        with output_zflux:\n",
    "            display(vbox_zflux_1, vbox_zflux_2)\n",
    "        #print(x_flux_on)\n",
    "        \n",
    "    elif chk_zflux.value == False:\n",
    "        zflux_on = False\n",
    "        output_zflux.clear_output()\n",
    "        display(vbox_zflux_1)\n",
    "        \n",
    "        \n",
    "        \n",
    "    \n",
    "\n",
    "chk_zflux.observe(set_z_flux)"
   ]
  },
  {
   "cell_type": "markdown",
   "metadata": {},
   "source": [
    "## Extracellular impermenat changes"
   ]
  },
  {
   "cell_type": "code",
   "execution_count": 35,
   "metadata": {},
   "outputs": [
    {
     "data": {
      "application/vnd.jupyter.widget-view+json": {
       "model_id": "0a7a8bc06cf34c66923e4d3c856d98d7",
       "version_major": 2,
       "version_minor": 0
      },
      "text/plain": [
       "Output()"
      ]
     },
     "metadata": {},
     "output_type": "display_data"
    }
   ],
   "source": [
    "output_xoflux = widgets.Output()\n",
    "\n",
    "lbl_xoflux = widgets.Label(value=\"Change extracellular impermeant anions mid simulation:\")\n",
    "\n",
    "chk_xoflux = widgets.Checkbox(value = False)\n",
    "hbox_xoflux = widgets.HBox(children = [lbl_xoflux, chk_xoflux])\n",
    "vbox_xoflux_1 = widgets.VBox(children = [hbox_xoflux])\n",
    "\n",
    "xoflux_on = False\n",
    "\n",
    "with output_xoflux:\n",
    "    display(vbox_xoflux_1)\n",
    "    \n",
    "lbl_xoflux_conc = widgets.Label(value=\"Concentration of extracellular impermeant anions to add/subtract (mM)\")\n",
    "sldr_xoflux_conc = widgets.FloatSlider(value=30, min=-60, max=60, step=0.5, disabled=False, continuous_update=False, orientation='horizontal',readout=True, readout_format='.2f')\n",
    "hbox_xoflux_conc = widgets.HBox(children = [lbl_xoflux_conc,sldr_xoflux_conc])\n",
    "\n",
    "lbl_xoflux_charge = widgets.Label(value=\"Charge of extracellular impermeant anions\")\n",
    "sldr_xoflux_charge = widgets.FloatSlider(value=-0.85, min=-2, max=-0.1, step=0.05, disabled=False, continuous_update=False, orientation='horizontal',readout=True, readout_format='.2f')\n",
    "hbox_xoflux_charge = widgets.HBox(children = [lbl_xoflux_charge,sldr_xoflux_charge])\n",
    "\n",
    "lbl_xoflux_start_t = widgets.Label(value=\"Time to start extracellular anion flux (s)\")\n",
    "sldr_xoflux_start_t = widgets.FloatSlider(value=1, min=0.5, max=10000, step=0.5, disabled=False, continuous_update=False, orientation='horizontal',readout=True, readout_format='.1f')\n",
    "hbox_xoflux_start_t = widgets.HBox(children = [lbl_xoflux_start_t,sldr_xoflux_start_t])\n",
    "\n",
    "lbl_xoflux_end_t = widgets.Label(value=\"Time to end extracellular anion flux (s)\")\n",
    "sldr_xoflux_end_t = widgets.FloatSlider(value=1, min=0.5, max=10000, step=0.5, disabled=False, continuous_update=False, orientation='horizontal',       readout=True, readout_format='.1f')\n",
    "hbox_xoflux_end_t = widgets.HBox(children = [lbl_xoflux_end_t,sldr_xoflux_end_t])\n",
    "\n",
    "vbox_xoflux_2 = widgets.VBox(children =[hbox_xoflux_conc,  hbox_xoflux_charge, hbox_xoflux_start_t, hbox_xoflux_end_t ], layout=Layout(border =\"solid\"))\n",
    "#############################################################################\n",
    "\n",
    "display(output_xoflux)\n",
    "\n",
    "\n",
    "def set_xo_flux(b):\n",
    "    \n",
    "    if chk_xoflux.value == True:\n",
    "        \n",
    "        xoflux_on = True\n",
    "        \n",
    "        \n",
    "        sldr_xoflux_start_t.value = sldr_total_t.value *60 /5\n",
    "        sldr_xoflux_start_t.max = sldr_total_t.value *60\n",
    "        sldr_xoflux_end_t.value = sldr_total_t.value *60\n",
    "        sldr_xoflux_end_t.max = sldr_total_t.value *60\n",
    "        \n",
    "          \n",
    "        output_xoflux.clear_output()    \n",
    "        with output_xoflux:\n",
    "            display(vbox_xoflux_1, vbox_xoflux_2)\n",
    "        \n",
    "        \n",
    "    elif chk_xoflux.value == False:\n",
    "        xoflux_on = False\n",
    "        output_xoflux.clear_output()\n",
    "        display(vbox_xoflux_1)\n",
    "        \n",
    "        \n",
    "chk_xoflux.observe(set_xo_flux)"
   ]
  },
  {
   "cell_type": "markdown",
   "metadata": {},
   "source": [
    "## Synaptic input"
   ]
  },
  {
   "cell_type": "code",
   "execution_count": 36,
   "metadata": {},
   "outputs": [
    {
     "data": {
      "application/vnd.jupyter.widget-view+json": {
       "model_id": "058c4b8f62f74c259786ccc44c0ae38a",
       "version_major": 2,
       "version_minor": 0
      },
      "text/plain": [
       "Button(button_style='info', description='Add Synapse', style=ButtonStyle())"
      ]
     },
     "metadata": {},
     "output_type": "display_data"
    },
    {
     "data": {
      "application/vnd.jupyter.widget-view+json": {
       "model_id": "b6e703a056b64fed8091bb7e38fddd96",
       "version_major": 2,
       "version_minor": 0
      },
      "text/plain": [
       "VBox(children=(Output(), Output()))"
      ]
     },
     "metadata": {},
     "output_type": "display_data"
    }
   ],
   "source": [
    "#########################################################\n",
    "# Widget initialization\n",
    "\n",
    "\n",
    "btn_synapse = widgets.Button(description = 'Add Synapse', button_style='info')\n",
    "btn_synapse_confirm = widgets.Button(description = 'Confirm synapse', button_style ='success')\n",
    "btn_synapse_reset =widgets.Button(description ='Reset all synapses', button_style = 'danger',disabled =True)\n",
    "\n",
    "output_synapse =widgets.Output()\n",
    "output_synapse_list =widgets.Output()\n",
    "vbox_synapse = widgets.VBox(children=[output_synapse,output_synapse_list])\n",
    "\n",
    "lbl_synapse_comp = widgets.Label(value =\"Select Compartment: \")\n",
    "drp_synapse_comp = widgets.Dropdown()\n",
    "drp_synapse_comp_options = []\n",
    "for i in range(len(sim.comp_arr)):\n",
    "    drp_synapse_comp_options.append(sim.comp_arr[i].name)\n",
    "drp_synapse_comp.options = drp_synapse_comp_options\n",
    "hbox_synapse_comp = widgets.HBox(children=[lbl_synapse_comp, drp_synapse_comp])\n",
    "\n",
    "\n",
    "\n",
    "rdb_synapse_type = widgets.RadioButtons(options = [\"Inhibitory\",\"Excitatory\"])\n",
    "\n",
    "lbl_synapse_max_nt =widgets.Label(value ='Maximum neurotransmitter concentration: (mM)')\n",
    "sldr_synapse_max_nt = widgets.FloatSlider(min = 0.5, value=1, max=4,step=0.5)\n",
    "hbox_synapse_max_nt = widgets.HBox(children=[lbl_synapse_max_nt,sldr_synapse_max_nt])\n",
    "\n",
    "total_t = sldr_total_t.value\n",
    "dt = sldr_dt.value\n",
    "synapse_on = False\n",
    "\n",
    "lbl_synapse_t_start = widgets.Label(value=\"Start time(s)\")\n",
    "sldr_synapse_t_start = widgets.FloatSlider( min = 0, value= total_t*60/5, max= total_t*60) \n",
    "hbox_synapse_t_start = widgets.HBox(children = [lbl_synapse_t_start, sldr_synapse_t_start])\n",
    "\n",
    "lbl_synapse_duration = widgets.Label(value=\"Duration(ms)\")\n",
    "sldr_synapse_duration = widgets.FloatSlider( min = 0, value= 2, max= 5) \n",
    "hbox_synapse_duration = widgets.HBox(children = [lbl_synapse_duration, sldr_synapse_duration])\n",
    "\n",
    "##################\n",
    "    \n",
    "#display(output_synapse)  \n",
    "\n",
    "display(btn_synapse)\n",
    "\n",
    "\n",
    "def btn_synapse_clicked(b):\n",
    "    with output_synapse:\n",
    "        display(hbox_synapse_comp, rdb_synapse_type, hbox_synapse_t_start, hbox_synapse_duration, hbox_synapse_max_nt, btn_synapse_confirm,btn_synapse_reset)\n",
    "    btn_synapse.disabled = True\n",
    "   \n",
    "    output_synapse.layout = Layout(border='solid')\n",
    "    \n",
    "\n",
    "    \n",
    "def btn_synapse_confirm_clicked(b):\n",
    "    \n",
    "    syn_arr = []\n",
    "    global syn_dict\n",
    "    syn_dict = {}\n",
    "    syn_dict['Compartment']=drp_synapse_comp.value\n",
    "    syn_dict['Synapse_type']= rdb_synapse_type.value\n",
    "    syn_dict['Start_time']= sldr_synapse_t_start.value \n",
    "    syn_dict['Duration']=sldr_synapse_duration.value*1e-3\n",
    "    syn_dict['Max_neurotransmitter_concentration'] = sldr_synapse_max_nt.value*1e-3\n",
    "    syn_arr.append(syn_dict)\n",
    "    \n",
    "    global df_synapse\n",
    "    df_synapse = pd.DataFrame(syn_arr)\n",
    "    \n",
    "    with output_synapse_list:\n",
    "        display(df_synapse)\n",
    "    \n",
    "    global synapse_on\n",
    "    synapse_on = True\n",
    "    print(syn_dict)\n",
    "    btn_synapse_reset.disabled=False\n",
    "    \n",
    "        \n",
    "        \n",
    "def btn_synapse_reset_clicked(b):\n",
    "    output_synapse_list.clear_output()\n",
    "    synapse_arr.clear()\n",
    "\n",
    "btn_synapse.on_click(btn_synapse_clicked)\n",
    "btn_synapse_confirm.on_click(btn_synapse_confirm_clicked)\n",
    "btn_synapse_reset.on_click(btn_synapse_reset_clicked)\n",
    "\n",
    "display(vbox_synapse)"
   ]
  },
  {
   "cell_type": "markdown",
   "metadata": {},
   "source": [
    "## Presimulation summary"
   ]
  },
  {
   "cell_type": "code",
   "execution_count": 37,
   "metadata": {},
   "outputs": [
    {
     "data": {
      "application/vnd.jupyter.widget-view+json": {
       "model_id": "9f44877ebe834816b2a0cf6ac324954f",
       "version_major": 2,
       "version_minor": 0
      },
      "text/plain": [
       "Button(button_style='info', description='View Presimulation summary ', layout=Layout(width='20%'), style=Butto…"
      ]
     },
     "metadata": {},
     "output_type": "display_data"
    },
    {
     "data": {
      "application/vnd.jupyter.widget-view+json": {
       "model_id": "300971fcb1f440708b1dfc8a2c696e52",
       "version_major": 2,
       "version_minor": 0
      },
      "text/plain": [
       "Output()"
      ]
     },
     "metadata": {},
     "output_type": "display_data"
    }
   ],
   "source": [
    "###################################################################\n",
    "# WIDGET INITIALIZATION\n",
    "\n",
    "btn_summary = widgets.Button(description = 'View Presimulation summary ',button_style = \"info\", layout=Layout(width='20%'))\n",
    "output_summary = widgets.Output()\n",
    "display(btn_summary, output_summary)\n",
    "\n",
    "\n",
    "def btn_summary_clicked(b):\n",
    "    with output_summary:\n",
    "        print(\"*********************\")\n",
    "        print(\"HDF5 File Name:\")\n",
    "        print(\"*********************\")\n",
    "        print(filename + \" saved in root directory\")\n",
    "        print()\n",
    "        print(\"*********************\")\n",
    "        print(\"Compartment settings:\")\n",
    "        print(\"*********************\")\n",
    "        print(sim.get_starting_df())\n",
    "        print()\n",
    "        print(\"*********************\")\n",
    "        print(\"Extracellular anion concentrations:\")\n",
    "        print(\"*********************\")\n",
    "        print(\"Na: \" + str(sldr_nao.value) + \" mM\")\n",
    "        print(\"K: \" + str(sldr_ko.value) + \" mM\")\n",
    "        print(\"Cl: \" + str(sldr_clo.value) + \" mM\")\n",
    "        print(\"X: \" + str(sldr_xo.value) + \" mM\")\n",
    "        print()\n",
    "        print(\"*********************\")\n",
    "        print(\"Simulation settings:\")\n",
    "        print(\"*********************\")\n",
    "        print(\"Total time (mins): \" + str(total_t))\n",
    "        print(\"Timestep (ms): \" + str(dt))\n",
    "        print(\"ATPase Model type: \" + rdb_atpase.value)\n",
    "        print(\"Pump rate: \" + str(0.1) )\n",
    "        print(\"Area scale type: \" + rdb_ar.value)  \n",
    "        print()\n",
    "        print(\"*********************\")\n",
    "        print(\"Impermeant anion changes:\")\n",
    "        print(\"*********************\")\n",
    "        \n",
    "        if chk_xflux.value == True:\n",
    "            print(df_xflux)\n",
    "        else:\n",
    "            print(\"No change of intracellular impermeant anion concentration mid simulation\")\n",
    "        print()    \n",
    "        if chk_zflux.value == True:\n",
    "            print(drp_zflux_comp.value+\" : change in intracellular impermeant anion charge - \"+  \" valence: \" + str(sldr_zflux_charge.value) +\n",
    "                 \", between: \" + str(sldr_zflux_start_t.value) + \"s and  \"+  str(sldr_zflux_end_t.value) + \"s\")\n",
    "            \n",
    "        else:\n",
    "            print(\"No change of intracellular  impermeant anion charge mid simulation\")\n",
    "        print()    \n",
    "        if chk_xoflux.value == True:\n",
    "            print(\"Change in extracellular impermeant anions - \" + str(sldr_xoflux_conc.value)+ \" mM, valence: \" + str(sldr_xoflux_charge.value) +\n",
    "                 \", between: \" + str(sldr_xoflux_start_t.value) + \"s and  \"+  str(sldr_xoflux_end_t.value) + \"s\")\n",
    "            \n",
    "        else:\n",
    "            print(\"No change of extracellular impermeant anion concentration mid simulation\")\n",
    "            \n",
    "        print()\n",
    "        print(\"*********************\")\n",
    "        print(\"Synapses:\")\n",
    "        print(\"*********************\")\n",
    "        if synapse_on == True:\n",
    "            print(df_synapse)\n",
    "        else:\n",
    "            print(\"No synaptic input during simulation\")\n",
    "\n",
    "btn_summary.on_click(btn_summary_clicked)"
   ]
  },
  {
   "cell_type": "markdown",
   "metadata": {},
   "source": [
    "## Run Simulation"
   ]
  },
  {
   "cell_type": "code",
   "execution_count": 38,
   "metadata": {},
   "outputs": [
    {
     "data": {
      "application/vnd.jupyter.widget-view+json": {
       "model_id": "663654dac9be47dd93304874aba25ac0",
       "version_major": 2,
       "version_minor": 0
      },
      "text/plain": [
       "Output()"
      ]
     },
     "metadata": {},
     "output_type": "display_data"
    },
    {
     "data": {
      "application/vnd.jupyter.widget-view+json": {
       "model_id": "e9067889367a4fd99cd9a358ab1ffb24",
       "version_major": 2,
       "version_minor": 0
      },
      "text/plain": [
       "Output()"
      ]
     },
     "metadata": {},
     "output_type": "display_data"
    },
    {
     "data": {
      "application/vnd.jupyter.widget-view+json": {
       "model_id": "43a27368ee9c47bc8d78b73df23c6fef",
       "version_major": 2,
       "version_minor": 0
      },
      "text/plain": [
       "Button(button_style='danger', description='Run Simulation', style=ButtonStyle())"
      ]
     },
     "metadata": {},
     "output_type": "display_data"
    },
    {
     "name": "stdout",
     "output_type": "stream",
     "text": [
      "Simulation started at:1626178964.5211508\n"
     ]
    }
   ],
   "source": [
    "btn_sim = widgets.Button(description =\"Run Simulation\", button_style=\"Danger\",disabled=False)\n",
    "output5 = widgets.Output()\n",
    "output6 = widgets.Output()\n",
    "output7 = widgets.Output()\n",
    "\n",
    "\n",
    "\n",
    "display(output6, output7, btn_sim)\n",
    "\n",
    "global SIM_OVER\n",
    "\n",
    "SIM_OVER = False\n",
    "\n",
    "def btn_sim_clicked(b):\n",
    "  \n",
    "    \n",
    "    #########\n",
    "    # ELECTRODIFFUSION LINKAGES\n",
    "    \n",
    "    sim.set_electrodiffusion_properties(ED_on=True)    \n",
    "       \n",
    "    ##########\n",
    "    ##########\n",
    "    # TIMING \n",
    "   \n",
    "    dt=sldr_dt.value*1e-3\n",
    "    total_t= sldr_total_t.value *60\n",
    "    interval = total_t/dt\n",
    "\n",
    "    sim.set_timing(total_t=total_t, time_step=dt)\n",
    "    \n",
    "    #########\n",
    "    # ATPASE SETTINGS\n",
    "   \n",
    "    if rdb_atpase.value == 'Constant':\n",
    "        sim.set_j_atp(constant_j_atp=True)\n",
    "    else: sim.set_j_atp(constant_j_atp=False)\n",
    "    \n",
    "    \n",
    "    ######## \n",
    "    # AREA SCALE SETTINGS\n",
    "    \n",
    "    if rdb_ar.value == 'Constant':\n",
    "        sim.set_area_scale(constant_ar=True)\n",
    "    else: sim.set_area_scale(constant_ar=False)\n",
    "        \n",
    "    ########\n",
    "    # EXTERNAL ION PARAMETERS:\n",
    "    nao = sldr_nao.value*1e-3\n",
    "    ko = sldr_ko.value*1e-3\n",
    "    clo = sldr_clo.value*1e-3\n",
    "    xo = sldr_xo.value*1e-3\n",
    "    zo = sldr_zo.value \n",
    "    \n",
    "    sim.set_external_ion_properties(na_o = nao, k_o = ko, cl_o = clo, x_o = xo, z_o = zo)\n",
    "    \n",
    "    ########\n",
    "    # X-FLUX & Z-FLUX SETTINGS\n",
    "    \n",
    "    xflux_on = chk_xflux.value\n",
    "    \n",
    "    \n",
    "    if xflux_on == True:\n",
    "        \n",
    "               \n",
    "        for i in range(len(xflux_settings_arr)):\n",
    "            \n",
    "            if xflux_settings_arr[i]['Compartment'] == \"All compartments\":\n",
    "                xflux_all_comps = True\n",
    "                xcomps = []\n",
    "            else:\n",
    "                xflux_all_comps = False\n",
    "                xcomps = []\n",
    "                xcomps.append(xflux_settings_arr[i]['Compartment'])\n",
    "                \n",
    "        \n",
    "        \n",
    "            sim.set_xflux(all_comps= xflux_all_comps, \n",
    "                          comps=xcomps, \n",
    "                          flux_type=xflux_settings_arr[i]['Flux type'], \n",
    "                          start_t=xflux_settings_arr[i]['Start time'], \n",
    "                          end_t=xflux_settings_arr[i]['End time'],\n",
    "                          x_conc= xflux_settings_arr[i]['Concentration']*1e-3,\n",
    "                          z= xflux_settings_arr[i]['Charge'], \n",
    "                          flux_rate=xflux_settings_arr[i]['Flux rate']*1e-3/(60))\n",
    "        \n",
    "        \n",
    "    zflux_on = chk_zflux.value\n",
    "       \n",
    "     \n",
    "    if zflux_on == True: \n",
    "            \n",
    "        zflux_start_t = sldr_zflux_start_t.value\n",
    "        zflux_end_t = sldr_zflux_end_t.value\n",
    "        zflux_charge = sldr_zflux_charge.value\n",
    "        \n",
    "        if drp_zflux_comp.value == \"All compartments\":\n",
    "            zflux_all_comps=True\n",
    "            zcomps = []\n",
    "        else:\n",
    "            \n",
    "            zcomps = [drp_zflux_comp.value for a in range(len(sim.comp_arr)) if drp_zflux_comp.value==sim.comp_arr[a].name]\n",
    "        \n",
    "        sim.set_zflux(all_comps= zflux_all_comps,\n",
    "                      comps= zcomps,\n",
    "                      start_t= zflux_start_t,\n",
    "                      end_t=zflux_end_t,\n",
    "                      z= zflux_charge)\n",
    "        \n",
    "    xoflux_on = chk_xoflux.value\n",
    "    \n",
    "    if xoflux_on == True:\n",
    "        \n",
    "        xoflux_start_t = sldr_xoflux_start_t.value\n",
    "        xoflux_end_t = sldr_xoflux_end_t.value\n",
    "        xoflux_conc = sldr_xoflux_conc.value*1e-3\n",
    "        xoflux_charge = sldr_xoflux_charge.value\n",
    "        \n",
    "        sim.set_xoflux(start_t=xoflux_start_t, \n",
    "                       end_t=xoflux_end_t, \n",
    "                       xo_conc=xoflux_conc, \n",
    "                       z_end= xoflux_charge)\n",
    "            \n",
    "    #######\n",
    "    # SYNAPSES:\n",
    "    \n",
    "    if synapse_on == True:\n",
    "        \n",
    "        sim.add_synapse(comp_name = syn_dict['Compartment'],\n",
    "                       synapse_type = syn_dict['Synapse_type'],\n",
    "                       start_t = syn_dict['Start_time'],\n",
    "                       duration =syn_dict['Duration'],\n",
    "                       max_neurotransmitter = syn_dict['Max_neurotransmitter_concentration'])\n",
    "    \n",
    " \n",
    "        \n",
    "    ########\n",
    "    # SIMULATION\n",
    "    \n",
    "    print(\"Simulation started at:\" + str(time.time()))\n",
    "    sim.run_simulation()\n",
    "    \n",
    "       \n",
    "    SIM_OVER = True\n",
    "    btn_sim.disabled=True\n",
    "    lbl_finalvals = widgets.Label(value=\"Final Values:\")\n",
    "    with output7:  \n",
    "        print(\"Simulation complete!\")\n",
    "        print(\"Simulation results are saved in the HDF5 file named:\"+filename)\n",
    "        display(lbl_finalvals)\n",
    "        \n",
    "        \n",
    "        \n",
    "btn_sim.on_click(btn_sim_clicked)"
   ]
  },
  {
   "cell_type": "code",
   "execution_count": null,
   "metadata": {},
   "outputs": [],
   "source": []
  }
 ],
 "metadata": {
  "kernelspec": {
   "display_name": "Python 3 (ipykernel)",
   "language": "python",
   "name": "python3"
  },
  "language_info": {
   "codemirror_mode": {
    "name": "ipython",
    "version": 3
   },
   "file_extension": ".py",
   "mimetype": "text/x-python",
   "name": "python",
   "nbconvert_exporter": "python",
   "pygments_lexer": "ipython3",
   "version": "3.9.7"
  }
 },
 "nbformat": 4,
 "nbformat_minor": 4
}
