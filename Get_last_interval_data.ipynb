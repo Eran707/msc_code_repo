{
 "cells": [
  {
   "cell_type": "code",
   "execution_count": 1,
   "id": "4d41d933",
   "metadata": {},
   "outputs": [
    {
     "name": "stdout",
     "output_type": "stream",
     "text": [
      "All relevant classes imported\n"
     ]
    }
   ],
   "source": [
    "try:\n",
    "        \n",
    "    import h5py\n",
    "    \n",
    "    from ipywidgets import widgets, Layout, interact, interactive, interactive_output, Dropdown\n",
    "    from IPython.display import display\n",
    "    import matplotlib.pyplot as mplt\n",
    "    import scipy\n",
    "    from sympy import symbols, Eq, solve\n",
    "    import numpy as np\n",
    "    import random\n",
    "    import seaborn as sns \n",
    "    import pandas as pd\n",
    "    import graphing as gr\n",
    "    #!pip install viola\n",
    "    ########## Modules required for artist drawing on matplotlib\n",
    "    import matplotlib.path as mpath\n",
    "    import matplotlib.lines as mlines\n",
    "    import matplotlib.patches as mpatches\n",
    "    from matplotlib.collections import PatchCollection\n",
    "    \n",
    "      \n",
    "except ModuleNotFoundError:\n",
    "        print(\"A class you are trying to import is not present in the directory\")\n",
    "    \n",
    "except Exception:\n",
    "        print(\"Something went wrong - modules have not been imported\")\n",
    "\n",
    "else: \n",
    "    print(\"All relevant classes imported\")"
   ]
  },
  {
   "cell_type": "code",
   "execution_count": 2,
   "id": "424d539a",
   "metadata": {},
   "outputs": [
    {
     "data": {
      "application/vnd.jupyter.widget-view+json": {
       "model_id": "b955b3e3e3ad45c18ecc88bcf95fe23f",
       "version_major": 2,
       "version_minor": 0
      },
      "text/plain": [
       "Text(value='T1', description='File name')"
      ]
     },
     "metadata": {},
     "output_type": "display_data"
    },
    {
     "data": {
      "application/vnd.jupyter.widget-view+json": {
       "model_id": "915f7369ee574a75aac0a75f4e48bb05",
       "version_major": 2,
       "version_minor": 0
      },
      "text/plain": [
       "Button(button_style='success', description='Select file', style=ButtonStyle())"
      ]
     },
     "metadata": {},
     "output_type": "display_data"
    },
    {
     "data": {
      "application/vnd.jupyter.widget-view+json": {
       "model_id": "7dcd82fc6ca94058a85c7acc7c008c80",
       "version_major": 2,
       "version_minor": 0
      },
      "text/plain": [
       "Output()"
      ]
     },
     "metadata": {},
     "output_type": "display_data"
    },
    {
     "name": "stdout",
     "output_type": "stream",
     "text": [
      "File found and content loaded into memory\n"
     ]
    }
   ],
   "source": [
    "#######################################################\n",
    "#### GUI \n",
    "\n",
    "edt_filename = widgets.Text(description = 'File name', value='T1')\n",
    "btn_select = widgets.Button(description = 'Select file',button_style='success')\n",
    "output_file = widgets.Output()\n",
    "\n",
    "display(edt_filename, btn_select,output_file)\n",
    "\n",
    "\n",
    "\n",
    "#######################################################\n",
    "#### FUNCTIONS\n",
    "\n",
    "\n",
    "#df_flux = pd.DataFrame({'Compartment':[],'Na_net':[], 'Na_leak':[],'Na_Atpase':[], 'K_net':[],'K_leak':[],'K_Atpase':[],'K_kcc2':[], 'Cl_net':[],'Cl_kcc2':[],'X':[],'z':[]  })\n",
    "df_ed = pd.DataFrame({'Boundary':[],'Na':[],'K':[],'Cl':[]})\n",
    "\n",
    "\n",
    "\n",
    "def btn_select_clicked(b):\n",
    "    global file_name, df_end, df_start, df_end_flux, df_end_ed, df_end_net_flux\n",
    "    file_name = \"\\\\\"\n",
    "    file_name = file_name + edt_filename.value \n",
    "    \n",
    "    try: \n",
    "        with h5py.File(file_name, mode='r') as hdf:\n",
    "            \n",
    "            print(\"File found and content loaded into memory\")\n",
    "            global C, comp_names_arr, intervals, interval_arr, master_arr, t_arr, ED_master_arr,E_group_arr\n",
    "            C = hdf.get('COMPARTMENTS')\n",
    "            C_group_arr =[]\n",
    "            t_arr_bool = True\n",
    "            comp_names_arr= list(C.keys())\n",
    "                        \n",
    "            C1 = C.get(comp_names_arr[0])\n",
    "            \n",
    "            T = hdf.get('TIMING')\n",
    "            total_t = T.get('TOTAL_T')[()]\n",
    "            intervals = T.get('INTERVALS')[()]\n",
    "            dt = T.get(\"DT\")[()]\n",
    "            total_steps = total_t /dt          \n",
    "            interval_step = total_steps / intervals\n",
    "            interval_arr = [round(interval_step * i) for i in range(intervals)]\n",
    "            \n",
    "            master_arr = []\n",
    "            t_arr =[]\n",
    "            \n",
    "            \n",
    "            \n",
    "            \n",
    "            ##### LOADING COMPARTMENT DATA\n",
    "            for e in range(len(comp_names_arr)):\n",
    "                C_group = C.get(comp_names_arr[e])\n",
    "                C_group_arr.append(C_group)\n",
    "               \n",
    "                data_arr_2 =[]\n",
    "\n",
    "                dataset = C_group.get(str(interval_arr[-1]))\n",
    "                    \n",
    "                data_arr = []\n",
    "                for d in range(len(list(dataset))):\n",
    "                    data_arr.append(dataset[d])\n",
    "                    \n",
    "                data_arr_2.append(data_arr)\n",
    "            \n",
    "                if t_arr_bool == True:\n",
    "                    t_arr.append(data_arr[0])         \n",
    "                \n",
    "                master_arr.append(data_arr_2)\n",
    "                t_arr_bool = False\n",
    "                \n",
    "                \n",
    "            \n",
    "    except: \n",
    "        raise(\"File not found\")\n",
    "        raise(\"File needs to be in base directory\")\n",
    "\n",
    "\n",
    "btn_select.on_click(btn_select_clicked)"
   ]
  },
  {
   "cell_type": "code",
   "execution_count": 7,
   "id": "544e4073",
   "metadata": {},
   "outputs": [
    {
     "name": "stdout",
     "output_type": "stream",
     "text": [
      "Comp1 Terminal: Na: 0.013614929701933197\n",
      "Comp1 Terminal: K: 0.12323046997950128\n",
      "Comp1 Terminal: Cl: 0.005161213856695764\n",
      "Comp1 Terminal: X: 0.15499338647116973\n",
      "Comp2 Terminal: Na: 0.013614929264153794\n",
      "Comp2 Terminal: K: 0.12323047045640764\n",
      "Comp2 Terminal: Cl: 0.005161214342881873\n",
      "Comp2 Terminal: X: 0.15499338594585663\n",
      "Comp3 Terminal: Na: 0.013614928377892476\n",
      "Comp3 Terminal: K: 0.12323047142248046\n",
      "Comp3 Terminal: Cl: 0.005161215334426458\n",
      "Comp3 Terminal: X: 0.1549933848745006\n",
      "Comp4 Terminal: Na: 0.013614927021848255\n",
      "Comp4 Terminal: K: 0.12323047290221618\n",
      "Comp4 Terminal: Cl: 0.005161216870644674\n",
      "Comp4 Terminal: X: 0.15499338321459083\n",
      "Comp5 Terminal: Na: 0.013614925163238877\n",
      "Comp5 Terminal: K: 0.1232304749333041\n",
      "Comp5 Terminal: Cl: 0.005161219011937817\n",
      "Comp5 Terminal: X: 0.15499338090081924\n",
      "Comp6 Terminal: Na: 0.013614922758244098\n",
      "Comp6 Terminal: K: 0.12323047756639026\n",
      "Comp6 Terminal: Cl: 0.005161221842301841\n",
      "Comp6 Terminal: X: 0.15499337784236378\n",
      "Comp7 Terminal: Na: 0.013614919750585272\n",
      "Comp7 Terminal: K: 0.1232304808667141\n",
      "Comp7 Terminal: Cl: 0.005161225472004392\n",
      "Comp7 Terminal: X: 0.15499337391999618\n",
      "Comp8 Terminal: Na: 0.015120774007731434\n",
      "Comp8 Terminal: K: 0.13686021091440284\n",
      "Comp8 Terminal: Cl: 0.004647230357925339\n",
      "Comp8 Terminal: X: 0.1403717847292404\n",
      "Comp9 Terminal: Na: 0.013614916893841237\n",
      "Comp9 Terminal: K: 0.12323048403761348\n",
      "Comp9 Terminal: Cl: 0.00516122936489144\n",
      "Comp9 Terminal: X: 0.1549933697129538\n"
     ]
    }
   ],
   "source": [
    "for j in range(0,len(master_arr)):\n",
    "    na= master_arr[j][-1][4]\n",
    "    k = master_arr[j][-1][5] \n",
    "    cl = master_arr[j][-1][6] \n",
    "    x = master_arr[j][-1][7] \n",
    "    print(comp_names_arr[j] + \" Terminal:\"+\" Na: \" + str((na)))\n",
    "    print(comp_names_arr[j] + \" Terminal:\"+\" K: \" + str((k)))\n",
    "    print(comp_names_arr[j] + \" Terminal:\"+\" Cl: \" + str((cl)))\n",
    "    print(comp_names_arr[j] + \" Terminal:\"+\" X: \" + str((x)))\n",
    "    \"\"\"\n",
    "    +\" K: \" + str(round(k_arr[-1],1))+\" Cl: \" + str(round(cl_arr[-1],1)))\n",
    "    #print(str(j) +' of '+str(len(master_arr)+' loaded'))\n",
    "    mplt.plot(t_arr[::],na_arr[::], label= 'Na')\n",
    "    #mplt.plot(t_arr[::],k_arr[::], label= 'K')\n",
    "    #mplt.plot(t_arr[::],cl_arr[::], label= 'Cl')\n",
    "    #mplt.plot(t_arr[::],x_arr[::], label= comp_names_arr[j])\n",
    "    \"\"\""
   ]
  },
  {
   "cell_type": "code",
   "execution_count": null,
   "id": "f885807f",
   "metadata": {},
   "outputs": [],
   "source": []
  }
 ],
 "metadata": {
  "kernelspec": {
   "display_name": "Python 3 (ipykernel)",
   "language": "python",
   "name": "python3"
  },
  "language_info": {
   "codemirror_mode": {
    "name": "ipython",
    "version": 3
   },
   "file_extension": ".py",
   "mimetype": "text/x-python",
   "name": "python",
   "nbconvert_exporter": "python",
   "pygments_lexer": "ipython3",
   "version": "3.9.7"
  }
 },
 "nbformat": 4,
 "nbformat_minor": 5
}
