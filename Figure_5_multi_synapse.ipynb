{
 "cells": [
  {
   "cell_type": "code",
   "execution_count": 1,
   "id": "bacbf69f",
   "metadata": {},
   "outputs": [
    {
     "name": "stdout",
     "output_type": "stream",
     "text": [
      "All relevant classes imported\n"
     ]
    }
   ],
   "source": [
    "try:\n",
    "        \n",
    "    import h5py\n",
    "    \n",
    "    from ipywidgets import widgets, Layout, interact, interactive, interactive_output, Dropdown\n",
    "    from IPython.display import display\n",
    "    import matplotlib.pyplot as mplt\n",
    "    import scipy\n",
    "    from sympy import symbols, Eq, solve\n",
    "    import numpy as np\n",
    "    import random\n",
    "    import seaborn as sns \n",
    "    import pandas as pd\n",
    "    import graphing as gr\n",
    "    #!pip install viola\n",
    "    ########## Modules required for artist drawing on matplotlib\n",
    "    import matplotlib.path as mpath\n",
    "    import matplotlib.lines as mlines\n",
    "    import matplotlib.patches as mpatches\n",
    "    from matplotlib.collections import PatchCollection\n",
    "    \n",
    "      \n",
    "except ModuleNotFoundError:\n",
    "        print(\"A class you are trying to import is not present in the directory\")\n",
    "    \n",
    "except Exception:\n",
    "        print(\"Something went wrong - modules have not been imported\")\n",
    "\n",
    "else: \n",
    "    print(\"All relevant classes imported\")"
   ]
  },
  {
   "cell_type": "code",
   "execution_count": 47,
   "id": "739e8296",
   "metadata": {},
   "outputs": [
    {
     "data": {
      "application/vnd.jupyter.widget-view+json": {
       "model_id": "fd3f43ed778f4f169c39fb443fb2afd5",
       "version_major": 2,
       "version_minor": 0
      },
      "text/plain": [
       "Text(value=' Exp5-11', description='File1 (-0.85)')"
      ]
     },
     "metadata": {},
     "output_type": "display_data"
    },
    {
     "data": {
      "application/vnd.jupyter.widget-view+json": {
       "model_id": "11d9a3a9288746ac94938f362f58f2d0",
       "version_major": 2,
       "version_minor": 0
      },
      "text/plain": [
       "Button(button_style='success', description='Select files', style=ButtonStyle())"
      ]
     },
     "metadata": {},
     "output_type": "display_data"
    },
    {
     "data": {
      "application/vnd.jupyter.widget-view+json": {
       "model_id": "9a406dcce7184756ad6f023125784d33",
       "version_major": 2,
       "version_minor": 0
      },
      "text/plain": [
       "Output()"
      ]
     },
     "metadata": {},
     "output_type": "display_data"
    },
    {
     "name": "stdout",
     "output_type": "stream",
     "text": [
      "\\ Exp5-11 file found... loading content\n",
      "\\ Exp5-11 content loaded into memory\n"
     ]
    }
   ],
   "source": [
    "#######################################################\n",
    "#### GUI \n",
    "\n",
    "edt_filename_1 = widgets.Text(description = 'File1 (-0.85)', value=' Exp5-11')\n",
    "\n",
    "btn_select = widgets.Button(description = 'Select files',button_style='success')\n",
    "output_file = widgets.Output()\n",
    "\n",
    "display(edt_filename_1, btn_select,output_file)\n",
    "\n",
    "\n",
    "\n",
    "#######################################################\n",
    "#### FUNCTIONS\n",
    "\n",
    "\n",
    "#df_flux = pd.DataFrame({'Compartment':[],'Na_net':[], 'Na_leak':[],'Na_Atpase':[], 'K_net':[],'K_leak':[],'K_Atpase':[],'K_kcc2':[], 'Cl_net':[],'Cl_kcc2':[],'X':[],'z':[]  })\n",
    "df_ed = pd.DataFrame({'Boundary':[],'Na':[],'K':[],'Cl':[]})\n",
    "\n",
    "\n",
    "\n",
    "def btn_select_clicked(b):\n",
    "    \n",
    "    \n",
    "    global filename_1, t_arr, v_arr \n",
    "    \n",
    "    filename_1 = \"\\\\\"\n",
    "    filename_1 = filename_1 + edt_filename_1.value \n",
    "    \n",
    "    \n",
    "    \n",
    "    \n",
    "    ##### FILE 1 data\n",
    "    \n",
    "    try: \n",
    "        with h5py.File(filename_1, mode='r') as hdf:\n",
    "            \n",
    "            print(filename_1+\" file found... loading content\") \n",
    "            global C, comp_names_arr, intervals, interval_arr, f1_v_arr,f1_ecl_arr\n",
    "            C = hdf.get('COMPARTMENTS')\n",
    "            C_group_arr =[]\n",
    "            t_arr_bool = True\n",
    "            comp_names_arr= list(C.keys())\n",
    "                        \n",
    "            C1 = C.get(comp_names_arr[0])\n",
    "            \n",
    "            T = hdf.get('TIMING')\n",
    "            total_t = T.get('TOTAL_T')[()]\n",
    "            intervals = T.get('INTERVALS')[()]\n",
    "            dt = T.get(\"DT\")[()]\n",
    "            total_steps = total_t /dt          \n",
    "            interval_step = total_steps / intervals\n",
    "            interval_arr = [round(interval_step * i) for i in range(intervals)]\n",
    "            \n",
    "\n",
    "            t_arr =[]\n",
    "            f1_v_arr = [] \n",
    "            f1_ecl_arr=[]\n",
    "            ##### LOADING COMPARTMENT DATA\n",
    "            \n",
    "            for i in range(len(comp_names_arr)):\n",
    "                C_group = C.get(comp_names_arr[i])\n",
    "                C_group_arr.append(C_group)\n",
    "                v_arr = []\n",
    "                ecl_arr = []\n",
    "                for j in range(len(list(C_group.keys()))):\n",
    "                    dataset = C_group.get(str(interval_arr[j]))\n",
    "                    v_arr.append(dataset[-3]*1e3)\n",
    "                    ecl_arr.append(dataset[-1]*1e3)\n",
    "                    if t_arr_bool == True:\n",
    "                        t_arr.append(dataset[0]*1e3)\n",
    "                f1_v_arr.append(v_arr)\n",
    "                f1_ecl_arr.append(ecl_arr)\n",
    "                t_arr_bool = False\n",
    "                \n",
    "            print(filename_1+\" content loaded into memory\") \n",
    "            \n",
    "    except: \n",
    "        raise(filename_1+\" not found\")\n",
    "        raise(\"File needs to be in base directory\")\n",
    "        \n",
    "        \n",
    "\n",
    "btn_select.on_click(btn_select_clicked)"
   ]
  },
  {
   "cell_type": "code",
   "execution_count": 50,
   "id": "1d0c5206",
   "metadata": {},
   "outputs": [
    {
     "name": "stdout",
     "output_type": "stream",
     "text": [
      "1000\n",
      "90.00000000006935\n"
     ]
    },
    {
     "data": {
      "text/plain": [
       "Text(0.5, 1.0, 'Cl DF in each compartment')"
      ]
     },
     "execution_count": 50,
     "metadata": {},
     "output_type": "execute_result"
    },
    {
     "data": {
      "image/png": "[encoded data removed]",
      "text/plain": [
       "<Figure size 360x1080 with 7 Axes>"
      ]
     },
     "metadata": {
      "needs_background": "light"
     },
     "output_type": "display_data"
    }
   ],
   "source": [
    "\n",
    "\n",
    "f5a, [ax1,ax2,ax3,ax4] = mplt.subplots(4,1,figsize=(5,15), sharey=False, sharex=False) \n",
    "sns.despine()\n",
    "f5a.tight_layout(pad=4.0)\n",
    "print(len(t_arr))\n",
    "print(t_arr[450])\n",
    "\n",
    "##### TOP ROW\n",
    "v_arr = [f1_v_arr[8][j]for j in range(len(t_arr))]\n",
    "ax1.plot(t_arr[200:450:], v_arr[200:450:],'-', label=\"Comp8\",color='#000000')\n",
    "#ax1.set_title(\"Biophysical model\")\n",
    "\n",
    "v_arr = [f1_v_arr[4][j] for j in range(len(t_arr))]\n",
    "ax1.plot(t_arr[200:450:], v_arr[200:450:], '--',  label=\"Comp4\",color='#000000')\n",
    "\n",
    "v_arr = [f1_v_arr[0][j] for j in range(len(t_arr))]\n",
    "ax1.plot(t_arr[200:450:], v_arr[200:450:], '-.', label=\"Comp0(Soma)\",color='#000000')\n",
    "ax1.legend()\n",
    "\n",
    "#ax1.get_xaxis().set_visible(False)\n",
    "#ax1.set_ylabel(\"Membrane Potential (mV)\")\n",
    "ax1.set_xlabel(\"Simulation time (ms)\")\n",
    "#ax1.set_ylim([-75,-52.5])\n",
    "#ax1.set_yticks([-70,-65,-60,-55])\n",
    "\n",
    "\n",
    "vm_arr = []\n",
    "ecl_arr = []\n",
    "df_cl_arr = []\n",
    "for i in range(len(f1_v_arr),0,-1):\n",
    "        \n",
    "    temp_arr_vm = [f1_v_arr[i-1][j] for j in range(len(f1_v_arr[0]))] \n",
    "    temp_arr_vm = temp_arr_vm[200:450:8]\n",
    "    vm_arr.append(temp_arr_vm)\n",
    "    \n",
    "    temp_arr_ecl = [f1_ecl_arr[i-1][j] for j in range(len(f1_ecl_arr[0]))] \n",
    "    temp_arr_ecl = temp_arr_ecl[200:450:8]\n",
    "    ecl_arr.append(temp_arr_ecl)\n",
    "\n",
    "    temp_arr_df_cl = [f1_v_arr[i-1][j] - f1_ecl_arr[i-1][j] for j in range(len(f1_ecl_arr[0]))] \n",
    "    temp_arr_df_cl = temp_arr_df_cl[200:450:8]\n",
    "    df_cl_arr.append(temp_arr_df_cl)\n",
    "    \n",
    "g_vm = sns.heatmap(vm_arr,cmap=\"Greys_r\",xticklabels=False, yticklabels=False, cbar_kws={'pad':0.05,'label':'Voltage(mV)', 'orientation':'horizontal' }, ax=ax2,linewidth=0.01 )\n",
    "#g_vm.set_ylabel(\"Compartment\",fontsize=10)\n",
    "#g_vm.set_yticklabels(comp_names_arr[::-1], fontsize=8, rotation=0)\n",
    "ax2.set_title(\"Vm in each compartment\",fontsize=10)  \n",
    "\n",
    "g_ecl = sns.heatmap(ecl_arr,cmap=\"Greens_r\",xticklabels=False, yticklabels=False, cbar_kws={'pad':0.05,'label':'Voltage(mV)', 'orientation':'horizontal' }, ax=ax3,linewidth=0.01 )\n",
    "#g_vm.set_ylabel(\"Compartment\",fontsize=10)\n",
    "#g_ecl.set_yticklabels(comp_names_arr[::-1], fontsize=8, rotation=0)\n",
    "ax3.set_title(\"E-Cl in each compartment\",fontsize=10)\n",
    "\n",
    "g_df_cl = sns.heatmap(df_cl_arr,cmap=\"Greens_r\",xticklabels=False, yticklabels=False, cbar_kws={'pad':0.05,'label':'Voltage(mV)', 'orientation':'horizontal' }, ax=ax4,linewidth=0.01 )\n",
    "#g_vm.set_ylabel(\"Compartment\",fontsize=10)\n",
    "#g_df_cl.set_yticklabels(comp_names_arr[::-1], fontsize=8, rotation=0)\n",
    "ax4.set_title(\"Cl DF in each compartment\",fontsize=10)\n",
    "\n"
   ]
  },
  {
   "cell_type": "code",
   "execution_count": null,
   "id": "60dc2ee9",
   "metadata": {},
   "outputs": [],
   "source": []
  }
 ],
 "metadata": {
  "kernelspec": {
   "display_name": "Python 3 (ipykernel)",
   "language": "python",
   "name": "python3"
  },
  "language_info": {
   "codemirror_mode": {
    "name": "ipython",
    "version": 3
   },
   "file_extension": ".py",
   "mimetype": "text/x-python",
   "name": "python",
   "nbconvert_exporter": "python",
   "pygments_lexer": "ipython3",
   "version": "3.9.7"
  }
 },
 "nbformat": 4,
 "nbformat_minor": 5
}
