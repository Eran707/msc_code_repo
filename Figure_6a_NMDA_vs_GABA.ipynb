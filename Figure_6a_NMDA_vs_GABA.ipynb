{
 "cells": [
  {
   "cell_type": "markdown",
   "id": "6700a3fe",
   "metadata": {},
   "source": [
    "## Imports"
   ]
  },
  {
   "cell_type": "code",
   "execution_count": 2,
   "id": "e70bb77b",
   "metadata": {},
   "outputs": [
    {
     "name": "stdout",
     "output_type": "stream",
     "text": [
      "All relevant classes imported\n"
     ]
    }
   ],
   "source": [
    "try:\n",
    "        \n",
    "    import h5py\n",
    "    \n",
    "    from ipywidgets import widgets, Layout, interact, interactive, interactive_output, Dropdown\n",
    "    from IPython.display import display\n",
    "    import matplotlib.pyplot as mplt\n",
    "    import scipy\n",
    "    from sympy import symbols, Eq, solve\n",
    "    import numpy as np\n",
    "    import random\n",
    "    import seaborn as sns \n",
    "    import pandas as pd\n",
    "    import graphing as gr\n",
    "    #!pip install viola\n",
    "    ########## Modules required for artist drawing on matplotlib\n",
    "    import matplotlib.path as mpath\n",
    "    import matplotlib.lines as mlines\n",
    "    import matplotlib.patches as mpatches\n",
    "    from matplotlib.collections import PatchCollection\n",
    "    \n",
    "      \n",
    "except ModuleNotFoundError:\n",
    "        print(\"A class you are trying to import is not present in the directory\")\n",
    "    \n",
    "except Exception:\n",
    "        print(\"Something went wrong - modules have not been imported\")\n",
    "\n",
    "else: \n",
    "    print(\"All relevant classes imported\")"
   ]
  },
  {
   "cell_type": "markdown",
   "id": "6bc6a62d",
   "metadata": {},
   "source": [
    "## Select file"
   ]
  },
  {
   "cell_type": "code",
   "execution_count": 7,
   "id": "2ed402ed",
   "metadata": {},
   "outputs": [
    {
     "data": {
      "application/vnd.jupyter.widget-view+json": {
       "model_id": "b9b7c735ffaf40789dfd48bd790746e2",
       "version_major": 2,
       "version_minor": 0
      },
      "text/plain": [
       "Text(value=' Exp6-1-1', description='File name')"
      ]
     },
     "metadata": {},
     "output_type": "display_data"
    },
    {
     "data": {
      "application/vnd.jupyter.widget-view+json": {
       "model_id": "ca9df38a52f8488e9db1cd829c22a1d6",
       "version_major": 2,
       "version_minor": 0
      },
      "text/plain": [
       "Button(button_style='success', description='Select file', style=ButtonStyle())"
      ]
     },
     "metadata": {},
     "output_type": "display_data"
    },
    {
     "data": {
      "application/vnd.jupyter.widget-view+json": {
       "model_id": "4ac04f49dd3d49d4a8a77c69a5726af3",
       "version_major": 2,
       "version_minor": 0
      },
      "text/plain": [
       "Output()"
      ]
     },
     "metadata": {},
     "output_type": "display_data"
    },
    {
     "name": "stdout",
     "output_type": "stream",
     "text": [
      "File found and content loaded into memory\n"
     ]
    }
   ],
   "source": [
    "#######################################################\n",
    "#### GUI \n",
    "\n",
    "edt_filename = widgets.Text(description = 'File name', value=' Exp6-1-1')\n",
    "btn_select = widgets.Button(description = 'Select file',button_style='success')\n",
    "output_file = widgets.Output()\n",
    "\n",
    "display(edt_filename, btn_select,output_file)\n",
    "\n",
    "\n",
    "\n",
    "#######################################################\n",
    "#### FUNCTIONS\n",
    "\n",
    "\n",
    "#df_flux = pd.DataFrame({'Compartment':[],'Na_net':[], 'Na_leak':[],'Na_Atpase':[], 'K_net':[],'K_leak':[],'K_Atpase':[],'K_kcc2':[], 'Cl_net':[],'Cl_kcc2':[],'X':[],'z':[]  })\n",
    "df_ed = pd.DataFrame({'Boundary':[],'Na':[],'K':[],'Cl':[]})\n",
    "\n",
    "\n",
    "\n",
    "def btn_select_clicked(b):\n",
    "    global file_name, df_end, df_start, df_end_flux, df_end_ed, df_end_net_flux\n",
    "    file_name = \"\\\\\"\n",
    "    file_name = file_name + edt_filename.value \n",
    "    \n",
    "    try: \n",
    "        with h5py.File(file_name, mode='r') as hdf:\n",
    "            \n",
    "            print(\"File found and content loaded into memory\")\n",
    "            global C, comp_names_arr, intervals, interval_arr, t_arr,v_arr, na_arr,cl_arr,ecl_arr,g_syn_arr\n",
    "            C = hdf.get('COMPARTMENTS')\n",
    "            C_group_arr =[]\n",
    "            t_arr_bool = True\n",
    "            comp_names_arr= list(C.keys())\n",
    "                        \n",
    "            C1 = C.get(comp_names_arr[0])\n",
    "            \n",
    "            T = hdf.get('TIMING')\n",
    "            total_t = T.get('TOTAL_T')[()]\n",
    "            intervals = T.get('INTERVALS')[()]\n",
    "            dt = T.get(\"DT\")[()]\n",
    "            #total_t = T.get('EXTENDED_TOTAL_T')[()]\n",
    "            #intervals = T.get('EXTENDED_INTERVALS')[()]\n",
    "            #dt = T.get(\"EXTENDED_DT\")[()]\n",
    "            \n",
    "            total_steps = total_t /dt          \n",
    "            interval_step = total_steps / intervals\n",
    "            #interval_step =250000\n",
    "            interval_arr = [round(interval_step * i) for i in range(intervals)]\n",
    "            v_arr = []\n",
    "            ecl_arr = []\n",
    "            t_arr =[]   \n",
    "            na_arr = []\n",
    "            cl_arr = []\n",
    "            g_syn_arr = []\n",
    "            \n",
    "            \n",
    "            ##### LOADING COMPARTMENT DATA\n",
    "            for e in range(len(comp_names_arr)):\n",
    "                C_group = C.get(comp_names_arr[e])\n",
    "                C_group_arr.append(C_group)\n",
    "                       \n",
    "                v_temp_arr = []\n",
    "                ecl_temp_arr = []\n",
    "                na_temp_arr = []\n",
    "                cl_temp_arr =[]\n",
    "                g_syn_temp_arr = []\n",
    "                for j in range(len(list(C_group.keys()))):\n",
    "                    dataset = C_group.get(str(interval_arr[j]))\n",
    "                    if comp_names_arr[e] == 'Comp4' or comp_names_arr[e] == 'Comp8':\n",
    "                        \n",
    "                        v_temp_arr.append(dataset[-4]*1e3)\n",
    "                        ecl_temp_arr.append(dataset[-2]*1e3)\n",
    "                        na_temp_arr.append(dataset[4]*1e3)\n",
    "                        cl_temp_arr.append(dataset[6]*1e3)\n",
    "                        g_syn_temp_arr.append(dataset[-1]*1e9)\n",
    "                    else:\n",
    "                        v_temp_arr.append(dataset[-3]*1e3)\n",
    "                        ecl_temp_arr.append(dataset[-1]*1e3)\n",
    "                        na_temp_arr.append(dataset[4]*1e3)\n",
    "                        cl_temp_arr.append(dataset[6]*1e3)\n",
    "                        #g_syn_temp_arr.append(dataset[-1]*1e9)\n",
    "                    if t_arr_bool == True:\n",
    "                        t_arr.append(dataset[0])\n",
    "                    \n",
    "                v_arr.append(v_temp_arr)\n",
    "                ecl_arr.append(ecl_temp_arr)\n",
    "                na_arr.append(na_temp_arr)\n",
    "                cl_arr.append(cl_temp_arr)\n",
    "                g_syn_arr.append(g_syn_temp_arr)\n",
    "                t_arr_bool = False\n",
    "                \n",
    "            \n",
    "         \n",
    "            \n",
    "    except: \n",
    "        raise(\"File not found\")\n",
    "        raise(\"File needs to be in base directory\")\n",
    "\n",
    "\n",
    "btn_select.on_click(btn_select_clicked)"
   ]
  },
  {
   "cell_type": "code",
   "execution_count": 8,
   "id": "49f5f830",
   "metadata": {},
   "outputs": [
    {
     "name": "stdout",
     "output_type": "stream",
     "text": [
      "10000\n",
      "['Comp0(Soma)', 'Comp1', 'Comp2', 'Comp3', 'Comp4', 'Comp5', 'Comp6', 'Comp7', 'Comp8', 'Comp9']\n",
      "53.42404222791133\n"
     ]
    }
   ],
   "source": [
    "print(len(v_arr[0]))\n",
    "print(comp_names_arr)\n",
    "\n",
    "\n",
    "peak_soma_v = -100\n",
    "for i in range(len(v_arr[0])):\n",
    "    if v_arr[0][i] > peak_soma_v:\n",
    "        peak_soma_v = v_arr[0][i]\n",
    "        \n",
    "        \n",
    "print(peak_soma_v)\n"
   ]
  },
  {
   "cell_type": "code",
   "execution_count": 10,
   "id": "521ede52",
   "metadata": {},
   "outputs": [
    {
     "data": {
      "text/plain": [
       "Text(379.55090909090916, 0.5, 'mV')"
      ]
     },
     "execution_count": 10,
     "metadata": {},
     "output_type": "execute_result"
    },
    {
     "data": {
      "image/png": "[encoded data removed]",
      "text/plain": [
       "<Figure size 288x432 with 3 Axes>"
      ]
     },
     "metadata": {
      "needs_background": "light"
     },
     "output_type": "display_data"
    },
    {
     "data": {
      "image/png": "[encoded data removed]",
      "text/plain": [
       "<Figure size 432x144 with 4 Axes>"
      ]
     },
     "metadata": {
      "needs_background": "light"
     },
     "output_type": "display_data"
    }
   ],
   "source": [
    "f6a, [ax_1,ax_2,ax_3] = mplt.subplots(3,1, figsize=(4,6))\n",
    "\n",
    "t2_arr = [t_arr[i]*1e3 for i in range(len(t_arr))]\n",
    "\n",
    "\n",
    "ax_3.plot(t2_arr[5:],v_arr[0][5:], label=comp_names_arr[0],color='#011f4b')\n",
    "ax_2.plot(t2_arr[5:],v_arr[4][5:], label=comp_names_arr[4],color='#005b96')\n",
    "ax_1.plot(t2_arr[5:],v_arr[8][5:], label=comp_names_arr[8],color='#6497b1')\n",
    "\n",
    "\n",
    "ax_2.set_ylabel(\"Membrane Potential (mV)\", fontsize =14)\n",
    "ax_3.set_xlabel(\"Simulation time (ms)\", fontsize =14)\n",
    "ax_3.tick_params(axis='y', which='major', labelsize=10)\n",
    "ax_2.tick_params(axis='y', which='major', labelsize=10)\n",
    "ax_1.tick_params(axis='y', which='major', labelsize=10)\n",
    "ax_1.legend(fontsize=10,frameon=False)\n",
    "ax_1.xaxis.set_ticks([])\n",
    "ax_2.xaxis.set_ticks([])\n",
    "sns.despine(ax=ax_1,bottom=True,offset=5)\n",
    "sns.despine(ax=ax_2,bottom=True,offset=5)\n",
    "sns.despine(ax=ax_3,bottom=False,offset=5)\n",
    "ax_2.legend(fontsize=10,frameon=False)\n",
    "ax_3.legend(fontsize=10,frameon=False)\n",
    "\n",
    "#########################################################\n",
    "#########################################################\n",
    "\n",
    "f6a2, [ax_vm,ax_ecl] = mplt.subplots(2,1, figsize=(6,2))\n",
    "cl_cmap = sns.light_palette('#1b9e77', as_cmap=True)\n",
    "vm_heat_arr = [v_arr[4][::]]\n",
    "ecl_heat_arr = [ecl_arr[4][::]]\n",
    "g = sns.heatmap(vm_heat_arr,cmap='Greys',vmin=-80,vmax=-20, xticklabels=False,yticklabels=True, annot=False, ax=ax_vm,\n",
    "                    cbar_kws={'pad':0.05,'orientation':'vertical' }, linewidth=0.00 )\n",
    "\n",
    "g.set_yticklabels(['Comp4 Vm'], fontsize=12, rotation=0)\n",
    "cbar = g.collections[0].colorbar\n",
    "cbar.ax.tick_params(labelsize=8)\n",
    "cbar.ax.set_ylabel('mV',fontsize=12)\n",
    "\n",
    "g2 = sns.heatmap(ecl_heat_arr,cmap=cl_cmap,vmin=-100,vmax=-70,xticklabels=False,yticklabels=True, annot=False, ax = ax_ecl,\n",
    "                    cbar_kws={'pad':0.05,'orientation':'vertical' }, linewidth=0.00 )\n",
    "g2.set_yticklabels(['Comp4 ECl'], fontsize=12, rotation=0)\n",
    "cbar2 = g2.collections[0].colorbar\n",
    "cbar2.ax.tick_params(labelsize=8)\n",
    "cbar2.ax.set_ylabel('mV',fontsize=12)"
   ]
  },
  {
   "cell_type": "code",
   "execution_count": 444,
   "id": "09a071a9",
   "metadata": {},
   "outputs": [
    {
     "name": "stdout",
     "output_type": "stream",
     "text": [
      "10\n"
     ]
    },
    {
     "data": {
      "text/plain": [
       "Text(301.3781818181819, 0.5, 'nS')"
      ]
     },
     "execution_count": 444,
     "metadata": {},
     "output_type": "execute_result"
    },
    {
     "data": {
      "image/png": "[encoded data removed]",
      "text/plain": [
       "<Figure size 432x288 with 1 Axes>"
      ]
     },
     "metadata": {
      "needs_background": "light"
     },
     "output_type": "display_data"
    },
    {
     "data": {
      "image/png": "[encoded data removed]",
      "text/plain": [
       "<Figure size 360x108 with 4 Axes>"
      ]
     },
     "metadata": {
      "needs_background": "light"
     },
     "output_type": "display_data"
    }
   ],
   "source": [
    "print(len(na_arr))\n",
    "mplt.plot(t2_arr,na_arr[8][:])\n",
    "mplt.plot(t2_arr,cl_arr[4][:])\n",
    "#delta_na_arr = [na_arr[8][1900 + i] - na_arr[8][1899+i] for i in range(2200)]\n",
    "#delta_cl_arr = [cl_arr[4][1900 + i] - cl_arr[4][1899+i] for i in range(2200)]\n",
    "#na_heat_arr = [delta_na_arr[::50]]\n",
    "#cl_heat_arr = [delta_cl_arr[::50]]\n",
    "g_GABA_heat_arr = [g_syn_arr[4][1800:6000:1]]\n",
    "g_NMDA_heat_arr = [g_syn_arr[8][1800:6000:1]]\n",
    "cl_cmap = sns.light_palette('#1b9e77', as_cmap=True)\n",
    "na_cmap = sns.light_palette('#e7298a', as_cmap=True)\n",
    "\n",
    "f6_heat, [ax_na,ax_cl] = mplt.subplots(2,1, figsize=(5,1.5))\n",
    "\n",
    "g = sns.heatmap(g_NMDA_heat_arr,cmap='Reds',xticklabels=False,yticklabels=True, annot=False, ax=ax_na,\n",
    "                    cbar_kws={'pad':0.05,'orientation':'vertical' }, linewidth=0.00 )\n",
    "g.set_yticklabels(['g_NMDA'], fontsize=12, rotation=0)\n",
    "cbar = g.collections[0].colorbar\n",
    "cbar.ax.tick_params(labelsize=8)\n",
    "cbar.ax.set_ylabel('nS',fontsize=12)\n",
    "\n",
    "g2 = sns.heatmap(g_GABA_heat_arr,cmap='Greens',xticklabels=False,yticklabels=True, annot=False, ax = ax_cl,\n",
    "                    cbar_kws={'pad':0.05,'orientation':'vertical' }, linewidth=0.00 )\n",
    "g2.set_yticklabels(['g_GABA'], fontsize=12, rotation=0)\n",
    "cbar2 = g2.collections[0].colorbar\n",
    "cbar2.ax.tick_params(labelsize=8)\n",
    "cbar2.ax.set_ylabel('nS',fontsize=12)"
   ]
  },
  {
   "cell_type": "code",
   "execution_count": null,
   "id": "6e670dd7",
   "metadata": {},
   "outputs": [],
   "source": []
  }
 ],
 "metadata": {
  "kernelspec": {
   "display_name": "Python 3 (ipykernel)",
   "language": "python",
   "name": "python3"
  },
  "language_info": {
   "codemirror_mode": {
    "name": "ipython",
    "version": 3
   },
   "file_extension": ".py",
   "mimetype": "text/x-python",
   "name": "python",
   "nbconvert_exporter": "python",
   "pygments_lexer": "ipython3",
   "version": "3.9.7"
  }
 },
 "nbformat": 4,
 "nbformat_minor": 5
}
