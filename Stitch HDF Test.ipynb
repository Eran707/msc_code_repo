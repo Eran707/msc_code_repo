{
 "cells": [
  {
   "cell_type": "code",
   "execution_count": 219,
   "id": "48f54edf",
   "metadata": {},
   "outputs": [],
   "source": [
    "import numpy as np\n",
    "import h5py\n",
    "import simulator3\n",
    "import compartment\n",
    "import electrodiffusion\n",
    "import common"
   ]
  },
  {
   "cell_type": "markdown",
   "id": "4cb72ad2",
   "metadata": {},
   "source": [
    "### Reading old file"
   ]
  },
  {
   "cell_type": "code",
   "execution_count": 277,
   "id": "8bf81332",
   "metadata": {},
   "outputs": [
    {
     "name": "stdout",
     "output_type": "stream",
     "text": [
      "Total_time: 120\n",
      "Total_intervals: 1000\n",
      "Comp1 last interval = 932\n",
      "Comp2 last interval = 932\n",
      "Comp3 last interval = 932\n",
      "Comp4 last interval = 932\n",
      "Comp5 last interval = 932\n",
      "Comp6 last interval = 932\n",
      "Comp7 last interval = 932\n",
      "Comp8 last interval = 932\n",
      "Comp9 last interval = 932\n"
     ]
    }
   ],
   "source": [
    "\n",
    "base_file_name = \"T5\"\n",
    "new_file_name = \"T5_stitch\"\n",
    "\n",
    "\n",
    "\n",
    "with h5py.File(base_file_name, mode='r') as hdf_old:\n",
    "    C = hdf_old.get('COMPARTMENTS')\n",
    "    C_group_arr = []\n",
    "    comp_names_arr = list(C.keys())\n",
    "\n",
    "    T = hdf_old.get('TIMING')\n",
    "    total_t = T.get('TOTAL_T')[()]\n",
    "    intervals = T.get('INTERVALS')[()]\n",
    "    dt = T.get(\"DT\")[()]\n",
    "    total_steps = total_t / dt\n",
    "    interval_step = total_steps / intervals\n",
    "    interval_arr = [round(interval_step * i) for i in range(intervals)]\n",
    "    \n",
    "    print('Total_time: ' + str(total_t))\n",
    "    print('Total_intervals: ' + str(intervals))\n",
    "    \n",
    "    \n",
    "    for e in comp_names_arr:\n",
    "\n",
    "        comp_name = e\n",
    "        current_comp = C.get(comp_name)\n",
    "    \n",
    "        try:\n",
    "            last_interval = 0\n",
    "            for j in range(len(list(current_comp.keys()))):\n",
    "                #dataset = C_group.get(str(interval_arr[j]))\n",
    "                last_interval += 1\n",
    "            print(e + ' last interval = ' + str(last_interval))\n",
    "        except:\n",
    "            print(last_interval)\n",
    "\n",
    "            \n",
    "\n"
   ]
  },
  {
   "cell_type": "code",
   "execution_count": 278,
   "id": "46b535fa",
   "metadata": {},
   "outputs": [
    {
     "name": "stdout",
     "output_type": "stream",
     "text": [
      "simulation file ('T5_stitch') created in base directory\n",
      "['COMPARTMENTS', 'CURRENT-SETTINGS', 'ELECTRODIFFUSION', 'SYNAPSE-SETTINGS', 'TIMING', 'X-FLUX-SETTINGS']\n",
      "<HDF5 group \"/COMPARTMENTS/Comp1\" (932 members)>\n",
      "<HDF5 group \"/COMPARTMENTS/Comp2\" (932 members)>\n",
      "<HDF5 group \"/COMPARTMENTS/Comp3\" (932 members)>\n",
      "<HDF5 group \"/COMPARTMENTS/Comp4\" (932 members)>\n",
      "<HDF5 group \"/COMPARTMENTS/Comp5\" (932 members)>\n",
      "<HDF5 group \"/COMPARTMENTS/Comp6\" (932 members)>\n",
      "<HDF5 group \"/COMPARTMENTS/Comp7\" (932 members)>\n",
      "<HDF5 group \"/COMPARTMENTS/Comp8\" (932 members)>\n",
      "<HDF5 group \"/COMPARTMENTS/Comp9\" (932 members)>\n",
      "<HDF5 group \"/ELECTRODIFFUSION/Comp1 -> Comp2\" (931 members)>\n",
      "<HDF5 group \"/ELECTRODIFFUSION/Comp2 -> Comp3\" (931 members)>\n",
      "<HDF5 group \"/ELECTRODIFFUSION/Comp3 -> Comp4\" (931 members)>\n",
      "<HDF5 group \"/ELECTRODIFFUSION/Comp4 -> Comp5\" (931 members)>\n",
      "<HDF5 group \"/ELECTRODIFFUSION/Comp5 -> Comp6\" (931 members)>\n",
      "<HDF5 group \"/ELECTRODIFFUSION/Comp6 -> Comp7\" (931 members)>\n",
      "<HDF5 group \"/ELECTRODIFFUSION/Comp7 -> Comp8\" (931 members)>\n",
      "<HDF5 group \"/ELECTRODIFFUSION/Comp8 -> Comp9\" (931 members)>\n",
      "<HDF5 dataset \"DT\": shape (), type \"<f8\">\n",
      "<HDF5 dataset \"INTERVALS\": shape (), type \"<i4\">\n",
      "<HDF5 dataset \"TOTAL_T\": shape (), type \"<i4\">\n"
     ]
    }
   ],
   "source": [
    "new_sim = simulator3.Simulator(new_file_name)\n",
    "# creates a new file in C://\n",
    "\n",
    "new_file_name = \"C:\\ T5_stitch\"\n",
    "with h5py.File(new_file_name, mode='r+') as hdf_new:\n",
    "    \n",
    "    hdf_new.filename \n",
    "    with h5py.File(base_file_name, mode='r') as hdf_old:\n",
    "        groups = hdf_old.keys()\n",
    "        groups_list = list(groups) \n",
    "        print(groups_list)\n",
    "        for i in range(len(groups_list)):\n",
    "            hdf_new_group = hdf_new.get(groups_list[i])\n",
    "            group = hdf_old.get(groups_list[i])\n",
    "            subgroups = group.keys()\n",
    "            subgroups_list = list(subgroups)\n",
    "            for j in range(len(subgroups_list)):\n",
    "                subgroup = group.get(subgroups_list[j])\n",
    "                print(subgroup)\n",
    "                hdf_old.copy(subgroup, hdf_new[groups_list[i]])\n",
    "            \n",
    "        \n",
    "            #hdf_old.copy(groups[i],group)\n",
    "            \n",
    "            #hdf_new.create_group(group)\n",
    "        #hdf_new.create_group('COMPARTMENTS')\n",
    "   "
   ]
  },
  {
   "cell_type": "markdown",
   "id": "2b239e7d",
   "metadata": {},
   "source": [
    "### Setting up new simulation"
   ]
  },
  {
   "cell_type": "code",
   "execution_count": 279,
   "id": "90fe3d00",
   "metadata": {},
   "outputs": [],
   "source": [
    "\n",
    "with h5py.File(new_file_name, mode='a') as hdf:\n",
    "    C = hdf.get('COMPARTMENTS')\n",
    "    C_group_arr = []\n",
    "    comp_names_arr = list(C.keys())\n",
    "\n",
    "    T = hdf.get('TIMING')\n",
    "    total_t = T.get('TOTAL_T')[()]\n",
    "    intervals = T.get('INTERVALS')[()]\n",
    "    dt = T.get(\"DT\")[()]\n",
    "    total_steps = total_t / dt\n",
    "    interval_step = total_steps / intervals\n",
    "    interval_arr = [round(interval_step * i) for i in range(intervals)]\n",
    "    \n",
    "    starting_sa_arr = []\n",
    "    starting_na_arr = []\n",
    "\n",
    "    for i in comp_names_arr:\n",
    "        temp_arr = []\n",
    "        comp_name = i\n",
    "        current_comp = C.get(comp_name)\n",
    "        \n",
    "        first_time_point = str(0)\n",
    "        first_dataset = current_comp.get(first_time_point)\n",
    "        \n",
    "        radius = first_dataset[1]\n",
    "        length = first_dataset[2]\n",
    "        na = first_dataset[4]\n",
    "        \n",
    "        starting_sa_arr.append(2*np.pi * radius* length)\n",
    "        starting_na_arr.append(na)\n",
    "        \n",
    "        \n",
    "        last_time_point = str(interval_arr[last_interval-1])\n",
    "        last_dataset = current_comp.get(last_time_point)\n",
    "        last_dataset = list(last_dataset)\n",
    "\n",
    "        radius = last_dataset[1]\n",
    "        length = last_dataset[2]\n",
    "        na_i = last_dataset[4]\n",
    "        k_i = last_dataset[5]\n",
    "        cl_i = last_dataset[6]\n",
    "        x_i = last_dataset[7]\n",
    "        z_i = last_dataset[8]\n",
    "        vm = last_dataset[-3]\n",
    "\n",
    "        if comp_name == \"Comp0(Soma)\":\n",
    "            comp = compartment.Compartment(comp_name, radius, length, static_sa=True, sa_value=2 * np.pi * 1e-5 * 40e-5)\n",
    "            comp.set_ion_properties(na_i, k_i, cl_i, x_i, z_i, osmol_neutral_start=False, adjust_x=False)\n",
    "        else:\n",
    "            comp = compartment.Compartment(comp_name, radius, length, static_sa=True,\n",
    "                                           sa_value=2 * np.pi * 0.5e-5 * 20e-5)\n",
    "            comp.set_ion_properties(na_i, k_i, cl_i, x_i, z_i, osmol_neutral_start=False)\n",
    "        # comp.set_voltages(vm)\n",
    "        new_sim.comp_arr.append(comp)\n",
    "\n",
    "    hdf.close()"
   ]
  },
  {
   "cell_type": "markdown",
   "id": "a8de9800",
   "metadata": {},
   "source": [
    "### Adding sim settings"
   ]
  },
  {
   "cell_type": "code",
   "execution_count": 280,
   "id": "ae27dffd",
   "metadata": {},
   "outputs": [],
   "source": [
    "\n",
    "for i in range(len(comp_arr)):\n",
    "    new_sim.comp_arr[i].sa = starting_sa_arr[i]\n",
    "    new_sim.comp_arr[i].na_i_start = starting_na_arr[i]\n",
    "    \n",
    "new_sim.set_sa_static(static_sa=True)\n",
    "new_sim.set_atpase_static(static_atpase=True)\n",
    "\n",
    "\n",
    "new_sim.set_external_ion_properties()\n"
   ]
  },
  {
   "cell_type": "markdown",
   "id": "d26a088e",
   "metadata": {},
   "source": [
    "### Adding electrodiffusion"
   ]
  },
  {
   "cell_type": "code",
   "execution_count": 281,
   "id": "dfd392a1",
   "metadata": {},
   "outputs": [],
   "source": [
    "new_sim.ED_on = True\n",
    "new_sim.diff_constants_dict={\"na\": (1.33 / 2) * 1e-7, \"k\": (1.96 / 2) * 1e-7, \"cl\": (2.03 / 2) * 1e-7, \"x\": 0}\n",
    "\n",
    "new_sim.ed_arr =[ ]\n",
    "for e in range(len(new_sim.comp_arr)-1):\n",
    "    name =new_sim.comp_arr[e].name + ' -> ' + new_sim.comp_arr[e + 1].name\n",
    "\n",
    "    ed = electrodiffusion.Electrodiffusion(comp_a_name=new_sim.comp_arr[e].name,\n",
    "                                          comp_a_length=new_sim.comp_arr[e].length,\n",
    "                                          comp_b_name=new_sim.comp_arr[e + 1].name,\n",
    "                                          comp_b_length=new_sim.comp_arr[e + 1].length)\n",
    "\n",
    "    ed.set_diff_constants(new_sim.diff_constants_dict)\n",
    "    new_sim.ed_arr.append(ed)\n"
   ]
  },
  {
   "cell_type": "markdown",
   "id": "6cdf85b3",
   "metadata": {},
   "source": [
    "### Setting timing"
   ]
  },
  {
   "cell_type": "code",
   "execution_count": 282,
   "id": "76bbf8ea",
   "metadata": {},
   "outputs": [
    {
     "name": "stdout",
     "output_type": "stream",
     "text": [
      "Total intervals: 1000\n",
      "Current interval: 932\n",
      "Remaining intervals: 68\n",
      "Time remaining: 8.280000000000001\n",
      "Steps remaining: 8280000.000000002\n",
      "Interval_step: 121764.70588235297\n"
     ]
    }
   ],
   "source": [
    "new_sim.dt = dt\n",
    "new_sim.total_t = total_t\n",
    "new_sim.start_t = interval_arr[last_interval-1]*1e-6\n",
    "new_sim.remaining_t = new_sim.total_t - new_sim.start_t\n",
    "new_sim.total_steps = new_sim.remaining_t / new_sim.dt\n",
    "new_sim.remaining_intervals = intervals - last_interval\n",
    "print(\"Total intervals: \" + str(intervals))\n",
    "print(\"Current interval: \" + str(last_interval))\n",
    "print(\"Remaining intervals: \" + str(new_sim.remaining_intervals))\n",
    "\n",
    "print(\"Time remaining: \" + str(new_sim.remaining_t))\n",
    "print(\"Steps remaining: \" + str(new_sim.total_steps))\n",
    "new_sim.output_intervals = (0.001, 0.005, 0.01, 0.1, 0.25, 0.5, 0.75, 1)\n",
    "new_sim.output_arr = [round(new_sim.output_intervals[a] * new_sim.total_steps, 0) for a in\n",
    "                           range(len(new_sim.output_intervals))]\n",
    "new_sim.output_arr = tuple(new_sim.output_arr)\n",
    "\n",
    "new_sim.interval_step = new_sim.total_steps / new_sim.remaining_intervals\n",
    "print(\"Interval_step: \" + str(new_sim.interval_step))\n",
    "\n",
    "new_sim.interval_arr = [round(new_sim.interval_step * i) for i in range(new_sim.remaining_intervals)]\n",
    "new_sim.interval_arr = tuple(new_sim.interval_arr)\n"
   ]
  },
  {
   "cell_type": "markdown",
   "id": "9b558219",
   "metadata": {},
   "source": [
    "### Flux settings"
   ]
  },
  {
   "cell_type": "code",
   "execution_count": 283,
   "id": "533c29ac",
   "metadata": {},
   "outputs": [
    {
     "name": "stdout",
     "output_type": "stream",
     "text": [
      "Comp1\n",
      "Comp2\n",
      "Comp3\n",
      "Comp4\n",
      "Comp5\n",
      "Comp6\n",
      "Comp7\n",
      "Comp8\n",
      "Comp9\n"
     ]
    }
   ],
   "source": [
    "for i in new_sim.comp_arr:\n",
    "    print(i.name)"
   ]
  },
  {
   "cell_type": "code",
   "execution_count": 284,
   "id": "bb0b6b9a",
   "metadata": {},
   "outputs": [
    {
     "name": "stdout",
     "output_type": "stream",
     "text": [
      "\\ T5_stitch\n",
      "['COMPARTMENTS', 'CURRENT-SETTINGS', 'ELECTRODIFFUSION', 'SYNAPSE-SETTINGS', 'TIMING', 'X-FLUX-SETTINGS']\n",
      "['Comp1', 'Comp2', 'Comp3', 'Comp4', 'Comp5', 'Comp6', 'Comp7', 'Comp8', 'Comp9']\n"
     ]
    }
   ],
   "source": [
    "print(new_sim.file_name)\n",
    "with h5py.File(new_sim.file_name, mode='r') as hdf:\n",
    "    print(list(hdf.keys()))\n",
    "    C = hdf.get('COMPARTMENTS')  \n",
    "    print(list(C.keys()))\n",
    "      "
   ]
  },
  {
   "cell_type": "code",
   "execution_count": 285,
   "id": "71e131d1",
   "metadata": {},
   "outputs": [
    {
     "name": "stdout",
     "output_type": "stream",
     "text": [
      "0.1 % complete in 3.68 s\n",
      "0.5 % complete in 17.93 s\n",
      "1.0 % complete in 35.6 s\n",
      "Estimated time to complete :59.33 minutes\n",
      "10.0 % complete in 397.57 s\n",
      "25.0 % complete in 959.93 s\n",
      "50.0 % complete in 2031.45 s\n",
      "75.0 % complete in 2899.59 s\n"
     ]
    },
    {
     "ename": "KeyboardInterrupt",
     "evalue": "",
     "output_type": "error",
     "traceback": [
      "\u001b[1;31m---------------------------------------------------------------------------\u001b[0m",
      "\u001b[1;31mKeyboardInterrupt\u001b[0m                         Traceback (most recent call last)",
      "\u001b[1;32m~\\AppData\\Local\\Temp/ipykernel_11792/704591358.py\u001b[0m in \u001b[0;36m<module>\u001b[1;34m\u001b[0m\n\u001b[1;32m----> 1\u001b[1;33m \u001b[0mnew_sim\u001b[0m\u001b[1;33m.\u001b[0m\u001b[0mrun_simulation\u001b[0m\u001b[1;33m(\u001b[0m\u001b[1;33m)\u001b[0m\u001b[1;33m\u001b[0m\u001b[1;33m\u001b[0m\u001b[0m\n\u001b[0m",
      "\u001b[1;32mC:\\00_ERAN\\Academics\\MSc\\msc_repo_2\\02_Code\\Multicompartment Trials\\msc_code_repo\\simulator3.py\u001b[0m in \u001b[0;36mrun_simulation\u001b[1;34m(self)\u001b[0m\n\u001b[0;32m    456\u001b[0m         \u001b[0mself\u001b[0m\u001b[1;33m.\u001b[0m\u001b[0minterval_num\u001b[0m \u001b[1;33m=\u001b[0m \u001b[0mstart_int\u001b[0m\u001b[1;33m\u001b[0m\u001b[1;33m\u001b[0m\u001b[0m\n\u001b[0;32m    457\u001b[0m         \u001b[0mself\u001b[0m\u001b[1;33m.\u001b[0m\u001b[0msteps\u001b[0m \u001b[1;33m=\u001b[0m \u001b[1;36m0\u001b[0m\u001b[1;33m\u001b[0m\u001b[1;33m\u001b[0m\u001b[0m\n\u001b[1;32m--> 458\u001b[1;33m \u001b[1;33m\u001b[0m\u001b[0m\n\u001b[0m\u001b[0;32m    459\u001b[0m         \u001b[0mself\u001b[0m\u001b[1;33m.\u001b[0m\u001b[0mrun_t\u001b[0m \u001b[1;33m=\u001b[0m \u001b[0mstart_t\u001b[0m\u001b[1;33m\u001b[0m\u001b[1;33m\u001b[0m\u001b[0m\n\u001b[0;32m    460\u001b[0m         \u001b[1;32mwhile\u001b[0m \u001b[0mself\u001b[0m\u001b[1;33m.\u001b[0m\u001b[0mrun_t\u001b[0m \u001b[1;33m<\u001b[0m \u001b[0mself\u001b[0m\u001b[1;33m.\u001b[0m\u001b[0mtotal_t\u001b[0m\u001b[1;33m:\u001b[0m\u001b[1;33m\u001b[0m\u001b[1;33m\u001b[0m\u001b[0m\n",
      "\u001b[1;32mC:\\00_ERAN\\Academics\\MSc\\msc_repo_2\\02_Code\\Multicompartment Trials\\msc_code_repo\\compartment.py\u001b[0m in \u001b[0;36mstep\u001b[1;34m(self)\u001b[0m\n\u001b[0;32m    245\u001b[0m             \u001b[0mself\u001b[0m\u001b[1;33m.\u001b[0m\u001b[0md_k_i\u001b[0m \u001b[1;33m=\u001b[0m \u001b[0mself\u001b[0m\u001b[1;33m.\u001b[0m\u001b[0md_k_leak\u001b[0m \u001b[1;33m+\u001b[0m \u001b[0mself\u001b[0m\u001b[1;33m.\u001b[0m\u001b[0md_k_atpase\u001b[0m \u001b[1;33m+\u001b[0m \u001b[0mself\u001b[0m\u001b[1;33m.\u001b[0m\u001b[0md_k_kcc2\u001b[0m\u001b[1;33m\u001b[0m\u001b[1;33m\u001b[0m\u001b[0m\n\u001b[0;32m    246\u001b[0m \u001b[1;33m\u001b[0m\u001b[0m\n\u001b[1;32m--> 247\u001b[1;33m         \u001b[0mself\u001b[0m\u001b[1;33m.\u001b[0m\u001b[0md_cl_leak\u001b[0m \u001b[1;33m=\u001b[0m \u001b[1;33m+\u001b[0m \u001b[0mself\u001b[0m\u001b[1;33m.\u001b[0m\u001b[0mdt\u001b[0m \u001b[1;33m*\u001b[0m \u001b[0mself\u001b[0m\u001b[1;33m.\u001b[0m\u001b[0msa\u001b[0m \u001b[1;33m/\u001b[0m \u001b[0mself\u001b[0m\u001b[1;33m.\u001b[0m\u001b[0mw\u001b[0m \u001b[1;33m*\u001b[0m \u001b[0mgcl\u001b[0m \u001b[1;33m*\u001b[0m \u001b[1;33m(\u001b[0m\u001b[0mself\u001b[0m\u001b[1;33m.\u001b[0m\u001b[0mv\u001b[0m \u001b[1;33m+\u001b[0m \u001b[0mRTF\u001b[0m \u001b[1;33m*\u001b[0m \u001b[0mnp\u001b[0m\u001b[1;33m.\u001b[0m\u001b[0mlog\u001b[0m\u001b[1;33m(\u001b[0m\u001b[0mself\u001b[0m\u001b[1;33m.\u001b[0m\u001b[0mcl_o\u001b[0m \u001b[1;33m/\u001b[0m \u001b[0mself\u001b[0m\u001b[1;33m.\u001b[0m\u001b[0mcl_i\u001b[0m\u001b[1;33m)\u001b[0m\u001b[1;33m)\u001b[0m\u001b[1;33m\u001b[0m\u001b[1;33m\u001b[0m\u001b[0m\n\u001b[0m\u001b[0;32m    248\u001b[0m         \u001b[0mself\u001b[0m\u001b[1;33m.\u001b[0m\u001b[0md_cl_kcc2\u001b[0m \u001b[1;33m=\u001b[0m \u001b[1;33m+\u001b[0m \u001b[0mself\u001b[0m\u001b[1;33m.\u001b[0m\u001b[0mdt\u001b[0m \u001b[1;33m*\u001b[0m \u001b[0mself\u001b[0m\u001b[1;33m.\u001b[0m\u001b[0msa\u001b[0m \u001b[1;33m/\u001b[0m \u001b[0mself\u001b[0m\u001b[1;33m.\u001b[0m\u001b[0mw\u001b[0m \u001b[1;33m*\u001b[0m \u001b[0mself\u001b[0m\u001b[1;33m.\u001b[0m\u001b[0mj_kcc2\u001b[0m\u001b[1;33m\u001b[0m\u001b[1;33m\u001b[0m\u001b[0m\n\u001b[0;32m    249\u001b[0m         \u001b[0mself\u001b[0m\u001b[1;33m.\u001b[0m\u001b[0md_cl_i\u001b[0m \u001b[1;33m=\u001b[0m \u001b[0mself\u001b[0m\u001b[1;33m.\u001b[0m\u001b[0md_cl_leak\u001b[0m \u001b[1;33m+\u001b[0m \u001b[0mself\u001b[0m\u001b[1;33m.\u001b[0m\u001b[0md_cl_kcc2\u001b[0m\u001b[1;33m\u001b[0m\u001b[1;33m\u001b[0m\u001b[0m\n",
      "\u001b[1;31mKeyboardInterrupt\u001b[0m: "
     ]
    }
   ],
   "source": [
    "new_sim.run_simulation()"
   ]
  },
  {
   "cell_type": "code",
   "execution_count": null,
   "id": "af96debc",
   "metadata": {},
   "outputs": [],
   "source": []
  }
 ],
 "metadata": {
  "kernelspec": {
   "display_name": "Python 3 (ipykernel)",
   "language": "python",
   "name": "python3"
  },
  "language_info": {
   "codemirror_mode": {
    "name": "ipython",
    "version": 3
   },
   "file_extension": ".py",
   "mimetype": "text/x-python",
   "name": "python",
   "nbconvert_exporter": "python",
   "pygments_lexer": "ipython3",
   "version": "3.9.7"
  }
 },
 "nbformat": 4,
 "nbformat_minor": 5
}
